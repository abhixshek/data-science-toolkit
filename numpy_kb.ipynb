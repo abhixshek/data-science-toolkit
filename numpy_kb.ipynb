{
 "cells": [
  {
   "cell_type": "markdown",
   "id": "5009445c-d2bf-4c44-bc42-a8885afb428e",
   "metadata": {},
   "source": [
    "# Numpy – numerical computing in python"
   ]
  },
  {
   "cell_type": "code",
   "execution_count": 1,
   "id": "d0d3178b-1f31-47d3-9c27-f11a50379d18",
   "metadata": {},
   "outputs": [],
   "source": [
    "import numpy as np"
   ]
  },
  {
   "cell_type": "code",
   "execution_count": 2,
   "id": "1644bea2-58be-4614-a9bf-cfaee03f944b",
   "metadata": {},
   "outputs": [],
   "source": [
    "import pandas as pd"
   ]
  },
  {
   "cell_type": "code",
   "execution_count": 3,
   "id": "2f01a8d0-d3a5-4b79-ab52-7b404363e11c",
   "metadata": {},
   "outputs": [],
   "source": [
    "import sys"
   ]
  },
  {
   "cell_type": "code",
   "execution_count": 4,
   "id": "dff25292-2840-4b58-923a-707b7adf7c4a",
   "metadata": {},
   "outputs": [
    {
     "data": {
      "text/plain": [
       "'1.26.4'"
      ]
     },
     "execution_count": 4,
     "metadata": {},
     "output_type": "execute_result"
    }
   ],
   "source": [
    "# to check numpy version installed\n",
    "np.__version__"
   ]
  },
  {
   "cell_type": "code",
   "execution_count": 5,
   "id": "bd954767-67df-4417-977b-3ad072a74fc9",
   "metadata": {},
   "outputs": [
    {
     "data": {
      "text/plain": [
       "sys.version_info(major=3, minor=9, micro=6, releaselevel='final', serial=0)"
      ]
     },
     "execution_count": 5,
     "metadata": {},
     "output_type": "execute_result"
    }
   ],
   "source": [
    "import sys\n",
    "# to check python version\n",
    "sys.version_info"
   ]
  },
  {
   "cell_type": "code",
   "execution_count": 6,
   "id": "449e5824-9e56-4d2f-b1d8-4cca606031a5",
   "metadata": {},
   "outputs": [
    {
     "name": "stdout",
     "output_type": "stream",
     "text": [
      "3\n"
     ]
    }
   ],
   "source": [
    "print(sys.version_info[0]) # prints the first element of the tuple like object above"
   ]
  },
  {
   "cell_type": "code",
   "execution_count": 7,
   "id": "4686fb2c-3509-4144-b9e2-c2dcb01e5693",
   "metadata": {},
   "outputs": [
    {
     "data": {
      "text/plain": [
       "sys.version_info"
      ]
     },
     "execution_count": 7,
     "metadata": {},
     "output_type": "execute_result"
    }
   ],
   "source": [
    "type(sys.version_info)"
   ]
  },
  {
   "cell_type": "code",
   "execution_count": 8,
   "id": "ec2e3e2f-adbc-4dd0-8624-feaf4a8a08d6",
   "metadata": {},
   "outputs": [
    {
     "name": "stdout",
     "output_type": "stream",
     "text": [
      "True\n",
      "False\n"
     ]
    }
   ],
   "source": [
    "# to get a boolean result of python version check\n",
    "print(sys.version_info >= (3,8))\n",
    "print(sys.version_info >= (3,10,1))"
   ]
  },
  {
   "cell_type": "code",
   "execution_count": 9,
   "id": "17d70d54-aecd-4504-b500-14455d4a88ca",
   "metadata": {},
   "outputs": [
    {
     "name": "stdout",
     "output_type": "stream",
     "text": [
      "True\n",
      "False\n",
      "True\n",
      "True\n",
      "False\n",
      "True\n"
     ]
    }
   ],
   "source": [
    "print((2,3) > (1,10))\n",
    "print((2,3) > (2,10))\n",
    "print((2,3) > (2,2))\n",
    "print((2,3) > (2,2,1))\n",
    "print((2,3) > (2,3,1))\n",
    "print((2,3) > (2,2,9))"
   ]
  },
  {
   "cell_type": "markdown",
   "id": "a788dc39-2065-4409-9543-0bf1684361e5",
   "metadata": {},
   "source": [
    "---\n",
    "NumPy is an essential Python library. TensorFlow and scikit-learn use NumPy arrays as inputs, and pandas and Matplotlib are built on top of NumPy.\n",
    "\n",
    "Numpy's core object is arrays.\n",
    "\n",
    "You'll discover why NumPy is so efficient and use **broadcasting** and **vectorization** to make your NumPy code even faster.\n"
   ]
  },
  {
   "cell_type": "markdown",
   "id": "9dbce712-9e88-4ebd-93cc-001db0e540a0",
   "metadata": {},
   "source": [
    "**NOTE**: numpy arrays **MUST contain all elements of the same datatype**. This condition makes them very fast compared to python lists because python doesnt need to check the element datatypes again and again in the background, it knows that all of them are of the same type. And this also results in numpy arrays occupying less space in memory compared to python lists.\n"
   ]
  },
  {
   "cell_type": "markdown",
   "id": "a6a8b5a0-035a-4625-a30a-cc0f71772a18",
   "metadata": {},
   "source": [
    "A **vector** refers to an array with one dimension. There is no distinction between row and column vectors in NumPy since no second axis is specified for 1D array"
   ]
  },
  {
   "cell_type": "code",
   "execution_count": 26,
   "id": "6cb694cc-01aa-4d17-be57-b1c354fc350f",
   "metadata": {},
   "outputs": [],
   "source": [
    "a = np.ones(5)"
   ]
  },
  {
   "cell_type": "code",
   "execution_count": 27,
   "id": "359bccf9-afbc-44b1-9a2d-37d882cfb68b",
   "metadata": {},
   "outputs": [
    {
     "data": {
      "text/plain": [
       "array([1., 1., 1., 1., 1.])"
      ]
     },
     "execution_count": 27,
     "metadata": {},
     "output_type": "execute_result"
    }
   ],
   "source": [
    "a"
   ]
  },
  {
   "cell_type": "code",
   "execution_count": 28,
   "id": "d6fe3fac-ee8b-40e7-b54e-87b52ee30050",
   "metadata": {},
   "outputs": [
    {
     "name": "stdout",
     "output_type": "stream",
     "text": [
      "[1. 1. 1. 1. 1.]\n"
     ]
    }
   ],
   "source": [
    "print(a) # printing or the str of numpy objects shows that the elements in a list, just like it shows a python list\n",
    "# with no comma between elements which is different from python lists which do show the comma"
   ]
  },
  {
   "cell_type": "code",
   "execution_count": 29,
   "id": "e5cbaf42-11f4-41b6-9f4d-762e24b690c9",
   "metadata": {},
   "outputs": [
    {
     "name": "stdout",
     "output_type": "stream",
     "text": [
      "[1, 2, 3]\n"
     ]
    }
   ],
   "source": [
    "pylist = [1, 2, 3]\n",
    "print(pylist)"
   ]
  },
  {
   "cell_type": "code",
   "execution_count": 12,
   "id": "7bdeac4c-e389-4d50-a6b4-83af0d7a10b6",
   "metadata": {},
   "outputs": [],
   "source": [
    "# you can specify the dtype as well, ex: np.int8. default is np.float64\n",
    "b = np.ones(5, np.int8)"
   ]
  },
  {
   "cell_type": "code",
   "execution_count": 13,
   "id": "b7c0bd24-62e1-4aec-b86e-661cc6e672da",
   "metadata": {},
   "outputs": [
    {
     "data": {
      "text/plain": [
       "array([1, 1, 1, 1, 1], dtype=int8)"
      ]
     },
     "execution_count": 13,
     "metadata": {},
     "output_type": "execute_result"
    }
   ],
   "source": [
    "b"
   ]
  },
  {
   "cell_type": "code",
   "execution_count": 14,
   "id": "70c13c53-dd89-49df-a437-fc649523a214",
   "metadata": {},
   "outputs": [
    {
     "data": {
      "text/plain": [
       "array([ 127, -128], dtype=int8)"
      ]
     },
     "execution_count": 14,
     "metadata": {},
     "output_type": "execute_result"
    }
   ],
   "source": [
    "np.array([127, -128], dtype=np.int8)\n",
    "# returns [127, -128]"
   ]
  },
  {
   "cell_type": "code",
   "execution_count": 15,
   "id": "7d361110-fce3-4c37-8be8-40ddb1a1eed7",
   "metadata": {},
   "outputs": [
    {
     "name": "stderr",
     "output_type": "stream",
     "text": [
      "C:\\Users\\Abhishek\\AppData\\Local\\Temp\\ipykernel_6460\\3485997012.py:1: DeprecationWarning: NumPy will stop allowing conversion of out-of-bound Python integers to integer arrays.  The conversion of 128 to int8 will fail in the future.\n",
      "For the old behavior, usually:\n",
      "    np.array(value).astype(dtype)\n",
      "will give the desired result (the cast overflows).\n",
      "  np.array([128, -129], dtype=np.int8)\n",
      "C:\\Users\\Abhishek\\AppData\\Local\\Temp\\ipykernel_6460\\3485997012.py:1: DeprecationWarning: NumPy will stop allowing conversion of out-of-bound Python integers to integer arrays.  The conversion of -129 to int8 will fail in the future.\n",
      "For the old behavior, usually:\n",
      "    np.array(value).astype(dtype)\n",
      "will give the desired result (the cast overflows).\n",
      "  np.array([128, -129], dtype=np.int8)\n"
     ]
    },
    {
     "data": {
      "text/plain": [
       "array([-128,  127], dtype=int8)"
      ]
     },
     "execution_count": 15,
     "metadata": {},
     "output_type": "execute_result"
    }
   ],
   "source": [
    "np.array([128, -129], dtype=np.int8)\n",
    "# returns [-128, 127]\n",
    "# because np.int8 covers [-128, 127] interval. any value above +127 circles back and similarly any value less than -128 circles back\n",
    "# in the other direction"
   ]
  },
  {
   "cell_type": "code",
   "execution_count": 17,
   "id": "f8288a40-047b-4c10-8059-285faa94ed3a",
   "metadata": {},
   "outputs": [
    {
     "name": "stdout",
     "output_type": "stream",
     "text": [
      "<class 'numpy.ndarray'>\n",
      "<class 'numpy.float64'>\n",
      "<class 'numpy.ndarray'>\n",
      "<class 'numpy.int8'>\n"
     ]
    }
   ],
   "source": [
    "print(type(a))\n",
    "print(type(a[1]))\n",
    "print(type(b))\n",
    "print(type(b[1]))"
   ]
  },
  {
   "cell_type": "code",
   "execution_count": 18,
   "id": "b9493d48-196b-4a3f-b6d3-7117983dc0e1",
   "metadata": {},
   "outputs": [
    {
     "data": {
      "text/plain": [
       "numpy.ndarray"
      ]
     },
     "execution_count": 18,
     "metadata": {},
     "output_type": "execute_result"
    }
   ],
   "source": [
    "type(a) # numpy.ndarray - n dimensional array"
   ]
  },
  {
   "cell_type": "code",
   "execution_count": 29,
   "id": "410ee6ef-4052-4506-9fd6-1da0fce0f405",
   "metadata": {},
   "outputs": [
    {
     "data": {
      "text/plain": [
       "(5,)"
      ]
     },
     "execution_count": 29,
     "metadata": {},
     "output_type": "execute_result"
    }
   ],
   "source": [
    "a.shape # returns the shape of the numpy array as a tuple.\n",
    "# since a is a 1D array (or only 1 axis), answer is a tuple having just 1 element, that is 5."
   ]
  },
  {
   "cell_type": "markdown",
   "id": "e153c815-4436-42bd-9dd6-26eb5223a0ce",
   "metadata": {},
   "source": [
    "To create an array that is explicitly horizontal or vertical, it must be a 2D array so that NumPy understands what axis it lies on.\n",
    "\n",
    "There shapes would be (5,1) or (1,5) accordingly.\n",
    "    \n",
    "Since these arrays are two-dimensional rather than one-dimensional, it would not be correct to call them vectors. (although mathematical they are vectors, numpy wise there are now 2d arrays with a shape of (5,1) rather than a vector)\n"
   ]
  },
  {
   "cell_type": "markdown",
   "id": "5a127732-308c-4ad3-99cd-e49322e9a0f8",
   "metadata": {},
   "source": [
    "In mathematics, a two-dimensional array is called a **matrix**. And an array with three or more dimensions is called a **tensor**.\n",
    "\n",
    "We can visualize a 3D array as a bunch of 2D arrays with the same shape stacked on top of each other.\n",
    "Think of a 4D array as a 2D array filled with 3D arrays.\n"
   ]
  },
  {
   "attachments": {
    "a541a541-a93f-49f0-9348-eb5b7163720d.png": {
     "image/png": "[encoded data removed]"
    }
   },
   "cell_type": "markdown",
   "id": "86cbe9b9-ccec-4dd4-a5e3-a86151c96d28",
   "metadata": {},
   "source": [
    "![image.png](attachment:a541a541-a93f-49f0-9348-eb5b7163720d.png)"
   ]
  },
  {
   "attachments": {
    "ce9c0f3d-d2a7-41f9-a626-9350d9930f03.png": {
     "image/png": "[encoded data removed]"
    }
   },
   "cell_type": "markdown",
   "id": "ab0fcc7d-aaa7-42a7-833a-cab5ee246d39",
   "metadata": {},
   "source": [
    "![image.png](attachment:ce9c0f3d-d2a7-41f9-a626-9350d9930f03.png)"
   ]
  },
  {
   "cell_type": "markdown",
   "id": "cce4770b-42d7-48df-a7b0-402a5141bf21",
   "metadata": {},
   "source": [
    "**NOTE**: `.shape` is an attribute of a numpy object(array). `.reshape()` is a method.\n"
   ]
  },
  {
   "cell_type": "markdown",
   "id": "b51a31ca-c81a-460c-a473-a5f5ede8c8ea",
   "metadata": {},
   "source": [
    "**NOTE**: Referring to rows and columns only get us so far in NumPy, since many arrays have more than two dimensions. Instead of referring to **rows**, we can refer to them as the **first dimension**. Instead of referring to **columns**, we can refer to the **second dimension**. And so the **depth** will be called the **3rd dimension** and so on. However, when dealing with 2D arrays it is common to refer as row and column terminology.\n"
   ]
  },
  {
   "cell_type": "code",
   "execution_count": 30,
   "id": "2d986917-c9b8-48ff-9617-8532d13c41fb",
   "metadata": {},
   "outputs": [],
   "source": [
    "a = np.arange(2,15) # similar to range() python function\n",
    "#upper bound of the range is not included, so it will be till 14 only. "
   ]
  },
  {
   "cell_type": "code",
   "execution_count": 31,
   "id": "b328e28f-186c-415b-9127-955ffeecd78c",
   "metadata": {},
   "outputs": [
    {
     "data": {
      "text/plain": [
       "array([ 2,  3,  4,  5,  6,  7,  8,  9, 10, 11, 12, 13, 14])"
      ]
     },
     "execution_count": 31,
     "metadata": {},
     "output_type": "execute_result"
    }
   ],
   "source": [
    "a"
   ]
  },
  {
   "cell_type": "code",
   "execution_count": 32,
   "id": "ea045036-af01-4a91-89d7-fd46138b31dd",
   "metadata": {},
   "outputs": [
    {
     "data": {
      "text/plain": [
       "13"
      ]
     },
     "execution_count": 32,
     "metadata": {},
     "output_type": "execute_result"
    }
   ],
   "source": [
    "len(a)"
   ]
  },
  {
   "cell_type": "code",
   "execution_count": 35,
   "id": "ebff0b96-ecf5-4d9a-a759-b2ddd73d707e",
   "metadata": {},
   "outputs": [
    {
     "name": "stdout",
     "output_type": "stream",
     "text": [
      "2\n",
      "[2]\n",
      "14\n",
      "4\n",
      "[2 3 4 5]\n",
      "[ 2  4  6  8 10 12 14]\n",
      "[14 13 12 11 10  9  8  7  6  5  4  3]\n",
      "[14]\n",
      "[14 13 12 11 10  9  8  7  6  5  4  3  2]\n",
      "[ 2  3  4  5  6  7  8  9 10 11 12 13 14]\n"
     ]
    }
   ],
   "source": [
    "# indexing and slicing\n",
    "print(a[0])\n",
    "print(a[0:1]) # note the result is a numpy array(with just 1 element). result is not an integer or a single scalar value\n",
    "print(a[-1])\n",
    "print(a[2])\n",
    "print(a[:4])\n",
    "print(a[::2])\n",
    "print(a[len(a):0:-1]) # note that index 0 was not included in the output as a[i:j] is till j-1 only\n",
    "print(a[-1:])\n",
    "print(a[-1::-1]) #here the argument after the 1st column (not provided) automatically acts like a lower bound than the usual case of upper bound\n",
    "# because the increment you have given is a negative value\n",
    "# notice that index 0 was included this time because no bound given\n",
    "print(a[:]) # essentially a copy of the array"
   ]
  },
  {
   "cell_type": "code",
   "execution_count": 38,
   "id": "4846d533-d7a5-4cd5-86ce-de3590d194e3",
   "metadata": {},
   "outputs": [
    {
     "data": {
      "text/plain": [
       "array([ 2,  3,  4,  5,  6,  7,  8,  9, 10, 11, 12, 13, 14])"
      ]
     },
     "execution_count": 38,
     "metadata": {},
     "output_type": "execute_result"
    }
   ],
   "source": [
    "a"
   ]
  },
  {
   "cell_type": "code",
   "execution_count": 39,
   "id": "3592b5e9-a31e-4379-a716-3d4f56a7b24f",
   "metadata": {},
   "outputs": [],
   "source": [
    "a[2] = 100"
   ]
  },
  {
   "cell_type": "code",
   "execution_count": 40,
   "id": "3f1920ae-132a-44d0-8318-c4e4946806e6",
   "metadata": {},
   "outputs": [
    {
     "data": {
      "text/plain": [
       "array([  2,   3, 100,   5,   6,   7,   8,   9,  10,  11,  12,  13,  14])"
      ]
     },
     "execution_count": 40,
     "metadata": {},
     "output_type": "execute_result"
    }
   ],
   "source": [
    "a"
   ]
  },
  {
   "cell_type": "code",
   "execution_count": 41,
   "id": "2a7c4fa5-63df-4caa-a56e-8203d682e36b",
   "metadata": {},
   "outputs": [],
   "source": [
    "r = a[:]"
   ]
  },
  {
   "cell_type": "code",
   "execution_count": 42,
   "id": "afb49cd3-0dd8-4900-979b-337bb5e140d5",
   "metadata": {},
   "outputs": [
    {
     "data": {
      "text/plain": [
       "array([  2,   3, 100,   5,   6,   7,   8,   9,  10,  11,  12,  13,  14])"
      ]
     },
     "execution_count": 42,
     "metadata": {},
     "output_type": "execute_result"
    }
   ],
   "source": [
    "r"
   ]
  },
  {
   "cell_type": "code",
   "execution_count": 43,
   "id": "8a514356-10a7-4360-a798-16e2b4f0494d",
   "metadata": {},
   "outputs": [],
   "source": [
    "r[2] = 55"
   ]
  },
  {
   "cell_type": "code",
   "execution_count": 45,
   "id": "92b07ff1-69de-4e77-8cda-ac9ad611c2d8",
   "metadata": {},
   "outputs": [
    {
     "data": {
      "text/plain": [
       "array([ 2,  3, 55,  5,  6,  7,  8,  9, 10, 11, 12, 13, 14])"
      ]
     },
     "execution_count": 45,
     "metadata": {},
     "output_type": "execute_result"
    }
   ],
   "source": [
    "r"
   ]
  },
  {
   "cell_type": "code",
   "execution_count": 48,
   "id": "c19b3ab2-9ffb-45d5-a7b6-e2e29bf257ea",
   "metadata": {},
   "outputs": [
    {
     "data": {
      "text/plain": [
       "array([ 2,  3, 55,  5,  6,  7,  8,  9, 10, 11, 12, 13, 14])"
      ]
     },
     "execution_count": 48,
     "metadata": {},
     "output_type": "execute_result"
    }
   ],
   "source": [
    "a # a got updated. So r = a[:] does not actually create a copy"
   ]
  },
  {
   "cell_type": "code",
   "execution_count": 49,
   "id": "b1aa3fac-b362-4de6-9024-cc864077e716",
   "metadata": {},
   "outputs": [],
   "source": [
    "from copy import deepcopy"
   ]
  },
  {
   "cell_type": "code",
   "execution_count": 50,
   "id": "4ea9983e-cb17-4fda-959b-2b24d021f089",
   "metadata": {},
   "outputs": [],
   "source": [
    "t = deepcopy(a)"
   ]
  },
  {
   "cell_type": "code",
   "execution_count": 51,
   "id": "1e41554a-aa4b-4540-8b58-a040ab8098b7",
   "metadata": {},
   "outputs": [
    {
     "data": {
      "text/plain": [
       "array([ 2,  3, 55,  5,  6,  7,  8,  9, 10, 11, 12, 13, 14])"
      ]
     },
     "execution_count": 51,
     "metadata": {},
     "output_type": "execute_result"
    }
   ],
   "source": [
    "t"
   ]
  },
  {
   "cell_type": "code",
   "execution_count": 52,
   "id": "33abf232-2792-4ba3-952d-18b7426ae82a",
   "metadata": {},
   "outputs": [],
   "source": [
    "t[2] = 91"
   ]
  },
  {
   "cell_type": "code",
   "execution_count": 53,
   "id": "e10e6536-0c75-46f4-8a6c-f9486970f36a",
   "metadata": {},
   "outputs": [
    {
     "data": {
      "text/plain": [
       "array([ 2,  3, 91,  5,  6,  7,  8,  9, 10, 11, 12, 13, 14])"
      ]
     },
     "execution_count": 53,
     "metadata": {},
     "output_type": "execute_result"
    }
   ],
   "source": [
    "t"
   ]
  },
  {
   "cell_type": "code",
   "execution_count": 56,
   "id": "889f7c84-f804-4a3b-8702-54b850a430dc",
   "metadata": {},
   "outputs": [
    {
     "data": {
      "text/plain": [
       "array([ 2,  3, 55,  5,  6,  7,  8,  9, 10, 11, 12, 13, 14])"
      ]
     },
     "execution_count": 56,
     "metadata": {},
     "output_type": "execute_result"
    }
   ],
   "source": [
    "a # a did not change. so t is indeed a copy"
   ]
  },
  {
   "cell_type": "code",
   "execution_count": 57,
   "id": "9ee72c8b-d3db-4fbe-9536-39b5670de302",
   "metadata": {},
   "outputs": [
    {
     "data": {
      "text/plain": [
       "array([ 2,  3, 55,  5,  6,  7,  8,  9, 10, 11, 12, 13, 14])"
      ]
     },
     "execution_count": 57,
     "metadata": {},
     "output_type": "execute_result"
    }
   ],
   "source": [
    "r"
   ]
  },
  {
   "cell_type": "markdown",
   "id": "a716282e-d93e-4b4c-8a07-04e32cea665f",
   "metadata": {},
   "source": [
    "**selecting/filtering data in numpy arrays:**\n",
    "1. masks and fancy indexing\n",
    "2. `np.where()`\n",
    "\n",
    "The mask itself is an array of Booleans with the same shape as the evaluated array."
   ]
  },
  {
   "cell_type": "code",
   "execution_count": 62,
   "id": "3c816ca4-3305-424b-8c55-d29b14798be0",
   "metadata": {},
   "outputs": [],
   "source": [
    "a = np.arange(0,15) # same as np.arange(15) since 0 is the default lower bound"
   ]
  },
  {
   "cell_type": "code",
   "execution_count": 63,
   "id": "e71d07e7-7db2-416b-995e-05899a3510a0",
   "metadata": {},
   "outputs": [
    {
     "data": {
      "text/plain": [
       "array([ 0,  1,  2,  3,  4,  5,  6,  7,  8,  9, 10, 11, 12, 13, 14])"
      ]
     },
     "execution_count": 63,
     "metadata": {},
     "output_type": "execute_result"
    }
   ],
   "source": [
    "a"
   ]
  },
  {
   "cell_type": "code",
   "execution_count": 64,
   "id": "ef85c881-6b89-4943-8c6c-4143467c555e",
   "metadata": {},
   "outputs": [
    {
     "data": {
      "text/plain": [
       "(15,)"
      ]
     },
     "execution_count": 64,
     "metadata": {},
     "output_type": "execute_result"
    }
   ],
   "source": [
    "a.shape"
   ]
  },
  {
   "cell_type": "code",
   "execution_count": 65,
   "id": "32dedf02-95d1-436f-9d53-d5cb834d638f",
   "metadata": {},
   "outputs": [
    {
     "data": {
      "text/plain": [
       "array([ 2,  3,  4,  5,  6,  7,  8,  9, 10, 11, 12, 13, 14, 15, 16])"
      ]
     },
     "execution_count": 65,
     "metadata": {},
     "output_type": "execute_result"
    }
   ],
   "source": [
    "a + 2"
   ]
  },
  {
   "cell_type": "code",
   "execution_count": 66,
   "id": "df96046a-6630-4bc6-abe0-aebbaed4310a",
   "metadata": {},
   "outputs": [
    {
     "data": {
      "text/plain": [
       "array([-2, -1,  0,  1,  2,  3,  4,  5,  6,  7,  8,  9, 10, 11, 12])"
      ]
     },
     "execution_count": 66,
     "metadata": {},
     "output_type": "execute_result"
    }
   ],
   "source": [
    "a - 2"
   ]
  },
  {
   "cell_type": "code",
   "execution_count": 67,
   "id": "92d1a41c-ff28-4747-8933-3502e9227cd0",
   "metadata": {},
   "outputs": [
    {
     "data": {
      "text/plain": [
       "array([ 0,  2,  4,  6,  8, 10, 12, 14, 16, 18, 20, 22, 24, 26, 28])"
      ]
     },
     "execution_count": 67,
     "metadata": {},
     "output_type": "execute_result"
    }
   ],
   "source": [
    "a * 2"
   ]
  },
  {
   "cell_type": "code",
   "execution_count": 68,
   "id": "7e7655f5-cbbe-4e3e-bd90-b4cfde877457",
   "metadata": {},
   "outputs": [
    {
     "data": {
      "text/plain": [
       "array([0. , 0.5, 1. , 1.5, 2. , 2.5, 3. , 3.5, 4. , 4.5, 5. , 5.5, 6. ,\n",
       "       6.5, 7. ])"
      ]
     },
     "execution_count": 68,
     "metadata": {},
     "output_type": "execute_result"
    }
   ],
   "source": [
    "a / 2"
   ]
  },
  {
   "cell_type": "code",
   "execution_count": 209,
   "id": "1b59ae4f-b305-4318-bd74-e9be7aa3bfc1",
   "metadata": {},
   "outputs": [
    {
     "data": {
      "text/plain": [
       "numpy.float64"
      ]
     },
     "execution_count": 209,
     "metadata": {},
     "output_type": "execute_result"
    }
   ],
   "source": [
    "# above decimals are of dtype np.float64 as thats the default numpy uses\n",
    "b = a / 2\n",
    "type(b[1])"
   ]
  },
  {
   "cell_type": "code",
   "execution_count": 72,
   "id": "d171b29f-73d1-463a-aab8-1ca0ea90d79a",
   "metadata": {},
   "outputs": [
    {
     "data": {
      "text/plain": [
       "array([0, 0, 1, 1, 2, 2, 3, 3, 4, 4, 5, 5, 6, 6, 7], dtype=int32)"
      ]
     },
     "execution_count": 72,
     "metadata": {},
     "output_type": "execute_result"
    }
   ],
   "source": [
    "a // 2 # floor division"
   ]
  },
  {
   "cell_type": "code",
   "execution_count": 210,
   "id": "dd77e2fe-a5ee-4355-a350-c39fd0360df2",
   "metadata": {},
   "outputs": [
    {
     "data": {
      "text/plain": [
       "array([0, 1, 0, 1, 0, 1, 0, 1, 0, 1, 0, 1, 0, 1, 0], dtype=int32)"
      ]
     },
     "execution_count": 210,
     "metadata": {},
     "output_type": "execute_result"
    }
   ],
   "source": [
    "a % 2 # remainder\n",
    "# note that 0 % 2 = 0 "
   ]
  },
  {
   "attachments": {
    "528dacb1-162b-4cc7-b769-c78d32218221.png": {
     "image/png": "[encoded data removed]"
    }
   },
   "cell_type": "markdown",
   "id": "57b88049-2c17-4498-bd07-d2bbe38974c0",
   "metadata": {},
   "source": [
    "![image.png](attachment:528dacb1-162b-4cc7-b769-c78d32218221.png)"
   ]
  },
  {
   "cell_type": "code",
   "execution_count": 73,
   "id": "126fc313-2ed7-4860-b95d-8ee117f470ee",
   "metadata": {},
   "outputs": [],
   "source": [
    "mask = a % 2 == 0"
   ]
  },
  {
   "cell_type": "code",
   "execution_count": 74,
   "id": "c8545945-fc1f-432f-a302-287aab7c199e",
   "metadata": {},
   "outputs": [
    {
     "data": {
      "text/plain": [
       "array([ True, False,  True, False,  True, False,  True, False,  True,\n",
       "       False,  True, False,  True, False,  True])"
      ]
     },
     "execution_count": 74,
     "metadata": {},
     "output_type": "execute_result"
    }
   ],
   "source": [
    "mask # a boolean array"
   ]
  },
  {
   "cell_type": "code",
   "execution_count": 76,
   "id": "ba10d231-8862-4bc8-ab05-1c8453051623",
   "metadata": {},
   "outputs": [
    {
     "data": {
      "text/plain": [
       "array([ 0,  2,  4,  6,  8, 10, 12, 14])"
      ]
     },
     "execution_count": 76,
     "metadata": {},
     "output_type": "execute_result"
    }
   ],
   "source": [
    "a[mask] # shows elements that are true only!\n",
    "# in this case, all even numbers"
   ]
  },
  {
   "cell_type": "markdown",
   "id": "1be09dc0-9c3c-42cc-9e1f-92716053d8ef",
   "metadata": {},
   "source": [
    "This is called **fancy indexing** and its useful when we are only interested in the elements that meet a condition."
   ]
  },
  {
   "cell_type": "code",
   "execution_count": 77,
   "id": "5a094dbb-4f61-4111-bf74-efa2303d8d8f",
   "metadata": {},
   "outputs": [
    {
     "data": {
      "text/plain": [
       "array([ 0,  1,  2,  3,  4,  5,  6,  7,  8,  9, 10, 11, 12, 13, 14])"
      ]
     },
     "execution_count": 77,
     "metadata": {},
     "output_type": "execute_result"
    }
   ],
   "source": [
    "a"
   ]
  },
  {
   "cell_type": "code",
   "execution_count": 78,
   "id": "5a5fbcf8-42ad-4773-86d8-ca1728cb5aa5",
   "metadata": {},
   "outputs": [
    {
     "data": {
      "text/plain": [
       "array([ 5,  6,  7,  8,  9, 10, 11, 12, 13, 14])"
      ]
     },
     "execution_count": 78,
     "metadata": {},
     "output_type": "execute_result"
    }
   ],
   "source": [
    "a[a>4]"
   ]
  },
  {
   "cell_type": "markdown",
   "id": "f3664fd0-419b-4f54-8e10-2cf3ce6f701f",
   "metadata": {},
   "source": [
    "**Q.** Given classroom ids and their class sizes, how would you return the class ids where the class size is even."
   ]
  },
  {
   "cell_type": "code",
   "execution_count": 79,
   "id": "e351e5fa-337a-4f44-9f81-f829760b3394",
   "metadata": {},
   "outputs": [],
   "source": [
    "classroom_ids_and_sizes = np.array([[1, 22], [2, 21], [3, 27], [4, 26]])"
   ]
  },
  {
   "cell_type": "code",
   "execution_count": 80,
   "id": "8f5c7daf-c1a3-471f-be7e-cf35c434f95d",
   "metadata": {},
   "outputs": [
    {
     "data": {
      "text/plain": [
       "array([[ 1, 22],\n",
       "       [ 2, 21],\n",
       "       [ 3, 27],\n",
       "       [ 4, 26]])"
      ]
     },
     "execution_count": 80,
     "metadata": {},
     "output_type": "execute_result"
    }
   ],
   "source": [
    "classroom_ids_and_sizes"
   ]
  },
  {
   "cell_type": "code",
   "execution_count": 81,
   "id": "1c11f72e-59d0-4add-b604-06c760004047",
   "metadata": {},
   "outputs": [
    {
     "data": {
      "text/plain": [
       "(4, 2)"
      ]
     },
     "execution_count": 81,
     "metadata": {},
     "output_type": "execute_result"
    }
   ],
   "source": [
    "classroom_ids_and_sizes.shape\n",
    "# 4 rows, 2 columns therefore 4x2"
   ]
  },
  {
   "cell_type": "code",
   "execution_count": 85,
   "id": "c4d6d928-9c04-4f66-8b5e-2fcce80cd7bd",
   "metadata": {},
   "outputs": [
    {
     "data": {
      "text/plain": [
       "array([1, 4])"
      ]
     },
     "execution_count": 85,
     "metadata": {},
     "output_type": "execute_result"
    }
   ],
   "source": [
    "classroom_ids_and_sizes[classroom_ids_and_sizes[:,1] % 2 == 0][:,0]"
   ]
  },
  {
   "cell_type": "code",
   "execution_count": 86,
   "id": "80798b33-3d2b-4691-a9da-bdffa3706119",
   "metadata": {},
   "outputs": [
    {
     "data": {
      "text/plain": [
       "array([1, 4])"
      ]
     },
     "execution_count": 86,
     "metadata": {},
     "output_type": "execute_result"
    }
   ],
   "source": [
    "classroom_ids_and_sizes[:,0][classroom_ids_and_sizes[:,1] % 2 == 0]\n",
    "#changed the order of [] makes no difference"
   ]
  },
  {
   "cell_type": "code",
   "execution_count": 87,
   "id": "c77e9cb0-9cb1-41a9-b053-c10c66f5e5ad",
   "metadata": {},
   "outputs": [
    {
     "data": {
      "text/plain": [
       "array([1, 4])"
      ]
     },
     "execution_count": 87,
     "metadata": {},
     "output_type": "execute_result"
    }
   ],
   "source": [
    "classroom_ids_and_sizes[:,0][[True, False, False, True]]"
   ]
  },
  {
   "cell_type": "markdown",
   "id": "c143d8e0-6175-4952-9001-27224f34300c",
   "metadata": {},
   "source": [
    "**Array mathematics Summary functions**"
   ]
  },
  {
   "cell_type": "code",
   "execution_count": 22,
   "id": "7fd7e7aa-6a0c-45b1-bf6d-37d80e9b0a4c",
   "metadata": {},
   "outputs": [],
   "source": [
    "np.random.seed(50) # used to set the seed number to get consistent results on every run.\n",
    "a = np.random.randint(-5,15, size=(3,5)) # draws integers from a discrete uniform distribution of integers from -5 to 14 (15 is upper bound so not included)"
   ]
  },
  {
   "cell_type": "code",
   "execution_count": 23,
   "id": "1456b1f6-23c8-401d-b1f8-00d43110d452",
   "metadata": {},
   "outputs": [
    {
     "data": {
      "text/plain": [
       "array([[11, -5,  6,  8, -4],\n",
       "       [-1,  1,  0,  1,  8],\n",
       "       [ 0, -3,  2, 10, -1]])"
      ]
     },
     "execution_count": 23,
     "metadata": {},
     "output_type": "execute_result"
    }
   ],
   "source": [
    "a"
   ]
  },
  {
   "cell_type": "code",
   "execution_count": 24,
   "id": "a3ab4e8f-b56f-4fbe-8b5c-7aeea732f41b",
   "metadata": {},
   "outputs": [
    {
     "name": "stdout",
     "output_type": "stream",
     "text": [
      "[[11 -5  6  8 -4]\n",
      " [-1  1  0  1  8]\n",
      " [ 0 -3  2 10 -1]]\n"
     ]
    }
   ],
   "source": [
    "print(a)"
   ]
  },
  {
   "cell_type": "code",
   "execution_count": 90,
   "id": "97f0873a-8b6b-478c-a10d-97361a147ea4",
   "metadata": {},
   "outputs": [
    {
     "data": {
      "text/plain": [
       "0"
      ]
     },
     "execution_count": 90,
     "metadata": {},
     "output_type": "execute_result"
    }
   ],
   "source": [
    "np.random.randint(2) # when passing only 1 parameter, it gives a random integer from [0,parameter) interval. in this case [0,2)"
   ]
  },
  {
   "cell_type": "code",
   "execution_count": 91,
   "id": "2e7f2c6a-2c0e-4755-b8d9-269932bd6159",
   "metadata": {},
   "outputs": [
    {
     "data": {
      "text/plain": [
       "33"
      ]
     },
     "execution_count": 91,
     "metadata": {},
     "output_type": "execute_result"
    }
   ],
   "source": [
    "a.sum() # sum of all the numbers in the above array"
   ]
  },
  {
   "cell_type": "markdown",
   "id": "eee5988c-f8a4-4473-b7c7-4264b6386302",
   "metadata": {},
   "source": [
    "**NOTE**: you can set the axis argument to 0 or 1 to get data across rows or columns individually.\n",
    "\n",
    "`numpy_array.sum(axis=0)` # gives answer for each column. Remember, axis=0 means across rows. axis=1 means across columns.\n"
   ]
  },
  {
   "cell_type": "code",
   "execution_count": 92,
   "id": "af1ed85c-612c-4646-ab10-49db14ebc8e8",
   "metadata": {},
   "outputs": [
    {
     "data": {
      "text/plain": [
       "array([10, -7,  8, 19,  3])"
      ]
     },
     "execution_count": 92,
     "metadata": {},
     "output_type": "execute_result"
    }
   ],
   "source": [
    "a.sum(axis=0)"
   ]
  },
  {
   "cell_type": "code",
   "execution_count": 93,
   "id": "8687de47-a944-42f6-98c1-1cbb3c9de99b",
   "metadata": {},
   "outputs": [
    {
     "data": {
      "text/plain": [
       "array([16,  9,  8])"
      ]
     },
     "execution_count": 93,
     "metadata": {},
     "output_type": "execute_result"
    }
   ],
   "source": [
    "a.sum(axis=1)"
   ]
  },
  {
   "cell_type": "code",
   "execution_count": 94,
   "id": "33374a01-5035-4307-9e51-67c97156a04b",
   "metadata": {},
   "outputs": [
    {
     "data": {
      "text/plain": [
       "2.2"
      ]
     },
     "execution_count": 94,
     "metadata": {},
     "output_type": "execute_result"
    }
   ],
   "source": [
    "a.mean() # = 33/15"
   ]
  },
  {
   "cell_type": "code",
   "execution_count": 95,
   "id": "617debf7-d0d1-4322-8adb-b54d265f5374",
   "metadata": {},
   "outputs": [
    {
     "data": {
      "text/plain": [
       "-5"
      ]
     },
     "execution_count": 95,
     "metadata": {},
     "output_type": "execute_result"
    }
   ],
   "source": [
    "a.min()"
   ]
  },
  {
   "cell_type": "code",
   "execution_count": 96,
   "id": "fd1f7700-cbed-44a4-8038-411867967940",
   "metadata": {},
   "outputs": [
    {
     "data": {
      "text/plain": [
       "11"
      ]
     },
     "execution_count": 96,
     "metadata": {},
     "output_type": "execute_result"
    }
   ],
   "source": [
    "a.max()"
   ]
  },
  {
   "cell_type": "markdown",
   "id": "c082968f-a365-474c-b92a-07937973e6d6",
   "metadata": {},
   "source": [
    "again, you can always specify the axis argument if you want results across each row or column."
   ]
  },
  {
   "cell_type": "markdown",
   "id": "bbb76e9b-93bb-4f1c-82e1-467a948329a7",
   "metadata": {},
   "source": [
    "**NOTE:** `.sum()`, `.mean()` `.min()` and `.max()` - all 4 numpy methods have an optional argument keepdims\n",
    "`keepdims=True` keeps the no. of dimensions of the resulting summary statistics array as the original array so that concatenation maybe possible if you may want to.\n"
   ]
  },
  {
   "cell_type": "code",
   "execution_count": 97,
   "id": "2cd32efa-146b-4158-92b9-7c92c5053d3b",
   "metadata": {},
   "outputs": [
    {
     "data": {
      "text/plain": [
       "array([[11, -5,  6,  8, -4],\n",
       "       [-1,  1,  0,  1,  8],\n",
       "       [ 0, -3,  2, 10, -1]])"
      ]
     },
     "execution_count": 97,
     "metadata": {},
     "output_type": "execute_result"
    }
   ],
   "source": [
    "a"
   ]
  },
  {
   "cell_type": "code",
   "execution_count": 98,
   "id": "c7ab32c1-49d2-42c9-93fd-60f4035a83c5",
   "metadata": {},
   "outputs": [
    {
     "data": {
      "text/plain": [
       "array([[33]])"
      ]
     },
     "execution_count": 98,
     "metadata": {},
     "output_type": "execute_result"
    }
   ],
   "source": [
    "a.sum(keepdims=True)"
   ]
  },
  {
   "cell_type": "code",
   "execution_count": 99,
   "id": "50f3c549-5549-44b9-8bcf-ac61a7f00881",
   "metadata": {},
   "outputs": [
    {
     "data": {
      "text/plain": [
       "array([[44, 28, 39, 41, 29],\n",
       "       [32, 34, 33, 34, 41],\n",
       "       [33, 30, 35, 43, 32]])"
      ]
     },
     "execution_count": 99,
     "metadata": {},
     "output_type": "execute_result"
    }
   ],
   "source": [
    "a + a.sum(keepdims=True)"
   ]
  },
  {
   "cell_type": "code",
   "execution_count": 100,
   "id": "6578409e-c574-4c73-a1a1-ff50ffff263a",
   "metadata": {},
   "outputs": [
    {
     "data": {
      "text/plain": [
       "array([[44, 28, 39, 41, 29],\n",
       "       [32, 34, 33, 34, 41],\n",
       "       [33, 30, 35, 43, 32]])"
      ]
     },
     "execution_count": 100,
     "metadata": {},
     "output_type": "execute_result"
    }
   ],
   "source": [
    "a + a.sum() # same as above"
   ]
  },
  {
   "cell_type": "code",
   "execution_count": 101,
   "id": "699b1789-03c2-41f3-901e-b7a6704ac8d6",
   "metadata": {},
   "outputs": [],
   "source": [
    "b = a.sum(axis=1, keepdims=True)"
   ]
  },
  {
   "cell_type": "code",
   "execution_count": 102,
   "id": "e17dbc6d-3d19-4987-9efb-ba1c51f31d4e",
   "metadata": {},
   "outputs": [
    {
     "data": {
      "text/plain": [
       "array([[16],\n",
       "       [ 9],\n",
       "       [ 8]])"
      ]
     },
     "execution_count": 102,
     "metadata": {},
     "output_type": "execute_result"
    }
   ],
   "source": [
    "b"
   ]
  },
  {
   "cell_type": "code",
   "execution_count": 103,
   "id": "b50b5bbf-0525-41f1-8a77-807e588bba51",
   "metadata": {},
   "outputs": [
    {
     "data": {
      "text/plain": [
       "(3, 1)"
      ]
     },
     "execution_count": 103,
     "metadata": {},
     "output_type": "execute_result"
    }
   ],
   "source": [
    "b.shape"
   ]
  },
  {
   "cell_type": "code",
   "execution_count": 104,
   "id": "220f718d-3164-4693-b4f7-6a626af35f62",
   "metadata": {},
   "outputs": [],
   "source": [
    "c = a.sum(axis=0, keepdims=True)"
   ]
  },
  {
   "cell_type": "code",
   "execution_count": 106,
   "id": "ef57554b-e720-41df-9d91-9e29bc93d90a",
   "metadata": {},
   "outputs": [
    {
     "data": {
      "text/plain": [
       "array([[10, -7,  8, 19,  3]])"
      ]
     },
     "execution_count": 106,
     "metadata": {},
     "output_type": "execute_result"
    }
   ],
   "source": [
    "c"
   ]
  },
  {
   "cell_type": "code",
   "execution_count": 107,
   "id": "003a9a75-5e0c-4035-8f40-bb43f27be042",
   "metadata": {},
   "outputs": [
    {
     "data": {
      "text/plain": [
       "(1, 5)"
      ]
     },
     "execution_count": 107,
     "metadata": {},
     "output_type": "execute_result"
    }
   ],
   "source": [
    "c.shape"
   ]
  },
  {
   "cell_type": "code",
   "execution_count": 108,
   "id": "5173367d-35b2-4a1b-a2b8-3e18727e9f2a",
   "metadata": {},
   "outputs": [
    {
     "data": {
      "text/plain": [
       "array([[11, -5,  6,  8, -4],\n",
       "       [-1,  1,  0,  1,  8],\n",
       "       [ 0, -3,  2, 10, -1],\n",
       "       [10, -7,  8, 19,  3]])"
      ]
     },
     "execution_count": 108,
     "metadata": {},
     "output_type": "execute_result"
    }
   ],
   "source": [
    "np.concatenate((a,c)) #concatenating on axis=0 by default."
   ]
  },
  {
   "cell_type": "code",
   "execution_count": 109,
   "id": "90d1f01e-7e19-4cb6-93ee-a5a90bd48c9b",
   "metadata": {},
   "outputs": [
    {
     "data": {
      "text/plain": [
       "array([[11, -5,  6,  8, -4, 16],\n",
       "       [-1,  1,  0,  1,  8,  9],\n",
       "       [ 0, -3,  2, 10, -1,  8]])"
      ]
     },
     "execution_count": 109,
     "metadata": {},
     "output_type": "execute_result"
    }
   ],
   "source": [
    "np.concatenate((a,b), axis=1)"
   ]
  },
  {
   "cell_type": "markdown",
   "id": "933ec51e-f951-40c0-8d6f-791a1489000f",
   "metadata": {},
   "source": [
    "Using `np.c_` and `np.r_` to concatenate"
   ]
  },
  {
   "cell_type": "code",
   "execution_count": 110,
   "id": "9eb9fb6d-8547-43b8-b590-cae9689712e5",
   "metadata": {},
   "outputs": [],
   "source": [
    "a = np.array([4,6,7])\n",
    "b = np.array([8,2,3])"
   ]
  },
  {
   "cell_type": "code",
   "execution_count": 111,
   "id": "6eca1cae-8b08-4dda-ad97-a05d8cecc48a",
   "metadata": {},
   "outputs": [
    {
     "data": {
      "text/plain": [
       "array([4, 6, 7])"
      ]
     },
     "execution_count": 111,
     "metadata": {},
     "output_type": "execute_result"
    }
   ],
   "source": [
    "a"
   ]
  },
  {
   "cell_type": "code",
   "execution_count": 112,
   "id": "15887a9b-3e19-4ca0-a5f0-74641f451f47",
   "metadata": {},
   "outputs": [
    {
     "data": {
      "text/plain": [
       "array([8, 2, 3])"
      ]
     },
     "execution_count": 112,
     "metadata": {},
     "output_type": "execute_result"
    }
   ],
   "source": [
    "b"
   ]
  },
  {
   "cell_type": "code",
   "execution_count": 24,
   "id": "1738e443-2f30-43df-a6b0-5c929251521f",
   "metadata": {},
   "outputs": [
    {
     "data": {
      "text/plain": [
       "array([[4, 8],\n",
       "       [6, 2],\n",
       "       [7, 3]])"
      ]
     },
     "execution_count": 24,
     "metadata": {},
     "output_type": "execute_result"
    }
   ],
   "source": [
    "np.c_[a, b]"
   ]
  },
  {
   "cell_type": "code",
   "execution_count": 113,
   "id": "714fa8d2-c2cd-409a-b61f-5e89ce6f9e3a",
   "metadata": {},
   "outputs": [
    {
     "data": {
      "text/plain": [
       "array([4, 6, 7, 8, 2, 3])"
      ]
     },
     "execution_count": 113,
     "metadata": {},
     "output_type": "execute_result"
    }
   ],
   "source": [
    "np.r_[a, b] #1d array hai dono. row ka concept to hai hi nahi. to simple append kar diya."
   ]
  },
  {
   "cell_type": "markdown",
   "id": "b8fcde77-d25a-4803-b417-f5970a073855",
   "metadata": {},
   "source": [
    "**NOTICE** `np.c_[]` and `np.r_[]` are not function. they are NOT using () but using []. "
   ]
  },
  {
   "cell_type": "code",
   "execution_count": 114,
   "id": "4ecd3923-ac8d-49b2-bb6a-b3fd02ec27ef",
   "metadata": {},
   "outputs": [],
   "source": [
    "c = np.random.randint(3,40,size=(2,3))\n",
    "d = np.random.randint(3,40,size=(2,2))"
   ]
  },
  {
   "cell_type": "code",
   "execution_count": 115,
   "id": "2bfc91c0-3741-4178-8944-2a4fdca8ad68",
   "metadata": {},
   "outputs": [
    {
     "data": {
      "text/plain": [
       "array([[38, 31, 30],\n",
       "       [29, 29,  9]])"
      ]
     },
     "execution_count": 115,
     "metadata": {},
     "output_type": "execute_result"
    }
   ],
   "source": [
    "c"
   ]
  },
  {
   "cell_type": "code",
   "execution_count": 116,
   "id": "d40f5936-911b-4241-97ff-33327a2fcc05",
   "metadata": {},
   "outputs": [
    {
     "data": {
      "text/plain": [
       "array([[23, 34],\n",
       "       [24,  3]])"
      ]
     },
     "execution_count": 116,
     "metadata": {},
     "output_type": "execute_result"
    }
   ],
   "source": [
    "d"
   ]
  },
  {
   "cell_type": "code",
   "execution_count": 117,
   "id": "95b952b2-d110-4da6-9c4e-006af9c0ffa4",
   "metadata": {},
   "outputs": [
    {
     "data": {
      "text/plain": [
       "array([[38, 31, 30, 23, 34],\n",
       "       [29, 29,  9, 24,  3]])"
      ]
     },
     "execution_count": 117,
     "metadata": {},
     "output_type": "execute_result"
    }
   ],
   "source": [
    "np.c_[c, d]"
   ]
  },
  {
   "cell_type": "code",
   "execution_count": 118,
   "id": "bbcdda94-3de3-4e4b-888d-e96373e6edf7",
   "metadata": {},
   "outputs": [
    {
     "ename": "ValueError",
     "evalue": "all the input array dimensions except for the concatenation axis must match exactly, but along dimension 1, the array at index 0 has size 3 and the array at index 1 has size 2",
     "output_type": "error",
     "traceback": [
      "\u001b[1;31m---------------------------------------------------------------------------\u001b[0m",
      "\u001b[1;31mValueError\u001b[0m                                Traceback (most recent call last)",
      "Cell \u001b[1;32mIn[118], line 1\u001b[0m\n\u001b[1;32m----> 1\u001b[0m \u001b[43mnp\u001b[49m\u001b[38;5;241;43m.\u001b[39;49m\u001b[43mr_\u001b[49m\u001b[43m[\u001b[49m\u001b[43mc\u001b[49m\u001b[43m,\u001b[49m\u001b[43md\u001b[49m\u001b[43m]\u001b[49m\n\u001b[0;32m      2\u001b[0m \u001b[38;5;66;03m# ValueError: all the input array dimensions except for the concatenation axis must match exactly,\u001b[39;00m\n\u001b[0;32m      3\u001b[0m \u001b[38;5;66;03m# but along dimension 1, the array at index 0 has size 3 and the array at index 1 has size 2\u001b[39;00m\n",
      "File \u001b[1;32mR:\\Ubuntu_linux\\mar_22\\lib\\site-packages\\numpy\\lib\\index_tricks.py:418\u001b[0m, in \u001b[0;36mAxisConcatenator.__getitem__\u001b[1;34m(self, key)\u001b[0m\n\u001b[0;32m    414\u001b[0m     \u001b[38;5;66;03m# concatenate could do cast, but that can be overriden:\u001b[39;00m\n\u001b[0;32m    415\u001b[0m     objs \u001b[38;5;241m=\u001b[39m [array(obj, copy\u001b[38;5;241m=\u001b[39m\u001b[38;5;28;01mFalse\u001b[39;00m, subok\u001b[38;5;241m=\u001b[39m\u001b[38;5;28;01mTrue\u001b[39;00m,\n\u001b[0;32m    416\u001b[0m                   ndmin\u001b[38;5;241m=\u001b[39mndmin, dtype\u001b[38;5;241m=\u001b[39mfinal_dtype) \u001b[38;5;28;01mfor\u001b[39;00m obj \u001b[38;5;129;01min\u001b[39;00m objs]\n\u001b[1;32m--> 418\u001b[0m res \u001b[38;5;241m=\u001b[39m \u001b[38;5;28;43mself\u001b[39;49m\u001b[38;5;241;43m.\u001b[39;49m\u001b[43mconcatenate\u001b[49m\u001b[43m(\u001b[49m\u001b[38;5;28;43mtuple\u001b[39;49m\u001b[43m(\u001b[49m\u001b[43mobjs\u001b[49m\u001b[43m)\u001b[49m\u001b[43m,\u001b[49m\u001b[43m \u001b[49m\u001b[43maxis\u001b[49m\u001b[38;5;241;43m=\u001b[39;49m\u001b[43maxis\u001b[49m\u001b[43m)\u001b[49m\n\u001b[0;32m    420\u001b[0m \u001b[38;5;28;01mif\u001b[39;00m matrix:\n\u001b[0;32m    421\u001b[0m     oldndim \u001b[38;5;241m=\u001b[39m res\u001b[38;5;241m.\u001b[39mndim\n",
      "\u001b[1;31mValueError\u001b[0m: all the input array dimensions except for the concatenation axis must match exactly, but along dimension 1, the array at index 0 has size 3 and the array at index 1 has size 2"
     ]
    }
   ],
   "source": [
    "np.r_[c,d]\n",
    "# ValueError: all the input array dimensions except for the concatenation axis must match exactly,\n",
    "# but along dimension 1, the array at index 0 has size 3 and the array at index 1 has size 2"
   ]
  },
  {
   "cell_type": "code",
   "execution_count": 119,
   "id": "f9143dc1-d912-4025-b95e-5e6a48fbf441",
   "metadata": {},
   "outputs": [],
   "source": [
    "e = np.random.randint(3,40,size=(3,3))\n",
    "f = np.random.randint(3,40,size=(1,3))\n",
    "g = np.random.randint(3,40,size=3)"
   ]
  },
  {
   "cell_type": "code",
   "execution_count": 120,
   "id": "9197ea99-463b-4f9a-a8bf-fa0c74d6e6a6",
   "metadata": {},
   "outputs": [
    {
     "data": {
      "text/plain": [
       "array([[ 9, 22,  5],\n",
       "       [18, 33, 38],\n",
       "       [29,  5, 15]])"
      ]
     },
     "execution_count": 120,
     "metadata": {},
     "output_type": "execute_result"
    }
   ],
   "source": [
    "e"
   ]
  },
  {
   "cell_type": "code",
   "execution_count": 121,
   "id": "abac56ba-c618-421e-b5bd-c612a631f649",
   "metadata": {},
   "outputs": [
    {
     "data": {
      "text/plain": [
       "array([[35,  6,  5]])"
      ]
     },
     "execution_count": 121,
     "metadata": {},
     "output_type": "execute_result"
    }
   ],
   "source": [
    "f"
   ]
  },
  {
   "cell_type": "code",
   "execution_count": 122,
   "id": "d5edeec5-36cf-46a8-90ec-5b35f7124eab",
   "metadata": {},
   "outputs": [
    {
     "data": {
      "text/plain": [
       "array([13,  3, 32])"
      ]
     },
     "execution_count": 122,
     "metadata": {},
     "output_type": "execute_result"
    }
   ],
   "source": [
    "g"
   ]
  },
  {
   "cell_type": "code",
   "execution_count": 124,
   "id": "af625789-55f1-4b70-9114-c40298377445",
   "metadata": {},
   "outputs": [
    {
     "ename": "ValueError",
     "evalue": "all the input array dimensions except for the concatenation axis must match exactly, but along dimension 0, the array at index 0 has size 3 and the array at index 1 has size 1",
     "output_type": "error",
     "traceback": [
      "\u001b[1;31m---------------------------------------------------------------------------\u001b[0m",
      "\u001b[1;31mValueError\u001b[0m                                Traceback (most recent call last)",
      "Cell \u001b[1;32mIn[124], line 1\u001b[0m\n\u001b[1;32m----> 1\u001b[0m \u001b[43mnp\u001b[49m\u001b[38;5;241;43m.\u001b[39;49m\u001b[43mc_\u001b[49m\u001b[43m[\u001b[49m\u001b[43me\u001b[49m\u001b[43m,\u001b[49m\u001b[43m \u001b[49m\u001b[43mf\u001b[49m\u001b[43m]\u001b[49m\n\u001b[0;32m      2\u001b[0m \u001b[38;5;66;03m# dimension 0 must match. no matching therefore error\u001b[39;00m\n",
      "File \u001b[1;32mR:\\Ubuntu_linux\\mar_22\\lib\\site-packages\\numpy\\lib\\index_tricks.py:418\u001b[0m, in \u001b[0;36mAxisConcatenator.__getitem__\u001b[1;34m(self, key)\u001b[0m\n\u001b[0;32m    414\u001b[0m     \u001b[38;5;66;03m# concatenate could do cast, but that can be overriden:\u001b[39;00m\n\u001b[0;32m    415\u001b[0m     objs \u001b[38;5;241m=\u001b[39m [array(obj, copy\u001b[38;5;241m=\u001b[39m\u001b[38;5;28;01mFalse\u001b[39;00m, subok\u001b[38;5;241m=\u001b[39m\u001b[38;5;28;01mTrue\u001b[39;00m,\n\u001b[0;32m    416\u001b[0m                   ndmin\u001b[38;5;241m=\u001b[39mndmin, dtype\u001b[38;5;241m=\u001b[39mfinal_dtype) \u001b[38;5;28;01mfor\u001b[39;00m obj \u001b[38;5;129;01min\u001b[39;00m objs]\n\u001b[1;32m--> 418\u001b[0m res \u001b[38;5;241m=\u001b[39m \u001b[38;5;28;43mself\u001b[39;49m\u001b[38;5;241;43m.\u001b[39;49m\u001b[43mconcatenate\u001b[49m\u001b[43m(\u001b[49m\u001b[38;5;28;43mtuple\u001b[39;49m\u001b[43m(\u001b[49m\u001b[43mobjs\u001b[49m\u001b[43m)\u001b[49m\u001b[43m,\u001b[49m\u001b[43m \u001b[49m\u001b[43maxis\u001b[49m\u001b[38;5;241;43m=\u001b[39;49m\u001b[43maxis\u001b[49m\u001b[43m)\u001b[49m\n\u001b[0;32m    420\u001b[0m \u001b[38;5;28;01mif\u001b[39;00m matrix:\n\u001b[0;32m    421\u001b[0m     oldndim \u001b[38;5;241m=\u001b[39m res\u001b[38;5;241m.\u001b[39mndim\n",
      "\u001b[1;31mValueError\u001b[0m: all the input array dimensions except for the concatenation axis must match exactly, but along dimension 0, the array at index 0 has size 3 and the array at index 1 has size 1"
     ]
    }
   ],
   "source": [
    "np.c_[e, f]\n",
    "# dimension 0 must match. no matching therefore error"
   ]
  },
  {
   "cell_type": "code",
   "execution_count": 125,
   "id": "961561fc-9b8f-4a8f-8c80-8d4cb2867951",
   "metadata": {},
   "outputs": [
    {
     "data": {
      "text/plain": [
       "array([[ 9, 22,  5],\n",
       "       [18, 33, 38],\n",
       "       [29,  5, 15],\n",
       "       [35,  6,  5]])"
      ]
     },
     "execution_count": 125,
     "metadata": {},
     "output_type": "execute_result"
    }
   ],
   "source": [
    "np.r_[e, f]"
   ]
  },
  {
   "cell_type": "code",
   "execution_count": 126,
   "id": "4208f501-5b3b-454b-b958-abab3953d6c9",
   "metadata": {},
   "outputs": [
    {
     "ename": "ValueError",
     "evalue": "all the input arrays must have same number of dimensions, but the array at index 0 has 2 dimension(s) and the array at index 1 has 1 dimension(s)",
     "output_type": "error",
     "traceback": [
      "\u001b[1;31m---------------------------------------------------------------------------\u001b[0m",
      "\u001b[1;31mValueError\u001b[0m                                Traceback (most recent call last)",
      "Cell \u001b[1;32mIn[126], line 1\u001b[0m\n\u001b[1;32m----> 1\u001b[0m \u001b[43mnp\u001b[49m\u001b[38;5;241;43m.\u001b[39;49m\u001b[43mr_\u001b[49m\u001b[43m[\u001b[49m\u001b[43me\u001b[49m\u001b[43m,\u001b[49m\u001b[43m \u001b[49m\u001b[43mg\u001b[49m\u001b[43m]\u001b[49m\n\u001b[0;32m      2\u001b[0m \u001b[38;5;66;03m# ERROR: cannot concatenate 2D array and 1D array\u001b[39;00m\n\u001b[0;32m      3\u001b[0m \u001b[38;5;66;03m# all the input arrays MUST have same number of dimensions\u001b[39;00m\n",
      "File \u001b[1;32mR:\\Ubuntu_linux\\mar_22\\lib\\site-packages\\numpy\\lib\\index_tricks.py:418\u001b[0m, in \u001b[0;36mAxisConcatenator.__getitem__\u001b[1;34m(self, key)\u001b[0m\n\u001b[0;32m    414\u001b[0m     \u001b[38;5;66;03m# concatenate could do cast, but that can be overriden:\u001b[39;00m\n\u001b[0;32m    415\u001b[0m     objs \u001b[38;5;241m=\u001b[39m [array(obj, copy\u001b[38;5;241m=\u001b[39m\u001b[38;5;28;01mFalse\u001b[39;00m, subok\u001b[38;5;241m=\u001b[39m\u001b[38;5;28;01mTrue\u001b[39;00m,\n\u001b[0;32m    416\u001b[0m                   ndmin\u001b[38;5;241m=\u001b[39mndmin, dtype\u001b[38;5;241m=\u001b[39mfinal_dtype) \u001b[38;5;28;01mfor\u001b[39;00m obj \u001b[38;5;129;01min\u001b[39;00m objs]\n\u001b[1;32m--> 418\u001b[0m res \u001b[38;5;241m=\u001b[39m \u001b[38;5;28;43mself\u001b[39;49m\u001b[38;5;241;43m.\u001b[39;49m\u001b[43mconcatenate\u001b[49m\u001b[43m(\u001b[49m\u001b[38;5;28;43mtuple\u001b[39;49m\u001b[43m(\u001b[49m\u001b[43mobjs\u001b[49m\u001b[43m)\u001b[49m\u001b[43m,\u001b[49m\u001b[43m \u001b[49m\u001b[43maxis\u001b[49m\u001b[38;5;241;43m=\u001b[39;49m\u001b[43maxis\u001b[49m\u001b[43m)\u001b[49m\n\u001b[0;32m    420\u001b[0m \u001b[38;5;28;01mif\u001b[39;00m matrix:\n\u001b[0;32m    421\u001b[0m     oldndim \u001b[38;5;241m=\u001b[39m res\u001b[38;5;241m.\u001b[39mndim\n",
      "\u001b[1;31mValueError\u001b[0m: all the input arrays must have same number of dimensions, but the array at index 0 has 2 dimension(s) and the array at index 1 has 1 dimension(s)"
     ]
    }
   ],
   "source": [
    "np.r_[e, g]\n",
    "# ERROR: cannot concatenate 2D array and 1D array\n",
    "# all the input arrays MUST have same number of dimensions"
   ]
  },
  {
   "cell_type": "markdown",
   "id": "e34ed5ba-837b-4d3d-8dfe-e811ad209ef9",
   "metadata": {},
   "source": [
    "**numpy_array.cumsum() for cumulative statistics**:"
   ]
  },
  {
   "cell_type": "code",
   "execution_count": 128,
   "id": "fe725d12-ad51-4439-a9d1-57bd8d5d4cb7",
   "metadata": {},
   "outputs": [],
   "source": [
    "np.random.seed(50) # used to set the seed number to get consistent results on every run.\n",
    "a = np.random.randint(-5,15, size=(3,5))"
   ]
  },
  {
   "cell_type": "code",
   "execution_count": 129,
   "id": "5c364b8d-4411-4bd3-8d78-4f4390735d44",
   "metadata": {},
   "outputs": [
    {
     "data": {
      "text/plain": [
       "array([[11, -5,  6,  8, -4],\n",
       "       [-1,  1,  0,  1,  8],\n",
       "       [ 0, -3,  2, 10, -1]])"
      ]
     },
     "execution_count": 129,
     "metadata": {},
     "output_type": "execute_result"
    }
   ],
   "source": [
    "a"
   ]
  },
  {
   "cell_type": "code",
   "execution_count": 131,
   "id": "22c8c391-5ac0-49a9-9fe2-98250e333cc5",
   "metadata": {},
   "outputs": [
    {
     "data": {
      "text/plain": [
       "array([11,  6, 12, 20, 16, 15, 16, 16, 17, 25, 25, 22, 24, 34, 33])"
      ]
     },
     "execution_count": 131,
     "metadata": {},
     "output_type": "execute_result"
    }
   ],
   "source": [
    "a.cumsum() # adding element to previous total row by row until the last element\n",
    "# shape of this result is the no. of elements a had, i.e. m*n"
   ]
  },
  {
   "cell_type": "code",
   "execution_count": 132,
   "id": "18e8feb1-953f-49d4-9b8c-a2c2db2302df",
   "metadata": {},
   "outputs": [
    {
     "data": {
      "text/plain": [
       "array([[11, -5,  6,  8, -4],\n",
       "       [10, -4,  6,  9,  4],\n",
       "       [10, -7,  8, 19,  3]])"
      ]
     },
     "execution_count": 132,
     "metadata": {},
     "output_type": "execute_result"
    }
   ],
   "source": [
    "a.cumsum(axis=0)\n",
    "# shape is same as a"
   ]
  },
  {
   "cell_type": "code",
   "execution_count": 134,
   "id": "70c05f16-23ce-4dfa-9722-86e586733738",
   "metadata": {},
   "outputs": [
    {
     "data": {
      "text/plain": [
       "array([[11,  6, 12, 20, 16],\n",
       "       [-1,  0,  0,  1,  9],\n",
       "       [ 0, -3, -1,  9,  8]])"
      ]
     },
     "execution_count": 134,
     "metadata": {},
     "output_type": "execute_result"
    }
   ],
   "source": [
    "a.cumsum(axis=1)\n",
    "# shape is same as a"
   ]
  },
  {
   "cell_type": "markdown",
   "id": "ff58875c-baaf-4d87-878b-984c92faa509",
   "metadata": {},
   "source": [
    "### creating numpy arrays"
   ]
  },
  {
   "cell_type": "code",
   "execution_count": 135,
   "id": "032141ef-25a4-460e-b6d1-08b96d78d7de",
   "metadata": {},
   "outputs": [],
   "source": [
    "mylist = [1,2,3]"
   ]
  },
  {
   "cell_type": "code",
   "execution_count": 136,
   "id": "8029f870-4392-4d8c-b561-d063df67ffc2",
   "metadata": {},
   "outputs": [
    {
     "data": {
      "text/plain": [
       "list"
      ]
     },
     "execution_count": 136,
     "metadata": {},
     "output_type": "execute_result"
    }
   ],
   "source": [
    "type(mylist)"
   ]
  },
  {
   "cell_type": "code",
   "execution_count": 137,
   "id": "ebf0d18c-13ce-4b70-a570-ede9f1fa9ac4",
   "metadata": {},
   "outputs": [
    {
     "data": {
      "text/plain": [
       "array([1, 2, 3])"
      ]
     },
     "execution_count": 137,
     "metadata": {},
     "output_type": "execute_result"
    }
   ],
   "source": [
    "np.array(mylist)\n",
    "# note that this wont change the original list mylist"
   ]
  },
  {
   "cell_type": "code",
   "execution_count": 141,
   "id": "17dac3f1-81b5-4d76-9915-7c571c40ec8a",
   "metadata": {},
   "outputs": [],
   "source": [
    "a = np.array(mylist)"
   ]
  },
  {
   "cell_type": "code",
   "execution_count": 142,
   "id": "516a19a4-b355-4007-ac7d-5e477e7536ec",
   "metadata": {},
   "outputs": [
    {
     "data": {
      "text/plain": [
       "array([1, 2, 3])"
      ]
     },
     "execution_count": 142,
     "metadata": {},
     "output_type": "execute_result"
    }
   ],
   "source": [
    "a"
   ]
  },
  {
   "cell_type": "code",
   "execution_count": 143,
   "id": "6d348796-a519-46ac-b0e2-4dfabbdab977",
   "metadata": {},
   "outputs": [
    {
     "data": {
      "text/plain": [
       "numpy.ndarray"
      ]
     },
     "execution_count": 143,
     "metadata": {},
     "output_type": "execute_result"
    }
   ],
   "source": [
    "type(a)"
   ]
  },
  {
   "cell_type": "code",
   "execution_count": 144,
   "id": "e9878e33-1b1c-456b-b6ea-210a06724063",
   "metadata": {},
   "outputs": [],
   "source": [
    "my_matrix = [[1,2,3], [4,5,6], [7,8,9]]"
   ]
  },
  {
   "cell_type": "code",
   "execution_count": 145,
   "id": "c4eb7426-8cdf-4587-966d-857d7603489b",
   "metadata": {},
   "outputs": [
    {
     "data": {
      "text/plain": [
       "[[1, 2, 3], [4, 5, 6], [7, 8, 9]]"
      ]
     },
     "execution_count": 145,
     "metadata": {},
     "output_type": "execute_result"
    }
   ],
   "source": [
    "my_matrix # its a nested list"
   ]
  },
  {
   "cell_type": "code",
   "execution_count": 146,
   "id": "4d2e8ae3-39cb-4ace-9b4e-ed35aa8e1a96",
   "metadata": {},
   "outputs": [],
   "source": [
    "b = np.array(my_matrix)"
   ]
  },
  {
   "cell_type": "code",
   "execution_count": 149,
   "id": "2abd3a90-dce1-497a-9e8d-7faf8c2e4e13",
   "metadata": {},
   "outputs": [
    {
     "data": {
      "text/plain": [
       "array([[1, 2, 3],\n",
       "       [4, 5, 6],\n",
       "       [7, 8, 9]])"
      ]
     },
     "execution_count": 149,
     "metadata": {},
     "output_type": "execute_result"
    }
   ],
   "source": [
    "b"
   ]
  },
  {
   "cell_type": "code",
   "execution_count": 150,
   "id": "c10c02ca-4f95-40f9-9a5f-2824e184265e",
   "metadata": {},
   "outputs": [
    {
     "data": {
      "text/plain": [
       "(3, 3)"
      ]
     },
     "execution_count": 150,
     "metadata": {},
     "output_type": "execute_result"
    }
   ],
   "source": [
    "b.shape"
   ]
  },
  {
   "cell_type": "code",
   "execution_count": 152,
   "id": "2843e51e-dd11-4521-bd68-1798749a1471",
   "metadata": {},
   "outputs": [
    {
     "data": {
      "text/plain": [
       "9"
      ]
     },
     "execution_count": 152,
     "metadata": {},
     "output_type": "execute_result"
    }
   ],
   "source": [
    "b.size # returns the no. of elements in an array, i.e. m*n"
   ]
  },
  {
   "cell_type": "code",
   "execution_count": 153,
   "id": "0565f804-09a2-4390-920c-52fdcfa57e3f",
   "metadata": {},
   "outputs": [
    {
     "data": {
      "text/plain": [
       "5"
      ]
     },
     "execution_count": 153,
     "metadata": {},
     "output_type": "execute_result"
    }
   ],
   "source": [
    "a = np.ones(5)\n",
    "a.size"
   ]
  },
  {
   "cell_type": "markdown",
   "id": "19823666-6659-412c-af73-72d2b99630f8",
   "metadata": {},
   "source": [
    "**creating a range of values**"
   ]
  },
  {
   "cell_type": "code",
   "execution_count": 154,
   "id": "f9a4796d-3b41-4198-a8e4-67540f4a815d",
   "metadata": {},
   "outputs": [
    {
     "data": {
      "text/plain": [
       "array([0, 1, 2, 3, 4])"
      ]
     },
     "execution_count": 154,
     "metadata": {},
     "output_type": "execute_result"
    }
   ],
   "source": [
    "np.arange(5) #similar to range() in python"
   ]
  },
  {
   "cell_type": "code",
   "execution_count": 155,
   "id": "5c43a148-1320-4568-b725-db232e7be66f",
   "metadata": {},
   "outputs": [
    {
     "data": {
      "text/plain": [
       "array([ 2,  3,  4,  5,  6,  7,  8,  9, 10, 11])"
      ]
     },
     "execution_count": 155,
     "metadata": {},
     "output_type": "execute_result"
    }
   ],
   "source": [
    "np.arange(2, 12) # note that right bound is not included just like range()"
   ]
  },
  {
   "cell_type": "code",
   "execution_count": 156,
   "id": "1e132d7d-2e77-4e21-90a7-a746036c8e2a",
   "metadata": {},
   "outputs": [
    {
     "data": {
      "text/plain": [
       "array([ 2,  4,  6,  8, 10])"
      ]
     },
     "execution_count": 156,
     "metadata": {},
     "output_type": "execute_result"
    }
   ],
   "source": [
    "np.arange(2,12,2)"
   ]
  },
  {
   "cell_type": "code",
   "execution_count": 157,
   "id": "f84a6caa-3c6e-401f-b670-5179c6766f38",
   "metadata": {},
   "outputs": [
    {
     "data": {
      "text/plain": [
       "array([], dtype=int32)"
      ]
     },
     "execution_count": 157,
     "metadata": {},
     "output_type": "execute_result"
    }
   ],
   "source": [
    "np.arange(2,12,-2) # empty array as its not possible to move from 2 to 12 with negative step size"
   ]
  },
  {
   "cell_type": "code",
   "execution_count": 158,
   "id": "fe9155fb-e812-467b-aa0a-641c9f297a5e",
   "metadata": {},
   "outputs": [],
   "source": [
    "q = np.arange(2,12,-2)"
   ]
  },
  {
   "cell_type": "code",
   "execution_count": 159,
   "id": "e72b517d-b575-4c9b-8fa5-63f9093fd60d",
   "metadata": {},
   "outputs": [
    {
     "data": {
      "text/plain": [
       "numpy.ndarray"
      ]
     },
     "execution_count": 159,
     "metadata": {},
     "output_type": "execute_result"
    }
   ],
   "source": [
    "type(q)"
   ]
  },
  {
   "cell_type": "code",
   "execution_count": 160,
   "id": "d22b1199-1e61-4a8b-a0c1-c0a321554c13",
   "metadata": {},
   "outputs": [
    {
     "data": {
      "text/plain": [
       "(0,)"
      ]
     },
     "execution_count": 160,
     "metadata": {},
     "output_type": "execute_result"
    }
   ],
   "source": [
    "q.shape"
   ]
  },
  {
   "cell_type": "code",
   "execution_count": 162,
   "id": "14285ea8-a266-4db5-8f70-7eaeeb07dd97",
   "metadata": {},
   "outputs": [
    {
     "data": {
      "text/plain": [
       "0"
      ]
     },
     "execution_count": 162,
     "metadata": {},
     "output_type": "execute_result"
    }
   ],
   "source": [
    "q.size # as its an empty array"
   ]
  },
  {
   "cell_type": "code",
   "execution_count": 163,
   "id": "db9bbcf0-6b30-4de1-99e3-cb40edbadebf",
   "metadata": {},
   "outputs": [
    {
     "data": {
      "text/plain": [
       "array([-5, -4, -3, -2, -1,  0,  1,  2,  3,  4,  5,  6])"
      ]
     },
     "execution_count": 163,
     "metadata": {},
     "output_type": "execute_result"
    }
   ],
   "source": [
    "np.arange(-5,7)"
   ]
  },
  {
   "cell_type": "markdown",
   "id": "b02ca318-85da-4cb4-a01c-d19854f7c48a",
   "metadata": {},
   "source": [
    "Numpy also provides some handy functions to create arrays of desired shapes with fixed or random values. "
   ]
  },
  {
   "cell_type": "code",
   "execution_count": 164,
   "id": "d773e2ab-982b-46d9-a1b3-360db368a6d1",
   "metadata": {},
   "outputs": [
    {
     "data": {
      "text/plain": [
       "array([[0., 0.],\n",
       "       [0., 0.],\n",
       "       [0., 0.]])"
      ]
     },
     "execution_count": 164,
     "metadata": {},
     "output_type": "execute_result"
    }
   ],
   "source": [
    "# All zeros\n",
    "np.zeros((3, 2))   #for the size parameter, we can pass as a tuple (2,3) or a list [2,3], both allowed"
   ]
  },
  {
   "cell_type": "code",
   "execution_count": 165,
   "id": "61134f63-aa17-4e55-9530-47f4e9b0698a",
   "metadata": {},
   "outputs": [
    {
     "data": {
      "text/plain": [
       "array([0., 0., 0., 0., 0.])"
      ]
     },
     "execution_count": 165,
     "metadata": {},
     "output_type": "execute_result"
    }
   ],
   "source": [
    "np.zeros(5)"
   ]
  },
  {
   "cell_type": "code",
   "execution_count": 166,
   "id": "c138c4f0-4781-4b2b-8fe4-38eee700625b",
   "metadata": {},
   "outputs": [
    {
     "data": {
      "text/plain": [
       "array([1., 1., 1., 1., 1.])"
      ]
     },
     "execution_count": 166,
     "metadata": {},
     "output_type": "execute_result"
    }
   ],
   "source": [
    "# All one\n",
    "np.ones(5)"
   ]
  },
  {
   "cell_type": "code",
   "execution_count": 167,
   "id": "490366c3-8e96-4c51-8d06-e6aa23609e7f",
   "metadata": {},
   "outputs": [
    {
     "data": {
      "text/plain": [
       "array([[[1., 1., 1.],\n",
       "        [1., 1., 1.]],\n",
       "\n",
       "       [[1., 1., 1.],\n",
       "        [1., 1., 1.]]])"
      ]
     },
     "execution_count": 167,
     "metadata": {},
     "output_type": "execute_result"
    }
   ],
   "source": [
    "np.ones([2,2,3])"
   ]
  },
  {
   "cell_type": "code",
   "execution_count": 169,
   "id": "155fa2b4-284c-4882-91ef-41fa605aa737",
   "metadata": {},
   "outputs": [
    {
     "data": {
      "text/plain": [
       "array([[1., 1., 1.],\n",
       "       [1., 1., 1.]])"
      ]
     },
     "execution_count": 169,
     "metadata": {},
     "output_type": "execute_result"
    }
   ],
   "source": [
    "np.ones(shape=[2,3])"
   ]
  },
  {
   "cell_type": "code",
   "execution_count": 170,
   "id": "9fc4a46f-0956-44c5-8116-c5d9c2e460fc",
   "metadata": {},
   "outputs": [
    {
     "data": {
      "text/plain": [
       "array([[1., 0., 0.],\n",
       "       [0., 1., 0.],\n",
       "       [0., 0., 1.]])"
      ]
     },
     "execution_count": 170,
     "metadata": {},
     "output_type": "execute_result"
    }
   ],
   "source": [
    "np.eye(3) # if only 1 argument is passed, it returns an identity matrix"
   ]
  },
  {
   "cell_type": "code",
   "execution_count": 171,
   "id": "e7510a4d-6d33-4ed1-910b-7b09429688d2",
   "metadata": {},
   "outputs": [
    {
     "data": {
      "text/plain": [
       "array([[1., 0., 0.],\n",
       "       [0., 1., 0.]])"
      ]
     },
     "execution_count": 171,
     "metadata": {},
     "output_type": "execute_result"
    }
   ],
   "source": [
    "np.eye(2,3)"
   ]
  },
  {
   "cell_type": "code",
   "execution_count": 90,
   "id": "828d32ba-0fc9-4255-9e49-6b4b0e57d5f2",
   "metadata": {},
   "outputs": [
    {
     "data": {
      "text/plain": [
       "array([[1., 0., 0., 0., 0., 0.],\n",
       "       [0., 1., 0., 0., 0., 0.],\n",
       "       [0., 0., 1., 0., 0., 0.],\n",
       "       [0., 0., 0., 1., 0., 0.]])"
      ]
     },
     "execution_count": 90,
     "metadata": {},
     "output_type": "execute_result"
    }
   ],
   "source": [
    "np.eye(4,6)"
   ]
  },
  {
   "cell_type": "markdown",
   "id": "b14b4a8e-3ac7-4ea5-ad97-b5375d82c0e3",
   "metadata": {},
   "source": [
    "`np.linspace()` to get equally spaced numbers in a range"
   ]
  },
  {
   "cell_type": "code",
   "execution_count": 91,
   "id": "95b39f50-efd8-4912-8dde-4168853f06b8",
   "metadata": {},
   "outputs": [
    {
     "data": {
      "text/plain": [
       "array([ 3.,  6.,  9., 12., 15., 18., 21., 24., 27.])"
      ]
     },
     "execution_count": 91,
     "metadata": {},
     "output_type": "execute_result"
    }
   ],
   "source": [
    "np.linspace(3,27,9) # we want 9 numbers between 3 and 27 both included. "
   ]
  },
  {
   "cell_type": "code",
   "execution_count": 92,
   "id": "364155bb-fe9c-43a5-84e8-304a9308484a",
   "metadata": {},
   "outputs": [
    {
     "data": {
      "text/plain": [
       "array([ 3.        ,  4.71428571,  6.42857143,  8.14285714,  9.85714286,\n",
       "       11.57142857, 13.28571429, 15.        , 16.71428571, 18.42857143,\n",
       "       20.14285714, 21.85714286, 23.57142857, 25.28571429, 27.        ])"
      ]
     },
     "execution_count": 92,
     "metadata": {},
     "output_type": "execute_result"
    }
   ],
   "source": [
    "np.linspace(3,27,15) # note that the difference between any 2 consecutive numbers will come out to be a fixed value"
   ]
  },
  {
   "cell_type": "markdown",
   "id": "43c932a8-6748-47e8-8d1d-3930f5f14664",
   "metadata": {},
   "source": [
    "**NOTE**: unlike `range()` and `np.arange()`, `np.linspace()` includes the right extreme value."
   ]
  },
  {
   "cell_type": "code",
   "execution_count": 173,
   "id": "c5eb531e-b87a-4929-a404-41637ebf3d6c",
   "metadata": {},
   "outputs": [
    {
     "data": {
      "text/plain": [
       "array([3., 6., 9.])"
      ]
     },
     "execution_count": 173,
     "metadata": {},
     "output_type": "execute_result"
    }
   ],
   "source": [
    "np.linspace(3,9,3)"
   ]
  },
  {
   "cell_type": "code",
   "execution_count": 174,
   "id": "34758de8-9038-47f9-b559-de94ff4d58d6",
   "metadata": {},
   "outputs": [
    {
     "data": {
      "text/plain": [
       "array([ 0.        ,  1.11111111,  2.22222222,  3.33333333,  4.44444444,\n",
       "        5.55555556,  6.66666667,  7.77777778,  8.88888889, 10.        ])"
      ]
     },
     "execution_count": 174,
     "metadata": {},
     "output_type": "execute_result"
    }
   ],
   "source": [
    "np.linspace(0,10,10)"
   ]
  },
  {
   "cell_type": "code",
   "execution_count": 175,
   "id": "a8d13e62-49e6-4238-bbe9-b09a140e6b57",
   "metadata": {},
   "outputs": [
    {
     "data": {
      "text/plain": [
       "array([ 0.,  1.,  2.,  3.,  4.,  5.,  6.,  7.,  8.,  9., 10.])"
      ]
     },
     "execution_count": 175,
     "metadata": {},
     "output_type": "execute_result"
    }
   ],
   "source": [
    "np.linspace(0,10,11)"
   ]
  },
  {
   "cell_type": "code",
   "execution_count": 176,
   "id": "3805f182-0921-4888-9837-c67307da0fd7",
   "metadata": {},
   "outputs": [
    {
     "data": {
      "text/plain": [
       "array([0.  , 0.25, 0.5 , 0.75, 1.  , 1.25, 1.5 , 1.75, 2.  , 2.25, 2.5 ,\n",
       "       2.75, 3.  , 3.25, 3.5 , 3.75, 4.  , 4.25, 4.5 , 4.75, 5.  ])"
      ]
     },
     "execution_count": 176,
     "metadata": {},
     "output_type": "execute_result"
    }
   ],
   "source": [
    "np.linspace(0,5,21)"
   ]
  },
  {
   "cell_type": "markdown",
   "id": "01d7528e-86dd-4824-896e-4f978381dd85",
   "metadata": {},
   "source": [
    "**populating array with a fixed element**"
   ]
  },
  {
   "cell_type": "code",
   "execution_count": 177,
   "id": "8a1f2f60-d668-4d56-b89a-23ad7f22e372",
   "metadata": {},
   "outputs": [
    {
     "data": {
      "text/plain": [
       "array([3, 3, 3, 3, 3])"
      ]
     },
     "execution_count": 177,
     "metadata": {},
     "output_type": "execute_result"
    }
   ],
   "source": [
    "np.full(5,3) # i.e. np.full(shape, element)"
   ]
  },
  {
   "cell_type": "code",
   "execution_count": 178,
   "id": "d311c9ab-cb5d-4633-98e3-b16b1d0b0490",
   "metadata": {},
   "outputs": [
    {
     "data": {
      "text/plain": [
       "array([[42, 42, 42],\n",
       "       [42, 42, 42]])"
      ]
     },
     "execution_count": 178,
     "metadata": {},
     "output_type": "execute_result"
    }
   ],
   "source": [
    "np.full([2,3], 42)"
   ]
  },
  {
   "cell_type": "code",
   "execution_count": 179,
   "id": "8cc6e60a-a2c3-4be0-867b-dbc4e172ddcd",
   "metadata": {},
   "outputs": [
    {
     "data": {
      "text/plain": [
       "array([[42, 42, 42],\n",
       "       [42, 42, 42]])"
      ]
     },
     "execution_count": 179,
     "metadata": {},
     "output_type": "execute_result"
    }
   ],
   "source": [
    "np.full((2,3), 42)"
   ]
  },
  {
   "cell_type": "code",
   "execution_count": 180,
   "id": "eaf6717a-8e90-4271-a909-206e1f991469",
   "metadata": {},
   "outputs": [
    {
     "data": {
      "text/plain": [
       "array([[6, 7, 8],\n",
       "       [6, 7, 8]])"
      ]
     },
     "execution_count": 180,
     "metadata": {},
     "output_type": "execute_result"
    }
   ],
   "source": [
    "np.full([2,3], [6,7,8]) # broadcasted [6,7,8]"
   ]
  },
  {
   "cell_type": "code",
   "execution_count": 182,
   "id": "3f804125-9c5b-4fe3-878e-29a546464f7a",
   "metadata": {},
   "outputs": [
    {
     "ename": "ValueError",
     "evalue": "could not broadcast input array from shape (2,) into shape (2,3)",
     "output_type": "error",
     "traceback": [
      "\u001b[1;31m---------------------------------------------------------------------------\u001b[0m",
      "\u001b[1;31mValueError\u001b[0m                                Traceback (most recent call last)",
      "Cell \u001b[1;32mIn[182], line 1\u001b[0m\n\u001b[1;32m----> 1\u001b[0m \u001b[43mnp\u001b[49m\u001b[38;5;241;43m.\u001b[39;49m\u001b[43mfull\u001b[49m\u001b[43m(\u001b[49m\u001b[43m[\u001b[49m\u001b[38;5;241;43m2\u001b[39;49m\u001b[43m,\u001b[49m\u001b[38;5;241;43m3\u001b[39;49m\u001b[43m]\u001b[49m\u001b[43m,\u001b[49m\u001b[43m \u001b[49m\u001b[43m[\u001b[49m\u001b[38;5;241;43m6\u001b[39;49m\u001b[43m,\u001b[49m\u001b[38;5;241;43m7\u001b[39;49m\u001b[43m]\u001b[49m\u001b[43m)\u001b[49m \u001b[38;5;66;03m# ERROR: could not broadcast input array from shape (2,) into shape (2,3)\u001b[39;00m\n",
      "File \u001b[1;32mR:\\Ubuntu_linux\\mar_22\\lib\\site-packages\\numpy\\core\\numeric.py:330\u001b[0m, in \u001b[0;36mfull\u001b[1;34m(shape, fill_value, dtype, order, like)\u001b[0m\n\u001b[0;32m    328\u001b[0m     dtype \u001b[38;5;241m=\u001b[39m fill_value\u001b[38;5;241m.\u001b[39mdtype\n\u001b[0;32m    329\u001b[0m a \u001b[38;5;241m=\u001b[39m empty(shape, dtype, order)\n\u001b[1;32m--> 330\u001b[0m \u001b[43mmultiarray\u001b[49m\u001b[38;5;241;43m.\u001b[39;49m\u001b[43mcopyto\u001b[49m\u001b[43m(\u001b[49m\u001b[43ma\u001b[49m\u001b[43m,\u001b[49m\u001b[43m \u001b[49m\u001b[43mfill_value\u001b[49m\u001b[43m,\u001b[49m\u001b[43m \u001b[49m\u001b[43mcasting\u001b[49m\u001b[38;5;241;43m=\u001b[39;49m\u001b[38;5;124;43m'\u001b[39;49m\u001b[38;5;124;43munsafe\u001b[39;49m\u001b[38;5;124;43m'\u001b[39;49m\u001b[43m)\u001b[49m\n\u001b[0;32m    331\u001b[0m \u001b[38;5;28;01mreturn\u001b[39;00m a\n",
      "\u001b[1;31mValueError\u001b[0m: could not broadcast input array from shape (2,) into shape (2,3)"
     ]
    }
   ],
   "source": [
    "np.full([2,3], [6,7]) # ERROR: could not broadcast input array from shape (2,) into shape (2,3)"
   ]
  },
  {
   "cell_type": "markdown",
   "id": "d9b70fe0-ed15-4859-b74d-cca54f05abde",
   "metadata": {},
   "source": [
    "**element wise product (this is not dot or tensor product)**"
   ]
  },
  {
   "cell_type": "code",
   "execution_count": 183,
   "id": "607d3d50-cba5-4078-baa6-d0e070260122",
   "metadata": {},
   "outputs": [],
   "source": [
    "import numpy as np"
   ]
  },
  {
   "cell_type": "code",
   "execution_count": 192,
   "id": "e6e78c85-a9a1-4763-8c55-484b4396c9a3",
   "metadata": {},
   "outputs": [],
   "source": [
    "np.random.seed(42)\n",
    "a = np.random.randint(10,size=(3,2))\n",
    "b = np.random.randint(10,size=(3,2))"
   ]
  },
  {
   "cell_type": "code",
   "execution_count": 193,
   "id": "2d8caf6f-6646-4064-9088-8f82abfc562d",
   "metadata": {},
   "outputs": [
    {
     "data": {
      "text/plain": [
       "array([[6, 3],\n",
       "       [7, 4],\n",
       "       [6, 9]])"
      ]
     },
     "execution_count": 193,
     "metadata": {},
     "output_type": "execute_result"
    }
   ],
   "source": [
    "a"
   ]
  },
  {
   "cell_type": "code",
   "execution_count": 194,
   "id": "91bf0255-6110-49fd-a1b2-37df712fc802",
   "metadata": {},
   "outputs": [
    {
     "data": {
      "text/plain": [
       "array([[2, 6],\n",
       "       [7, 4],\n",
       "       [3, 7]])"
      ]
     },
     "execution_count": 194,
     "metadata": {},
     "output_type": "execute_result"
    }
   ],
   "source": [
    "b"
   ]
  },
  {
   "cell_type": "code",
   "execution_count": 195,
   "id": "1769e166-d03f-4004-9422-ee0b76e0e81f",
   "metadata": {},
   "outputs": [
    {
     "data": {
      "text/plain": [
       "array([[12, 18],\n",
       "       [49, 16],\n",
       "       [18, 63]])"
      ]
     },
     "execution_count": 195,
     "metadata": {},
     "output_type": "execute_result"
    }
   ],
   "source": [
    "a * b"
   ]
  },
  {
   "cell_type": "markdown",
   "id": "5d1a3c6c-7506-4fcc-b085-2804bc65de62",
   "metadata": {},
   "source": [
    "---"
   ]
  },
  {
   "cell_type": "markdown",
   "id": "8d0e230e-8a13-43cc-826d-c0b784cd919c",
   "metadata": {},
   "source": [
    "## Random numbers"
   ]
  },
  {
   "cell_type": "markdown",
   "id": "cafcc1bd-b7b2-4a48-a079-484e58a169e8",
   "metadata": {},
   "source": [
    "Numpy has its own random number generator in the `np.random` package. It has a bunch of classes for handling different cases."
   ]
  },
  {
   "cell_type": "markdown",
   "id": "7074ece0-a5f1-4c0d-9e34-dba93b8b8845",
   "metadata": {},
   "source": [
    "It generates pseudo random numbers. i.e. it moves through a seed number everytime rand is run. So if you specify the seed number you will get the exact same set of numbers again and again."
   ]
  },
  {
   "cell_type": "code",
   "execution_count": 197,
   "id": "ab4f003d-f2c1-4d26-9e59-221fc49d5e08",
   "metadata": {},
   "outputs": [
    {
     "data": {
      "text/plain": [
       "array([0.37454012, 0.95071431, 0.73199394, 0.59865848, 0.15601864])"
      ]
     },
     "execution_count": 197,
     "metadata": {},
     "output_type": "execute_result"
    }
   ],
   "source": [
    "np.random.seed(42)\n",
    "np.random.rand(5) # Create an array of the given shape and populate it with random samples from a uniform distribution over [0,1)"
   ]
  },
  {
   "cell_type": "code",
   "execution_count": 198,
   "id": "a329a0c5-fcb9-4bf1-954f-fd69ff7af7f6",
   "metadata": {},
   "outputs": [
    {
     "data": {
      "text/plain": [
       "array([0.37454012, 0.95071431, 0.73199394, 0.59865848, 0.15601864])"
      ]
     },
     "execution_count": 198,
     "metadata": {},
     "output_type": "execute_result"
    }
   ],
   "source": [
    "np.random.seed(42)\n",
    "np.random.random(5) # exactly the same as np.random.rand() above. just an alias"
   ]
  },
  {
   "cell_type": "markdown",
   "id": "a2189849-5364-43c9-8b5a-3d069aa95de0",
   "metadata": {},
   "source": [
    "**NOTE**: that both `rand()` and `random()` return the same no. on seeding to 42"
   ]
  },
  {
   "cell_type": "code",
   "execution_count": 199,
   "id": "be95bea2-527d-4b45-8b8c-494db521ff3e",
   "metadata": {},
   "outputs": [
    {
     "name": "stdout",
     "output_type": "stream",
     "text": [
      "[[0.37454012 0.95071431 0.73199394]\n",
      " [0.59865848 0.15601864 0.15599452]]\n",
      "[[0.37454012 0.95071431 0.73199394]\n",
      " [0.59865848 0.15601864 0.15599452]]\n"
     ]
    }
   ],
   "source": [
    "np.random.seed(42)\n",
    "print(np.random.random((2,3)))\n",
    "np.random.seed(42)\n",
    "print(np.random.rand(2,3))"
   ]
  },
  {
   "cell_type": "code",
   "execution_count": 200,
   "id": "e35cf855-36ee-4ccf-823a-f34248e64d9a",
   "metadata": {},
   "outputs": [
    {
     "data": {
      "text/plain": [
       "0.05808361216819946"
      ]
     },
     "execution_count": 200,
     "metadata": {},
     "output_type": "execute_result"
    }
   ],
   "source": [
    "np.random.rand() # returns a float not an array as no dimensions are passed"
   ]
  },
  {
   "cell_type": "code",
   "execution_count": 201,
   "id": "403fb9c9-e854-49b9-8abe-8d38f808cfc2",
   "metadata": {},
   "outputs": [
    {
     "data": {
      "text/plain": [
       "array([0.86617615])"
      ]
     },
     "execution_count": 201,
     "metadata": {},
     "output_type": "execute_result"
    }
   ],
   "source": [
    "np.random.rand(1) #returns a 1d array of shape (1,)"
   ]
  },
  {
   "cell_type": "code",
   "execution_count": 204,
   "id": "75aa482a-d124-4285-8195-01dde07a673e",
   "metadata": {},
   "outputs": [
    {
     "data": {
      "text/plain": [
       "array([[-0.90802408, -1.4123037 ,  1.46564877],\n",
       "       [-0.2257763 ,  0.0675282 , -1.42474819]])"
      ]
     },
     "execution_count": 204,
     "metadata": {},
     "output_type": "execute_result"
    }
   ],
   "source": [
    "np.random.randn(2,3) # Return a sample (or samples) from the \"standard normal\" distribution"
   ]
  },
  {
   "cell_type": "markdown",
   "id": "c68598c2-ebb3-4507-b5ba-f44911440a55",
   "metadata": {},
   "source": [
    "- `np.random.rand` is for Uniform distribution (in the half-open interval [0.0, 1.0))\n",
    "- `np.random.randn` is for Standard Normal (aka. Gaussian) distribution **(mean 0 and variance 1)**\n"
   ]
  },
  {
   "cell_type": "markdown",
   "id": "4f895776-1b1d-40cb-8d93-ae3da56a40ce",
   "metadata": {},
   "source": [
    "https://stackoverflow.com/questions/47240308/differences-between-numpy-random-rand-vs-numpy-random-randn-in-python#:~:text=You%20can%20visually%20explore%20the%20differences%20between%20these%20two%20very%20easily%3A"
   ]
  },
  {
   "cell_type": "code",
   "execution_count": 205,
   "id": "4e192399-89ee-4eb4-b5b8-4ac1d1458d9c",
   "metadata": {},
   "outputs": [
    {
     "data": {
      "text/plain": [
       "0.0009327171836506968"
      ]
     },
     "execution_count": 205,
     "metadata": {},
     "output_type": "execute_result"
    }
   ],
   "source": [
    "a = np.random.randn(100000)\n",
    "a.mean()"
   ]
  },
  {
   "cell_type": "code",
   "execution_count": 206,
   "id": "930aea45-a7a7-4c6e-a3e1-14ed2198ca16",
   "metadata": {},
   "outputs": [
    {
     "data": {
      "text/plain": [
       "1.0009599107901719"
      ]
     },
     "execution_count": 206,
     "metadata": {},
     "output_type": "execute_result"
    }
   ],
   "source": [
    "a.std()"
   ]
  },
  {
   "cell_type": "code",
   "execution_count": 207,
   "id": "dbf6070d-28d7-443a-a342-7a99122c569a",
   "metadata": {},
   "outputs": [
    {
     "data": {
      "text/plain": [
       "(100000,)"
      ]
     },
     "execution_count": 207,
     "metadata": {},
     "output_type": "execute_result"
    }
   ],
   "source": [
    "a.shape"
   ]
  },
  {
   "cell_type": "code",
   "execution_count": 208,
   "id": "76315d3a-0c0f-4235-bf93-04f08313bda9",
   "metadata": {},
   "outputs": [
    {
     "data": {
      "text/plain": [
       "0.4967141530112327"
      ]
     },
     "execution_count": 208,
     "metadata": {},
     "output_type": "execute_result"
    }
   ],
   "source": [
    "np.random.seed(42)\n",
    "np.random.randn()"
   ]
  },
  {
   "cell_type": "code",
   "execution_count": 209,
   "id": "ad8bc241-cc17-4620-89c5-3476e558b8d4",
   "metadata": {},
   "outputs": [
    {
     "data": {
      "text/plain": [
       "0.4967141530112327"
      ]
     },
     "execution_count": 209,
     "metadata": {},
     "output_type": "execute_result"
    }
   ],
   "source": [
    "np.random.seed(42)\n",
    "np.random.normal()\n",
    "\n",
    "# so random.normal and random.randn() are pretty much similar.\n",
    "# but normal() allows setting the mean and std_dev of the distribution while randn() draws\n",
    "# always from the standard normal distribution with mean=0 and std_dev=1"
   ]
  },
  {
   "cell_type": "code",
   "execution_count": 211,
   "id": "b9efd153-17ec-458e-b5d0-b85387f685f3",
   "metadata": {},
   "outputs": [
    {
     "data": {
      "text/plain": [
       "6.295377076201385"
      ]
     },
     "execution_count": 211,
     "metadata": {},
     "output_type": "execute_result"
    }
   ],
   "source": [
    "np.random.normal(loc=5, scale=2)\n",
    "# loc=mean\n",
    "# scale=sigma=std_deviation"
   ]
  },
  {
   "cell_type": "code",
   "execution_count": 212,
   "id": "ee07472c-86cd-46c8-b558-c66069fbb4bb",
   "metadata": {},
   "outputs": [
    {
     "data": {
      "text/plain": [
       "array([[0.15601864],\n",
       "       [0.15599452],\n",
       "       [0.05808361]])"
      ]
     },
     "execution_count": 212,
     "metadata": {},
     "output_type": "execute_result"
    }
   ],
   "source": [
    "np.random.uniform(low=0., high=1., size=(3,1))\n",
    "# Draw samples from a uniform distribution.\n",
    "# Samples are uniformly distributed over the half-open interval [low, high)"
   ]
  },
  {
   "cell_type": "code",
   "execution_count": 213,
   "id": "f1a10737-4c82-4076-9389-b9827c2ed47b",
   "metadata": {},
   "outputs": [
    {
     "data": {
      "text/plain": [
       "4"
      ]
     },
     "execution_count": 213,
     "metadata": {},
     "output_type": "execute_result"
    }
   ],
   "source": [
    "np.random.randint(5) # Return random integers from the \"discrete uniform\" distribution of the specified dtype in the \"half-open\" interval [`low`, `high`)\n",
    "# if only 1 argument is passed, i.e. low, then integers are returned from the interval [0,low)"
   ]
  },
  {
   "cell_type": "code",
   "execution_count": 214,
   "id": "d08a8ce6-ef10-4b60-93d1-d2560a3099e1",
   "metadata": {},
   "outputs": [
    {
     "data": {
      "text/plain": [
       "8"
      ]
     },
     "execution_count": 214,
     "metadata": {},
     "output_type": "execute_result"
    }
   ],
   "source": [
    "np.random.randint(5,10) #integers from [5,10)"
   ]
  },
  {
   "cell_type": "code",
   "execution_count": 215,
   "id": "49abb74c-996d-43b4-a7e0-acde8aba12c8",
   "metadata": {},
   "outputs": [
    {
     "data": {
      "text/plain": [
       "array([[7, 9, 6],\n",
       "       [8, 6, 8]])"
      ]
     },
     "execution_count": 215,
     "metadata": {},
     "output_type": "execute_result"
    }
   ],
   "source": [
    "np.random.randint(5,10, size=(2,3))"
   ]
  },
  {
   "cell_type": "markdown",
   "id": "983c3070-57e0-471e-9997-6856f7ccb7b8",
   "metadata": {},
   "source": [
    "**NOTE**: pseudo randomness of the random no. generator in python allows for **reproducibilty** of your analysis by others.\n",
    "\n",
    "**NOTE**: `np.random.seed()` needs to set before every call to any np.random function."
   ]
  },
  {
   "cell_type": "markdown",
   "id": "0ad7a469-ef60-4ae6-b6aa-70412a484441",
   "metadata": {},
   "source": [
    "`.reshape()` method of numpy arrays is used to reshape / change the shape of a numpy array"
   ]
  },
  {
   "cell_type": "code",
   "execution_count": 216,
   "id": "bb0d986e-1d34-4bd4-b208-e4210cbbfa26",
   "metadata": {},
   "outputs": [],
   "source": [
    "a = np.arange(25)"
   ]
  },
  {
   "cell_type": "code",
   "execution_count": 217,
   "id": "7080a4a4-a37a-4c74-999b-4eda5f2c75e6",
   "metadata": {},
   "outputs": [
    {
     "data": {
      "text/plain": [
       "array([ 0,  1,  2,  3,  4,  5,  6,  7,  8,  9, 10, 11, 12, 13, 14, 15, 16,\n",
       "       17, 18, 19, 20, 21, 22, 23, 24])"
      ]
     },
     "execution_count": 217,
     "metadata": {},
     "output_type": "execute_result"
    }
   ],
   "source": [
    "a"
   ]
  },
  {
   "cell_type": "code",
   "execution_count": 218,
   "id": "9aed2b71-0246-4049-ac78-248f32cdbfdc",
   "metadata": {},
   "outputs": [
    {
     "data": {
      "text/plain": [
       "array([[ 0,  1,  2,  3,  4],\n",
       "       [ 5,  6,  7,  8,  9],\n",
       "       [10, 11, 12, 13, 14],\n",
       "       [15, 16, 17, 18, 19],\n",
       "       [20, 21, 22, 23, 24]])"
      ]
     },
     "execution_count": 218,
     "metadata": {},
     "output_type": "execute_result"
    }
   ],
   "source": [
    "a.reshape(5,5) # we converted a 1d array (25,) to 2d array (5,5)"
   ]
  },
  {
   "cell_type": "code",
   "execution_count": 219,
   "id": "887f7b97-0d1f-4cc9-8398-2c35f578f7df",
   "metadata": {},
   "outputs": [],
   "source": [
    "b = a.reshape(5,5)"
   ]
  },
  {
   "cell_type": "code",
   "execution_count": 220,
   "id": "1fe37873-9334-478f-ba0e-38774cb4b20d",
   "metadata": {},
   "outputs": [
    {
     "data": {
      "text/plain": [
       "array([[ 0,  1,  2,  3,  4],\n",
       "       [ 5,  6,  7,  8,  9],\n",
       "       [10, 11, 12, 13, 14],\n",
       "       [15, 16, 17, 18, 19],\n",
       "       [20, 21, 22, 23, 24]])"
      ]
     },
     "execution_count": 220,
     "metadata": {},
     "output_type": "execute_result"
    }
   ],
   "source": [
    "b"
   ]
  },
  {
   "cell_type": "code",
   "execution_count": 221,
   "id": "52a8939f-78f7-4e03-8cb1-bc4ddd8d1c89",
   "metadata": {},
   "outputs": [
    {
     "data": {
      "text/plain": [
       "array([ 0,  1,  2,  3,  4,  5,  6,  7,  8,  9, 10, 11, 12, 13, 14, 15, 16,\n",
       "       17, 18, 19, 20, 21, 22, 23, 24])"
      ]
     },
     "execution_count": 221,
     "metadata": {},
     "output_type": "execute_result"
    }
   ],
   "source": [
    "b.reshape(25) # converted back to the original shape that `a` had. infact a is still the same since variable a never got affected only a reshaped copy was created and assigned to b"
   ]
  },
  {
   "cell_type": "code",
   "execution_count": 223,
   "id": "96d3d9df-e6d7-479f-94c1-a7628fabc6ba",
   "metadata": {},
   "outputs": [
    {
     "data": {
      "text/plain": [
       "array([ 0,  1,  2,  3,  4,  5,  6,  7,  8,  9, 10, 11, 12, 13, 14, 15, 16,\n",
       "       17, 18, 19, 20, 21, 22, 23, 24])"
      ]
     },
     "execution_count": 223,
     "metadata": {},
     "output_type": "execute_result"
    }
   ],
   "source": [
    "a # a is same as before because .reshape() does not affect `a`"
   ]
  },
  {
   "cell_type": "code",
   "execution_count": 224,
   "id": "34a76aa7-21f1-4a80-9ae9-5f2a8997164b",
   "metadata": {},
   "outputs": [],
   "source": [
    "c = np.random.randint(3,45,size=(3,4))"
   ]
  },
  {
   "cell_type": "code",
   "execution_count": 225,
   "id": "3d20a6f3-14c3-4875-aca3-0183d726950d",
   "metadata": {},
   "outputs": [
    {
     "data": {
      "text/plain": [
       "array([[23, 35, 14, 24],\n",
       "       [27, 29, 44, 30],\n",
       "       [18, 17,  5, 39]])"
      ]
     },
     "execution_count": 225,
     "metadata": {},
     "output_type": "execute_result"
    }
   ],
   "source": [
    "c"
   ]
  },
  {
   "cell_type": "code",
   "execution_count": 226,
   "id": "aa970e86-f193-4e89-9cb6-0edde897eba0",
   "metadata": {},
   "outputs": [
    {
     "data": {
      "text/plain": [
       "array([[23, 35],\n",
       "       [14, 24],\n",
       "       [27, 29],\n",
       "       [44, 30],\n",
       "       [18, 17],\n",
       "       [ 5, 39]])"
      ]
     },
     "execution_count": 226,
     "metadata": {},
     "output_type": "execute_result"
    }
   ],
   "source": [
    "c.reshape(6,2)"
   ]
  },
  {
   "cell_type": "markdown",
   "id": "3f96b723-21d4-4348-95e0-6c205fd15f40",
   "metadata": {},
   "source": [
    "NOTICE how the elements got aligned. \n",
    "remember the general form of a matrix from mathematics, \n",
    "\n",
    "A = [\n",
    "\n",
    "     a11, a12, a13\n",
    "\n",
    "     a21, a22, a23\n",
    "\n",
    "     a31, a32, a33\n",
    "     \n",
    "    ]\n",
    "\n",
    "now in the reshaping pick the elements in this order only. first a11 then a12, then a13 then a21 and so on..."
   ]
  },
  {
   "cell_type": "markdown",
   "id": "d655e6d0-a0b2-4588-aca0-f8f151cc5dda",
   "metadata": {},
   "source": [
    "Similarly, in the case of 3D arrays, the elements are denoted as a111, a112, a113, a121, a122, a123, etc\n",
    "and therefore the ordering after reshaping is also going to happen accordingly."
   ]
  },
  {
   "cell_type": "code",
   "execution_count": 227,
   "id": "69bd4f57-9c4f-4efa-a310-66130da5a0e7",
   "metadata": {},
   "outputs": [],
   "source": [
    "a = np.random.randint(100,size=(4, 5, 3))"
   ]
  },
  {
   "cell_type": "code",
   "execution_count": 228,
   "id": "77b89ecd-5821-429e-ac9d-ec35dde8925c",
   "metadata": {},
   "outputs": [
    {
     "data": {
      "text/plain": [
       "array([[[50,  6, 20],\n",
       "        [72, 38, 17],\n",
       "        [ 3, 88, 59],\n",
       "        [13,  8, 89],\n",
       "        [52,  1, 83]],\n",
       "\n",
       "       [[91, 59, 70],\n",
       "        [43,  7, 46],\n",
       "        [34, 77, 80],\n",
       "        [35, 49,  3],\n",
       "        [ 1,  5, 53]],\n",
       "\n",
       "       [[ 3, 53, 92],\n",
       "        [62, 17, 89],\n",
       "        [43, 33, 73],\n",
       "        [61, 99, 13],\n",
       "        [94, 47, 14]],\n",
       "\n",
       "       [[71, 77, 86],\n",
       "        [61, 39, 84],\n",
       "        [79, 81, 52],\n",
       "        [23, 25, 88],\n",
       "        [59, 40, 28]]])"
      ]
     },
     "execution_count": 228,
     "metadata": {},
     "output_type": "execute_result"
    }
   ],
   "source": [
    "a"
   ]
  },
  {
   "cell_type": "code",
   "execution_count": 229,
   "id": "defe9e49-6063-46a7-a92b-9a63cc2efda5",
   "metadata": {},
   "outputs": [
    {
     "data": {
      "text/plain": [
       "array([[50],\n",
       "       [ 6],\n",
       "       [20],\n",
       "       [72],\n",
       "       [38],\n",
       "       [17],\n",
       "       [ 3],\n",
       "       [88],\n",
       "       [59],\n",
       "       [13],\n",
       "       [ 8],\n",
       "       [89],\n",
       "       [52],\n",
       "       [ 1],\n",
       "       [83],\n",
       "       [91],\n",
       "       [59],\n",
       "       [70],\n",
       "       [43],\n",
       "       [ 7],\n",
       "       [46],\n",
       "       [34],\n",
       "       [77],\n",
       "       [80],\n",
       "       [35],\n",
       "       [49],\n",
       "       [ 3],\n",
       "       [ 1],\n",
       "       [ 5],\n",
       "       [53],\n",
       "       [ 3],\n",
       "       [53],\n",
       "       [92],\n",
       "       [62],\n",
       "       [17],\n",
       "       [89],\n",
       "       [43],\n",
       "       [33],\n",
       "       [73],\n",
       "       [61],\n",
       "       [99],\n",
       "       [13],\n",
       "       [94],\n",
       "       [47],\n",
       "       [14],\n",
       "       [71],\n",
       "       [77],\n",
       "       [86],\n",
       "       [61],\n",
       "       [39],\n",
       "       [84],\n",
       "       [79],\n",
       "       [81],\n",
       "       [52],\n",
       "       [23],\n",
       "       [25],\n",
       "       [88],\n",
       "       [59],\n",
       "       [40],\n",
       "       [28]])"
      ]
     },
     "execution_count": 229,
     "metadata": {},
     "output_type": "execute_result"
    }
   ],
   "source": [
    "a.reshape(-1, 1)"
   ]
  },
  {
   "cell_type": "code",
   "execution_count": 230,
   "id": "c20dcdd5-93c9-47c9-b5b2-90705edc3862",
   "metadata": {},
   "outputs": [
    {
     "data": {
      "text/plain": [
       "(60, 1)"
      ]
     },
     "execution_count": 230,
     "metadata": {},
     "output_type": "execute_result"
    }
   ],
   "source": [
    "a.reshape(-1, 1).shape"
   ]
  },
  {
   "cell_type": "markdown",
   "id": "7f1e8284-e484-4897-a551-d3d03d22f29e",
   "metadata": {},
   "source": [
    "Using `numpy_array.ravel()` to flatten arrays (convert multi dimensional arrays into 1D)"
   ]
  },
  {
   "cell_type": "code",
   "execution_count": 231,
   "id": "b2dd6c95-22e8-4984-837b-ca878e6d3c8a",
   "metadata": {},
   "outputs": [],
   "source": [
    "a = np.random.randint(3,100,size=(3,4))"
   ]
  },
  {
   "cell_type": "code",
   "execution_count": 232,
   "id": "2b1779e2-0b88-4262-8ea6-e6650a112279",
   "metadata": {},
   "outputs": [
    {
     "data": {
      "text/plain": [
       "array([[17, 47, 67, 91],\n",
       "       [73, 11, 90,  3],\n",
       "       [10, 90, 65, 13]])"
      ]
     },
     "execution_count": 232,
     "metadata": {},
     "output_type": "execute_result"
    }
   ],
   "source": [
    "a"
   ]
  },
  {
   "cell_type": "code",
   "execution_count": 233,
   "id": "26bf22cc-8f1f-4cd1-a1cd-d426addc787c",
   "metadata": {},
   "outputs": [
    {
     "data": {
      "text/plain": [
       "array([17, 47, 67, 91, 73, 11, 90,  3, 10, 90, 65, 13])"
      ]
     },
     "execution_count": 233,
     "metadata": {},
     "output_type": "execute_result"
    }
   ],
   "source": [
    "a.ravel()"
   ]
  },
  {
   "cell_type": "code",
   "execution_count": 234,
   "id": "c33d4ec1-2ac5-4248-bc33-82ebe8be7659",
   "metadata": {},
   "outputs": [],
   "source": [
    "b = np.random.randint(3,100,size=5)"
   ]
  },
  {
   "cell_type": "code",
   "execution_count": 235,
   "id": "f93e30a8-2612-43a7-a89e-86366f062b8e",
   "metadata": {},
   "outputs": [
    {
     "data": {
      "text/plain": [
       "array([83, 10, 37, 37, 35])"
      ]
     },
     "execution_count": 235,
     "metadata": {},
     "output_type": "execute_result"
    }
   ],
   "source": [
    "b"
   ]
  },
  {
   "cell_type": "code",
   "execution_count": 236,
   "id": "6b48bf69-ed4f-4188-88f3-184bc6c94f59",
   "metadata": {},
   "outputs": [
    {
     "data": {
      "text/plain": [
       "array([83, 10, 37, 37, 35])"
      ]
     },
     "execution_count": 236,
     "metadata": {},
     "output_type": "execute_result"
    }
   ],
   "source": [
    "b.ravel()"
   ]
  },
  {
   "cell_type": "code",
   "execution_count": 237,
   "id": "dae7e75e-097f-417f-9321-7e2a67595075",
   "metadata": {},
   "outputs": [],
   "source": [
    "c = np.random.randint(3,100, size=(3,2,4))"
   ]
  },
  {
   "cell_type": "code",
   "execution_count": 238,
   "id": "f8b77f3e-921b-420c-85f3-3d7bc04581cc",
   "metadata": {},
   "outputs": [
    {
     "data": {
      "text/plain": [
       "array([[[ 7, 43, 30,  9],\n",
       "        [75, 74, 14, 36]],\n",
       "\n",
       "       [[35, 50, 25, 64],\n",
       "        [90, 39, 46, 88]],\n",
       "\n",
       "       [[93, 37, 67, 49],\n",
       "        [80,  5,  3,  7]]])"
      ]
     },
     "execution_count": 238,
     "metadata": {},
     "output_type": "execute_result"
    }
   ],
   "source": [
    "c"
   ]
  },
  {
   "cell_type": "code",
   "execution_count": 239,
   "id": "e4b9e5b4-6bf9-44ce-8615-d5ec192eb3dd",
   "metadata": {},
   "outputs": [
    {
     "data": {
      "text/plain": [
       "array([ 7, 43, 30,  9, 75, 74, 14, 36, 35, 50, 25, 64, 90, 39, 46, 88, 93,\n",
       "       37, 67, 49, 80,  5,  3,  7])"
      ]
     },
     "execution_count": 239,
     "metadata": {},
     "output_type": "execute_result"
    }
   ],
   "source": [
    "c.ravel()"
   ]
  },
  {
   "cell_type": "markdown",
   "id": "2a7a557f-ee06-4329-9a8c-2a2b71994f69",
   "metadata": {},
   "source": [
    "**extracting index of min and max elements** using `numpy_array.argmax()` and `numpy_array.argmin()`"
   ]
  },
  {
   "cell_type": "code",
   "execution_count": 120,
   "id": "2785ef24-66d7-4809-8517-721220c6e93a",
   "metadata": {},
   "outputs": [],
   "source": [
    "a = np.random.randint(0,100,10)"
   ]
  },
  {
   "cell_type": "code",
   "execution_count": 121,
   "id": "edf4d389-a05f-45c9-869f-fc9312998c65",
   "metadata": {},
   "outputs": [
    {
     "data": {
      "text/plain": [
       "array([69, 70, 78, 23, 66, 52, 55, 47, 77, 20])"
      ]
     },
     "execution_count": 121,
     "metadata": {},
     "output_type": "execute_result"
    }
   ],
   "source": [
    "a"
   ]
  },
  {
   "cell_type": "code",
   "execution_count": 122,
   "id": "f691392f-0d81-4738-b1ac-7e6c99c29d7e",
   "metadata": {},
   "outputs": [
    {
     "data": {
      "text/plain": [
       "20"
      ]
     },
     "execution_count": 122,
     "metadata": {},
     "output_type": "execute_result"
    }
   ],
   "source": [
    "a.min()"
   ]
  },
  {
   "cell_type": "code",
   "execution_count": 123,
   "id": "e68561d4-6f37-4a7d-877f-7d2ffade62b4",
   "metadata": {},
   "outputs": [
    {
     "data": {
      "text/plain": [
       "78"
      ]
     },
     "execution_count": 123,
     "metadata": {},
     "output_type": "execute_result"
    }
   ],
   "source": [
    "a.max()"
   ]
  },
  {
   "cell_type": "code",
   "execution_count": 124,
   "id": "f376a873-d8c2-423e-b8c5-1e7ab024c62b",
   "metadata": {},
   "outputs": [
    {
     "data": {
      "text/plain": [
       "2"
      ]
     },
     "execution_count": 124,
     "metadata": {},
     "output_type": "execute_result"
    }
   ],
   "source": [
    "a.argmax()"
   ]
  },
  {
   "cell_type": "code",
   "execution_count": 125,
   "id": "3afb87e2-36b3-47b6-86c5-b074ea139973",
   "metadata": {},
   "outputs": [
    {
     "data": {
      "text/plain": [
       "9"
      ]
     },
     "execution_count": 125,
     "metadata": {},
     "output_type": "execute_result"
    }
   ],
   "source": [
    "a.argmin()"
   ]
  },
  {
   "cell_type": "markdown",
   "id": "7edb7f33-63f2-4348-8752-466574b8f73b",
   "metadata": {},
   "source": [
    "to check the dtype of the elements of an array, use the `.dtype` attribute of an array. "
   ]
  },
  {
   "cell_type": "code",
   "execution_count": 126,
   "id": "99f91247-38a6-4540-b30f-609932afafbe",
   "metadata": {},
   "outputs": [
    {
     "data": {
      "text/plain": [
       "array([69, 70, 78, 23, 66, 52, 55, 47, 77, 20])"
      ]
     },
     "execution_count": 126,
     "metadata": {},
     "output_type": "execute_result"
    }
   ],
   "source": [
    "a"
   ]
  },
  {
   "cell_type": "code",
   "execution_count": 127,
   "id": "2f7e2623-44b1-485d-b17a-eed6e621b12f",
   "metadata": {},
   "outputs": [
    {
     "data": {
      "text/plain": [
       "dtype('int32')"
      ]
     },
     "execution_count": 127,
     "metadata": {},
     "output_type": "execute_result"
    }
   ],
   "source": [
    "a.dtype"
   ]
  },
  {
   "cell_type": "code",
   "execution_count": 128,
   "id": "42d94506-4442-48c3-8e81-6b2c61392fcd",
   "metadata": {},
   "outputs": [],
   "source": [
    "b = np.random.randn(3)"
   ]
  },
  {
   "cell_type": "code",
   "execution_count": 129,
   "id": "a4fce11a-3b3e-405a-b72e-96bee3783855",
   "metadata": {},
   "outputs": [
    {
     "data": {
      "text/plain": [
       "array([-0.85280334,  0.910766  ,  0.99582925])"
      ]
     },
     "execution_count": 129,
     "metadata": {},
     "output_type": "execute_result"
    }
   ],
   "source": [
    "b"
   ]
  },
  {
   "cell_type": "code",
   "execution_count": 130,
   "id": "6c5c6e10-0c2c-4f98-a57c-38a7804e653e",
   "metadata": {},
   "outputs": [
    {
     "data": {
      "text/plain": [
       "dtype('float64')"
      ]
     },
     "execution_count": 130,
     "metadata": {},
     "output_type": "execute_result"
    }
   ],
   "source": [
    "b.dtype"
   ]
  },
  {
   "cell_type": "markdown",
   "id": "97b91c77-28f1-4d22-888f-846949e4fcf4",
   "metadata": {},
   "source": [
    "### Array indexing and slicing"
   ]
  },
  {
   "cell_type": "markdown",
   "id": "d4d46bcb-b706-4648-8826-f610772c3ff5",
   "metadata": {},
   "source": [
    "Numpy extends Python's list indexing notation using [ ] to multiple dimensions in an intuitive fashion. You can provide a comma-separated list of indices or ranges to select a specific element or a subarray (also called a slice) from a Numpy array."
   ]
  },
  {
   "cell_type": "code",
   "execution_count": 134,
   "id": "b40ea45b-6ff8-486a-bad6-fc25e16cc84b",
   "metadata": {},
   "outputs": [],
   "source": [
    "arr3 = np.array([\n",
    "    [[11, 12, 13, 14],\n",
    "     [13, 14, 15, 19]],\n",
    "    \n",
    "    [[15, 16, 17, 21],\n",
    "     [63, 92, 36, 18]],\n",
    "    \n",
    "    [[98, 32, 81, 23],      \n",
    "     [17, 18, 19.5, 43]]])\n"
   ]
  },
  {
   "cell_type": "code",
   "execution_count": 190,
   "id": "f4137ca1-7d75-4124-81b9-6d981f8a110b",
   "metadata": {},
   "outputs": [
    {
     "data": {
      "text/plain": [
       "array([[[11. , 12. , 13. , 14. ],\n",
       "        [13. , 14. , 15. , 19. ]],\n",
       "\n",
       "       [[15. , 16. , 17. , 21. ],\n",
       "        [63. , 92. , 36. , 18. ]],\n",
       "\n",
       "       [[98. , 32. , 81. , 23. ],\n",
       "        [17. , 18. , 19.5, 43. ]]])"
      ]
     },
     "execution_count": 190,
     "metadata": {},
     "output_type": "execute_result"
    }
   ],
   "source": [
    "arr3"
   ]
  },
  {
   "cell_type": "code",
   "execution_count": 191,
   "id": "26c4af1a-8652-4d36-ae0e-b07e81f08187",
   "metadata": {},
   "outputs": [
    {
     "data": {
      "text/plain": [
       "dtype('float64')"
      ]
     },
     "execution_count": 191,
     "metadata": {},
     "output_type": "execute_result"
    }
   ],
   "source": [
    "arr3.dtype"
   ]
  },
  {
   "cell_type": "code",
   "execution_count": 192,
   "id": "bb96d8fc-f9d0-4d1e-95e0-0d5c162637fe",
   "metadata": {},
   "outputs": [
    {
     "data": {
      "text/plain": [
       "(3, 2, 4)"
      ]
     },
     "execution_count": 192,
     "metadata": {},
     "output_type": "execute_result"
    }
   ],
   "source": [
    "arr3.shape"
   ]
  },
  {
   "cell_type": "code",
   "execution_count": 193,
   "id": "eba3a4ac-ca3c-4c29-ab19-a95a84d6dc7d",
   "metadata": {},
   "outputs": [
    {
     "data": {
      "text/plain": [
       "36.0"
      ]
     },
     "execution_count": 193,
     "metadata": {},
     "output_type": "execute_result"
    }
   ],
   "source": [
    "arr3[1,1,2] #dimension1, dim2, dim3"
   ]
  },
  {
   "cell_type": "code",
   "execution_count": 194,
   "id": "59838099-f174-46bb-95fc-224263e668df",
   "metadata": {},
   "outputs": [
    {
     "data": {
      "text/plain": [
       "36.0"
      ]
     },
     "execution_count": 194,
     "metadata": {},
     "output_type": "execute_result"
    }
   ],
   "source": [
    "arr3[1][1][2]"
   ]
  },
  {
   "cell_type": "code",
   "execution_count": 195,
   "id": "75a3519f-6fc6-4c2c-b223-1174f1b24bb2",
   "metadata": {},
   "outputs": [
    {
     "data": {
      "text/plain": [
       "array([[[15., 16.]],\n",
       "\n",
       "       [[98., 32.]]])"
      ]
     },
     "execution_count": 195,
     "metadata": {},
     "output_type": "execute_result"
    }
   ],
   "source": [
    "arr3[1:,0:1,:2]"
   ]
  },
  {
   "cell_type": "code",
   "execution_count": 198,
   "id": "481a92df-64c3-41fb-8137-890fb30b1902",
   "metadata": {},
   "outputs": [
    {
     "data": {
      "text/plain": [
       "(2, 1, 2)"
      ]
     },
     "execution_count": 198,
     "metadata": {},
     "output_type": "execute_result"
    }
   ],
   "source": [
    "arr3[1:,0:1,:2].shape #2,1,2"
   ]
  },
  {
   "cell_type": "code",
   "execution_count": 196,
   "id": "23b90ff5-6b67-4253-aff9-43455e8d7329",
   "metadata": {},
   "outputs": [
    {
     "data": {
      "text/plain": [
       "array([[[15., 16., 17., 21.],\n",
       "        [63., 92., 36., 18.]]])"
      ]
     },
     "execution_count": 196,
     "metadata": {},
     "output_type": "execute_result"
    }
   ],
   "source": [
    "arr3[1:][0:1][:2] # note that this is different from the above output. what is happening is arr3[1:] gives us a 3d array extracted from arr3. then [0:1] of that essentially means choose row 0 of the result as a sub-array which means again we are still a 3d array but now with only 1 row. then [:2] is simply selecting the same thing as there is only 1 element putting 2 as upper bound doesnt change anything"
   ]
  },
  {
   "cell_type": "code",
   "execution_count": 197,
   "id": "31753ced-3109-4188-9d40-de17d327525c",
   "metadata": {},
   "outputs": [
    {
     "data": {
      "text/plain": [
       "(1, 2, 4)"
      ]
     },
     "execution_count": 197,
     "metadata": {},
     "output_type": "execute_result"
    }
   ],
   "source": [
    "arr3[1:][0:1][:2].shape"
   ]
  },
  {
   "cell_type": "code",
   "execution_count": 140,
   "id": "2d66982b-cda3-4878-9379-e0b92d6325bc",
   "metadata": {},
   "outputs": [
    {
     "data": {
      "text/plain": [
       "array([18., 43.])"
      ]
     },
     "execution_count": 140,
     "metadata": {},
     "output_type": "execute_result"
    }
   ],
   "source": [
    "arr3[1:,1,3]"
   ]
  },
  {
   "cell_type": "code",
   "execution_count": 142,
   "id": "0b33fe71-4f3e-49e7-beb1-57e3efd0fffb",
   "metadata": {},
   "outputs": [
    {
     "data": {
      "text/plain": [
       "(2,)"
      ]
     },
     "execution_count": 142,
     "metadata": {},
     "output_type": "execute_result"
    }
   ],
   "source": [
    "arr3[1:,1,3].shape #notice we got a 1d array not a 3d because only 1st dimension had a range, 2nd and 3rd were fixed positions."
   ]
  },
  {
   "attachments": {
    "af7201c1-b19f-485b-8a6f-ca3b991d032b.png": {
     "image/png": "[encoded data removed]"
    }
   },
   "cell_type": "markdown",
   "id": "a6eab6b7-80e2-4236-bb82-f6c066f4c5de",
   "metadata": {},
   "source": [
    "![image.png](attachment:af7201c1-b19f-485b-8a6f-ca3b991d032b.png)"
   ]
  },
  {
   "cell_type": "code",
   "execution_count": 143,
   "id": "c4c7ce04-3523-4994-b5ab-07ce19b144b8",
   "metadata": {},
   "outputs": [
    {
     "data": {
      "text/plain": [
       "68160"
      ]
     },
     "execution_count": 143,
     "metadata": {},
     "output_type": "execute_result"
    }
   ],
   "source": [
    "2272*30"
   ]
  },
  {
   "cell_type": "code",
   "execution_count": 144,
   "id": "6c4f69dd-c654-4f3d-b0d6-1ddf09f5f050",
   "metadata": {},
   "outputs": [
    {
     "data": {
      "text/plain": [
       "33915"
      ]
     },
     "execution_count": 144,
     "metadata": {},
     "output_type": "execute_result"
    }
   ],
   "source": [
    "2261*15"
   ]
  },
  {
   "cell_type": "markdown",
   "id": "51db35c3-d374-4482-bb30-41fd98563cb3",
   "metadata": {},
   "source": [
    "#### Numpy array broadcasting"
   ]
  },
  {
   "attachments": {
    "ec524e84-7f15-4cdc-b2f5-de109b8cef1b.png": {
     "image/png": "[encoded data removed]"
    }
   },
   "cell_type": "markdown",
   "id": "f693515c-e038-4f39-af61-9a30f1f2ca60",
   "metadata": {},
   "source": [
    "![image.png](attachment:ec524e84-7f15-4cdc-b2f5-de109b8cef1b.png)"
   ]
  },
  {
   "cell_type": "markdown",
   "id": "7164daa6-ff89-4f09-a5b0-8e52963b1f71",
   "metadata": {},
   "source": [
    "Numpy arrays also support broadcasting, allowing arithmetic operations between two arrays with different numbers of dimensions but compatible shapes. Let's look at an example to see how it works."
   ]
  },
  {
   "cell_type": "code",
   "execution_count": 145,
   "id": "c42cbbe4-8cdd-4080-bd35-3769f5c00ffa",
   "metadata": {},
   "outputs": [],
   "source": [
    "arr2 = np.array([[1,2,3,4],\n",
    "                [5,6,7,8],\n",
    "                [9,1,2,3]])"
   ]
  },
  {
   "cell_type": "code",
   "execution_count": 146,
   "id": "0ce120af-5d16-48a3-b741-e41d28c26a48",
   "metadata": {},
   "outputs": [
    {
     "data": {
      "text/plain": [
       "array([[1, 2, 3, 4],\n",
       "       [5, 6, 7, 8],\n",
       "       [9, 1, 2, 3]])"
      ]
     },
     "execution_count": 146,
     "metadata": {},
     "output_type": "execute_result"
    }
   ],
   "source": [
    "arr2"
   ]
  },
  {
   "cell_type": "code",
   "execution_count": 149,
   "id": "689bf35a-bd70-4fc7-9e33-bac39bf4a4bd",
   "metadata": {},
   "outputs": [
    {
     "data": {
      "text/plain": [
       "(3, 4)"
      ]
     },
     "execution_count": 149,
     "metadata": {},
     "output_type": "execute_result"
    }
   ],
   "source": [
    "arr2.shape"
   ]
  },
  {
   "cell_type": "code",
   "execution_count": 147,
   "id": "815fa02f-985e-4c48-8599-bb7b07cd96ee",
   "metadata": {},
   "outputs": [],
   "source": [
    "arr4 = np.array([4,5,6,7])"
   ]
  },
  {
   "cell_type": "code",
   "execution_count": 148,
   "id": "fdec81d2-d14e-46b4-93af-e4002d5e2d93",
   "metadata": {},
   "outputs": [
    {
     "data": {
      "text/plain": [
       "array([4, 5, 6, 7])"
      ]
     },
     "execution_count": 148,
     "metadata": {},
     "output_type": "execute_result"
    }
   ],
   "source": [
    "arr4"
   ]
  },
  {
   "cell_type": "code",
   "execution_count": 150,
   "id": "a98022ee-967b-4c45-a08a-547d6bfeed5c",
   "metadata": {},
   "outputs": [
    {
     "data": {
      "text/plain": [
       "(4,)"
      ]
     },
     "execution_count": 150,
     "metadata": {},
     "output_type": "execute_result"
    }
   ],
   "source": [
    "arr4.shape"
   ]
  },
  {
   "cell_type": "code",
   "execution_count": 151,
   "id": "b103f8b5-799e-40d8-9d64-0ee09d001022",
   "metadata": {},
   "outputs": [
    {
     "data": {
      "text/plain": [
       "array([[ 5,  7,  9, 11],\n",
       "       [ 9, 11, 13, 15],\n",
       "       [13,  6,  8, 10]])"
      ]
     },
     "execution_count": 151,
     "metadata": {},
     "output_type": "execute_result"
    }
   ],
   "source": [
    "arr2 + arr4"
   ]
  },
  {
   "cell_type": "markdown",
   "id": "58e23a66-2436-4763-80d9-5f6f38111a54",
   "metadata": {},
   "source": [
    "When the expression `arr2` + `arr4` is evaluated, `arr4` (which has the shape (4,)) is replicated three times to match the shape (3, 4) of `arr2`. **Numpy performs the replication without actually creating three copies of the smaller dimension array, thus improving performance and using lower memory.**"
   ]
  },
  {
   "attachments": {
    "a12af8ce-d060-4732-8c31-fb3cd3446765.png": {
     "image/png": "[encoded data removed]"
    }
   },
   "cell_type": "markdown",
   "id": "c450a558-8006-4115-881c-a998c9813933",
   "metadata": {},
   "source": [
    "![image.png](attachment:a12af8ce-d060-4732-8c31-fb3cd3446765.png)"
   ]
  },
  {
   "cell_type": "code",
   "execution_count": 154,
   "id": "c1cac8b9-9428-4997-ad6f-c38f292656b4",
   "metadata": {},
   "outputs": [
    {
     "data": {
      "text/plain": [
       "array([[0, 1, 2],\n",
       "       [1, 2, 3],\n",
       "       [2, 3, 4]])"
      ]
     },
     "execution_count": 154,
     "metadata": {},
     "output_type": "execute_result"
    }
   ],
   "source": [
    "np.arange(3).reshape(3,1) + np.arange(3)"
   ]
  },
  {
   "cell_type": "markdown",
   "id": "8ac4d1e0-6595-4c76-abdb-18e8eeb5e28a",
   "metadata": {},
   "source": [
    "Broadcasting only works if one of the arrays can be replicated to match the other array's shape."
   ]
  },
  {
   "cell_type": "code",
   "execution_count": 155,
   "id": "fed2d7bb-edb7-46e3-a9c6-a2d83e6fa907",
   "metadata": {},
   "outputs": [],
   "source": [
    "arr5 = np.array([7,8])"
   ]
  },
  {
   "cell_type": "code",
   "execution_count": 163,
   "id": "e53d463a-6a0b-4255-8ecd-8cf8b6f34652",
   "metadata": {},
   "outputs": [
    {
     "ename": "ValueError",
     "evalue": "operands could not be broadcast together with shapes (3,4) (2,) ",
     "output_type": "error",
     "traceback": [
      "\u001b[1;31m---------------------------------------------------------------------------\u001b[0m",
      "\u001b[1;31mValueError\u001b[0m                                Traceback (most recent call last)",
      "Cell \u001b[1;32mIn[163], line 1\u001b[0m\n\u001b[1;32m----> 1\u001b[0m \u001b[43marr2\u001b[49m\u001b[43m \u001b[49m\u001b[38;5;241;43m+\u001b[39;49m\u001b[43m \u001b[49m\u001b[43marr5\u001b[49m \u001b[38;5;66;03m#ValueError as arrays cannot be broadcasted to match\u001b[39;00m\n",
      "\u001b[1;31mValueError\u001b[0m: operands could not be broadcast together with shapes (3,4) (2,) "
     ]
    }
   ],
   "source": [
    "arr2 + arr5 #ValueError as arrays cannot be broadcasted to match"
   ]
  },
  {
   "cell_type": "markdown",
   "id": "c0077310-442d-4a67-bf8f-22e0e9c8f30e",
   "metadata": {},
   "source": [
    "**NOTICE** that broadcasting is **not reshaping** the arrays involved, but only making them compatible by making copies along a certain axis.\n",
    "\n",
    "And because its not about reshaping, notice the example below fails where `a.shape` is (10,5) and `b.shape` is (10,)"
   ]
  },
  {
   "cell_type": "code",
   "execution_count": 157,
   "id": "99849969-4578-4c7f-bfd2-0e15971ea4e6",
   "metadata": {},
   "outputs": [
    {
     "data": {
      "text/plain": [
       "array([[37, 36, 30,  7, 20],\n",
       "       [11,  8,  9,  3, 32],\n",
       "       [24, 35, 38,  7, 29],\n",
       "       [22, 36, 38, 23, 17],\n",
       "       [20, 24,  8, 18, 30],\n",
       "       [32, 12, 12,  5, 20],\n",
       "       [24, 31, 10, 10,  5],\n",
       "       [32, 12, 10,  9, 21],\n",
       "       [16, 35, 30, 22,  3],\n",
       "       [28, 12, 34, 34, 22]])"
      ]
     },
     "execution_count": 157,
     "metadata": {},
     "output_type": "execute_result"
    }
   ],
   "source": [
    "a = np.random.randint(3,40,size=(10,5))\n",
    "a"
   ]
  },
  {
   "cell_type": "code",
   "execution_count": 161,
   "id": "e45ab37b-f165-4d03-ad11-915f5e257a69",
   "metadata": {},
   "outputs": [
    {
     "data": {
      "text/plain": [
       "(10, 5)"
      ]
     },
     "execution_count": 161,
     "metadata": {},
     "output_type": "execute_result"
    }
   ],
   "source": [
    "a.shape"
   ]
  },
  {
   "cell_type": "code",
   "execution_count": 158,
   "id": "7e1c6e99-bbfd-46af-981b-27663cc9b141",
   "metadata": {},
   "outputs": [],
   "source": [
    "b = np.arange(10)"
   ]
  },
  {
   "cell_type": "code",
   "execution_count": 159,
   "id": "373e6ccf-5ff7-4643-a924-d91febcb4951",
   "metadata": {},
   "outputs": [
    {
     "data": {
      "text/plain": [
       "array([0, 1, 2, 3, 4, 5, 6, 7, 8, 9])"
      ]
     },
     "execution_count": 159,
     "metadata": {},
     "output_type": "execute_result"
    }
   ],
   "source": [
    "b"
   ]
  },
  {
   "cell_type": "code",
   "execution_count": 162,
   "id": "d45816ae-faaa-4f04-b716-db055a02c61e",
   "metadata": {},
   "outputs": [
    {
     "data": {
      "text/plain": [
       "(10,)"
      ]
     },
     "execution_count": 162,
     "metadata": {},
     "output_type": "execute_result"
    }
   ],
   "source": [
    "b.shape"
   ]
  },
  {
   "cell_type": "code",
   "execution_count": 164,
   "id": "09050d52-0e0c-4f54-8950-c833e912abb4",
   "metadata": {},
   "outputs": [
    {
     "ename": "ValueError",
     "evalue": "operands could not be broadcast together with shapes (10,5) (10,) ",
     "output_type": "error",
     "traceback": [
      "\u001b[1;31m---------------------------------------------------------------------------\u001b[0m",
      "\u001b[1;31mValueError\u001b[0m                                Traceback (most recent call last)",
      "Cell \u001b[1;32mIn[164], line 1\u001b[0m\n\u001b[1;32m----> 1\u001b[0m \u001b[43ma\u001b[49m\u001b[43m \u001b[49m\u001b[38;5;241;43m+\u001b[39;49m\u001b[43m \u001b[49m\u001b[43mb\u001b[49m \u001b[38;5;66;03m#ValueError as arrays cannot be broadcasted to match\u001b[39;00m\n",
      "\u001b[1;31mValueError\u001b[0m: operands could not be broadcast together with shapes (10,5) (10,) "
     ]
    }
   ],
   "source": [
    "a + b #ValueError as arrays cannot be broadcasted to match"
   ]
  },
  {
   "attachments": {
    "80a7f6ab-be4e-4a34-8c6c-12d0714f37c7.png": {
     "image/png": "[encoded data removed]"
    }
   },
   "cell_type": "markdown",
   "id": "34a4e733-1505-4125-908b-15825903d2b3",
   "metadata": {},
   "source": [
    "![image.png](attachment:80a7f6ab-be4e-4a34-8c6c-12d0714f37c7.png)"
   ]
  },
  {
   "cell_type": "markdown",
   "id": "b97da5f1-5183-436e-a11d-3c331e8a38fd",
   "metadata": {},
   "source": [
    "The benefits of broadcasting grow with the size of the data we work with!\n",
    "\n",
    "**NOTE**: broadcasting is not limited to addition operation only. You can do minus, * , / , %, **(power)\n"
   ]
  },
  {
   "cell_type": "markdown",
   "id": "9c92d660-0283-4c7c-986c-84150b4fdd3b",
   "metadata": {},
   "source": [
    "**NOTE**: broadcasting is a $O(1)$ operation, therefore do not be shy to change matrix and vectors in your code is you need to be explicit with shapes you are working with. "
   ]
  },
  {
   "cell_type": "markdown",
   "id": "cbd58c32-b081-4572-ac16-01600c9098c2",
   "metadata": {},
   "source": [
    "**Broadcasting during assignment**"
   ]
  },
  {
   "cell_type": "code",
   "execution_count": 168,
   "id": "c66d729b-4a12-4eee-a022-be4f492c0769",
   "metadata": {},
   "outputs": [],
   "source": [
    "arr = np.arange(10)"
   ]
  },
  {
   "cell_type": "code",
   "execution_count": 169,
   "id": "c5c0d14b-c42f-4298-a628-c930fc107ae8",
   "metadata": {},
   "outputs": [
    {
     "data": {
      "text/plain": [
       "array([0, 1, 2, 3, 4, 5, 6, 7, 8, 9])"
      ]
     },
     "execution_count": 169,
     "metadata": {},
     "output_type": "execute_result"
    }
   ],
   "source": [
    "arr"
   ]
  },
  {
   "cell_type": "code",
   "execution_count": 170,
   "id": "ce994107-26d6-431a-8e63-9c0ae02b8a3f",
   "metadata": {},
   "outputs": [
    {
     "data": {
      "text/plain": [
       "(10,)"
      ]
     },
     "execution_count": 170,
     "metadata": {},
     "output_type": "execute_result"
    }
   ],
   "source": [
    "arr.shape"
   ]
  },
  {
   "cell_type": "code",
   "execution_count": 171,
   "id": "ee8e0cf3-f5ce-48bd-adeb-bf234abcb187",
   "metadata": {},
   "outputs": [],
   "source": [
    "arr[:5] = 66"
   ]
  },
  {
   "cell_type": "code",
   "execution_count": 173,
   "id": "d12cbef0-8c82-4866-9cf0-cd3e62a9b133",
   "metadata": {},
   "outputs": [
    {
     "data": {
      "text/plain": [
       "array([66, 66, 66, 66, 66,  5,  6,  7,  8,  9])"
      ]
     },
     "execution_count": 173,
     "metadata": {},
     "output_type": "execute_result"
    }
   ],
   "source": [
    "arr\n",
    "# note that the array arr got updated."
   ]
  },
  {
   "cell_type": "markdown",
   "id": "9c10fc4f-334e-42c8-a3a7-da582233fe39",
   "metadata": {},
   "source": [
    "Slicing a section of an array and setting it to a new variable will actually only act as a **pointer** to the original array."
   ]
  },
  {
   "cell_type": "code",
   "execution_count": 174,
   "id": "d15331bf-2490-40f9-98d4-356df93bfd7c",
   "metadata": {},
   "outputs": [],
   "source": [
    "a = np.arange(11)"
   ]
  },
  {
   "cell_type": "code",
   "execution_count": 175,
   "id": "9be26fc3-9785-456d-9e37-25a2f1f9f6fd",
   "metadata": {},
   "outputs": [
    {
     "data": {
      "text/plain": [
       "array([ 0,  1,  2,  3,  4,  5,  6,  7,  8,  9, 10])"
      ]
     },
     "execution_count": 175,
     "metadata": {},
     "output_type": "execute_result"
    }
   ],
   "source": [
    "a"
   ]
  },
  {
   "cell_type": "code",
   "execution_count": 176,
   "id": "40f969a2-3914-4838-a9ab-708bb7495a9d",
   "metadata": {},
   "outputs": [],
   "source": [
    "slice_of_arr = a[:5]"
   ]
  },
  {
   "cell_type": "code",
   "execution_count": 177,
   "id": "456f657a-c3f2-4168-9082-1444830a4e2d",
   "metadata": {},
   "outputs": [
    {
     "data": {
      "text/plain": [
       "array([0, 1, 2, 3, 4])"
      ]
     },
     "execution_count": 177,
     "metadata": {},
     "output_type": "execute_result"
    }
   ],
   "source": [
    "slice_of_arr"
   ]
  },
  {
   "cell_type": "code",
   "execution_count": 178,
   "id": "6d77a0f0-fcae-4acb-b690-3cac446ff712",
   "metadata": {},
   "outputs": [],
   "source": [
    "slice_of_arr[:] = 99"
   ]
  },
  {
   "cell_type": "code",
   "execution_count": 179,
   "id": "7ab39101-ddf1-4f6f-821b-022f3459ade1",
   "metadata": {},
   "outputs": [
    {
     "data": {
      "text/plain": [
       "array([99, 99, 99, 99, 99])"
      ]
     },
     "execution_count": 179,
     "metadata": {},
     "output_type": "execute_result"
    }
   ],
   "source": [
    "slice_of_arr"
   ]
  },
  {
   "cell_type": "code",
   "execution_count": 180,
   "id": "2fa66196-ab2c-44b2-8913-967429e5e084",
   "metadata": {},
   "outputs": [
    {
     "data": {
      "text/plain": [
       "array([99, 99, 99, 99, 99,  5,  6,  7,  8,  9, 10])"
      ]
     },
     "execution_count": 180,
     "metadata": {},
     "output_type": "execute_result"
    }
   ],
   "source": [
    "a"
   ]
  },
  {
   "cell_type": "markdown",
   "id": "2af99bbb-9dce-46da-a964-dec8c93919a3",
   "metadata": {},
   "source": [
    "If you dont want a pointer to the original array, create a copy using `.copy()`"
   ]
  },
  {
   "cell_type": "code",
   "execution_count": 181,
   "id": "90131ac5-5267-49de-a4b7-412507dcf614",
   "metadata": {},
   "outputs": [],
   "source": [
    "b = a.copy()"
   ]
  },
  {
   "cell_type": "code",
   "execution_count": 182,
   "id": "dda448a9-c3a1-46d6-8b16-e94e26a5bb5e",
   "metadata": {},
   "outputs": [
    {
     "data": {
      "text/plain": [
       "array([99, 99, 99, 99, 99,  5,  6,  7,  8,  9, 10])"
      ]
     },
     "execution_count": 182,
     "metadata": {},
     "output_type": "execute_result"
    }
   ],
   "source": [
    "b"
   ]
  },
  {
   "cell_type": "code",
   "execution_count": 183,
   "id": "ead3261e-03e4-4cbb-9013-b0e214f2d6f3",
   "metadata": {},
   "outputs": [],
   "source": [
    "b[5:] = 444"
   ]
  },
  {
   "cell_type": "code",
   "execution_count": 184,
   "id": "51f49bff-0e11-4bcd-a8c6-8fe31ef307a4",
   "metadata": {},
   "outputs": [
    {
     "data": {
      "text/plain": [
       "array([ 99,  99,  99,  99,  99, 444, 444, 444, 444, 444, 444])"
      ]
     },
     "execution_count": 184,
     "metadata": {},
     "output_type": "execute_result"
    }
   ],
   "source": [
    "b"
   ]
  },
  {
   "cell_type": "code",
   "execution_count": 185,
   "id": "0399791f-13c8-4f25-8f6d-46d789ddf7e7",
   "metadata": {},
   "outputs": [
    {
     "data": {
      "text/plain": [
       "array([99, 99, 99, 99, 99,  5,  6,  7,  8,  9, 10])"
      ]
     },
     "execution_count": 185,
     "metadata": {},
     "output_type": "execute_result"
    }
   ],
   "source": [
    "a"
   ]
  },
  {
   "cell_type": "markdown",
   "id": "8051532c-0889-41a8-a34f-bdb53a1d3545",
   "metadata": {},
   "source": [
    "**dividision by zero**"
   ]
  },
  {
   "cell_type": "code",
   "execution_count": 216,
   "id": "e07723cd-76cf-4ba8-86ec-002e99515cf0",
   "metadata": {},
   "outputs": [],
   "source": [
    "a = np.arange(10)"
   ]
  },
  {
   "cell_type": "code",
   "execution_count": 217,
   "id": "aea1adde-4fa4-4b27-b03e-5236504d5b1c",
   "metadata": {},
   "outputs": [
    {
     "data": {
      "text/plain": [
       "array([0, 1, 2, 3, 4, 5, 6, 7, 8, 9])"
      ]
     },
     "execution_count": 217,
     "metadata": {},
     "output_type": "execute_result"
    }
   ],
   "source": [
    "a"
   ]
  },
  {
   "cell_type": "code",
   "execution_count": 218,
   "id": "14bf4260-ab70-45ed-bfd8-b2af9023c895",
   "metadata": {},
   "outputs": [
    {
     "name": "stderr",
     "output_type": "stream",
     "text": [
      "C:\\Users\\Abhishek\\AppData\\Local\\Temp\\ipykernel_2808\\451479071.py:1: RuntimeWarning: invalid value encountered in divide\n",
      "  a / a\n"
     ]
    },
    {
     "data": {
      "text/plain": [
       "array([nan,  1.,  1.,  1.,  1.,  1.,  1.,  1.,  1.,  1.])"
      ]
     },
     "execution_count": 218,
     "metadata": {},
     "output_type": "execute_result"
    }
   ],
   "source": [
    "a / a "
   ]
  },
  {
   "cell_type": "markdown",
   "id": "5d2bb205-5169-4fdd-8fd0-aac42ff0b40c",
   "metadata": {},
   "source": [
    "**NOTICE** we get a warning, but not an error. So, in numpy 0/0 is nan i.e. not defined. "
   ]
  },
  {
   "cell_type": "code",
   "execution_count": 219,
   "id": "5aa3810a-ef5f-4b7e-9168-2e7338042abe",
   "metadata": {},
   "outputs": [],
   "source": [
    "b = np.zeros(10)"
   ]
  },
  {
   "cell_type": "code",
   "execution_count": 220,
   "id": "a3f30447-c49a-461c-ab71-24a049285391",
   "metadata": {},
   "outputs": [
    {
     "data": {
      "text/plain": [
       "array([0., 0., 0., 0., 0., 0., 0., 0., 0., 0.])"
      ]
     },
     "execution_count": 220,
     "metadata": {},
     "output_type": "execute_result"
    }
   ],
   "source": [
    "b"
   ]
  },
  {
   "cell_type": "code",
   "execution_count": 221,
   "id": "4d65ff7e-ce4c-4156-9abb-0c8442d2063e",
   "metadata": {},
   "outputs": [
    {
     "name": "stderr",
     "output_type": "stream",
     "text": [
      "C:\\Users\\Abhishek\\AppData\\Local\\Temp\\ipykernel_2808\\1286629031.py:1: RuntimeWarning: divide by zero encountered in divide\n",
      "  a / b\n",
      "C:\\Users\\Abhishek\\AppData\\Local\\Temp\\ipykernel_2808\\1286629031.py:1: RuntimeWarning: invalid value encountered in divide\n",
      "  a / b\n"
     ]
    },
    {
     "data": {
      "text/plain": [
       "array([nan, inf, inf, inf, inf, inf, inf, inf, inf, inf])"
      ]
     },
     "execution_count": 221,
     "metadata": {},
     "output_type": "execute_result"
    }
   ],
   "source": [
    "a / b"
   ]
  },
  {
   "cell_type": "markdown",
   "id": "3131c7d6-7b3a-4f61-8666-93fbc5e8f790",
   "metadata": {},
   "source": [
    "**NOTICE** that 0/0 is nan and non-zero/0 is inf\n",
    "\n",
    "**NOTE**: that in python , both 0/0 and 1/0 gives a **ZeroDivisionError**"
   ]
  },
  {
   "cell_type": "code",
   "execution_count": 370,
   "id": "341e6c90-20db-44a1-a0e2-addd2551c13d",
   "metadata": {},
   "outputs": [
    {
     "data": {
      "text/plain": [
       "True"
      ]
     },
     "execution_count": 370,
     "metadata": {},
     "output_type": "execute_result"
    }
   ],
   "source": [
    "np.inf > 5"
   ]
  },
  {
   "cell_type": "code",
   "execution_count": 372,
   "id": "c94c0620-5872-4566-b037-d590b73752e0",
   "metadata": {},
   "outputs": [
    {
     "data": {
      "text/plain": [
       "False"
      ]
     },
     "execution_count": 372,
     "metadata": {},
     "output_type": "execute_result"
    }
   ],
   "source": [
    "np.inf > np.inf"
   ]
  },
  {
   "cell_type": "code",
   "execution_count": 373,
   "id": "c2849de3-0acd-4448-979a-6e91f9cddee7",
   "metadata": {},
   "outputs": [
    {
     "data": {
      "text/plain": [
       "True"
      ]
     },
     "execution_count": 373,
     "metadata": {},
     "output_type": "execute_result"
    }
   ],
   "source": [
    "np.inf >= np.inf"
   ]
  },
  {
   "cell_type": "markdown",
   "id": "cf54bc49-814e-4172-9051-80338a95c86f",
   "metadata": {},
   "source": [
    "**Numpy maths functions***"
   ]
  },
  {
   "cell_type": "code",
   "execution_count": 224,
   "id": "3bb0c895-59ae-4d64-b922-fd92fe4c1843",
   "metadata": {},
   "outputs": [
    {
     "data": {
      "text/plain": [
       "3.0"
      ]
     },
     "execution_count": 224,
     "metadata": {},
     "output_type": "execute_result"
    }
   ],
   "source": [
    "np.sqrt(9)"
   ]
  },
  {
   "cell_type": "code",
   "execution_count": 226,
   "id": "6607989b-b280-47e4-8f5c-cdee94da9c3a",
   "metadata": {},
   "outputs": [
    {
     "data": {
      "text/plain": [
       "2.23606797749979"
      ]
     },
     "execution_count": 226,
     "metadata": {},
     "output_type": "execute_result"
    }
   ],
   "source": [
    "np.sqrt(5) #recall, root 5 is actually an irrational no., i.e. NRNT"
   ]
  },
  {
   "cell_type": "code",
   "execution_count": 228,
   "id": "247647ab-0f76-4fd3-af96-a5d30c73e119",
   "metadata": {},
   "outputs": [
    {
     "data": {
      "text/plain": [
       "array([0.        , 1.        , 1.41421356, 1.73205081, 2.        ,\n",
       "       2.23606798, 2.44948974, 2.64575131, 2.82842712, 3.        ])"
      ]
     },
     "execution_count": 228,
     "metadata": {},
     "output_type": "execute_result"
    }
   ],
   "source": [
    "a = np.arange(10)\n",
    "np.sqrt(a) #so this can take in a scalar or a numpy array as input. "
   ]
  },
  {
   "cell_type": "code",
   "execution_count": 230,
   "id": "0447e2fe-e9af-448d-8e3c-2c81a4d54d26",
   "metadata": {},
   "outputs": [
    {
     "data": {
      "text/plain": [
       "array([ 0.        ,  0.84147098,  0.90929743,  0.14112001, -0.7568025 ,\n",
       "       -0.95892427, -0.2794155 ,  0.6569866 ,  0.98935825,  0.41211849])"
      ]
     },
     "execution_count": 230,
     "metadata": {},
     "output_type": "execute_result"
    }
   ],
   "source": [
    "np.sin(a) # angle are in radians"
   ]
  },
  {
   "cell_type": "code",
   "execution_count": 231,
   "id": "54b7666f-2c2c-4b6f-82f1-554a69f22c0f",
   "metadata": {},
   "outputs": [
    {
     "data": {
      "text/plain": [
       "3.141592653589793"
      ]
     },
     "execution_count": 231,
     "metadata": {},
     "output_type": "execute_result"
    }
   ],
   "source": [
    "np.pi"
   ]
  },
  {
   "cell_type": "code",
   "execution_count": 232,
   "id": "4474c340-9e38-4922-a193-531b58dca05a",
   "metadata": {},
   "outputs": [
    {
     "data": {
      "text/plain": [
       "1.0"
      ]
     },
     "execution_count": 232,
     "metadata": {},
     "output_type": "execute_result"
    }
   ],
   "source": [
    "np.sin(np.pi / 2)"
   ]
  },
  {
   "cell_type": "code",
   "execution_count": 234,
   "id": "5770d589-9984-420c-a656-f0659ff630c2",
   "metadata": {},
   "outputs": [
    {
     "data": {
      "text/plain": [
       "1.2246467991473532e-16"
      ]
     },
     "execution_count": 234,
     "metadata": {},
     "output_type": "execute_result"
    }
   ],
   "source": [
    "np.sin(np.pi)"
   ]
  },
  {
   "cell_type": "code",
   "execution_count": 238,
   "id": "407201f5-50d3-4a92-b48c-5546238563c6",
   "metadata": {},
   "outputs": [
    {
     "data": {
      "text/plain": [
       "1.0"
      ]
     },
     "execution_count": 238,
     "metadata": {},
     "output_type": "execute_result"
    }
   ],
   "source": [
    "import math\n",
    "np.sin(math.pi / 2)"
   ]
  },
  {
   "cell_type": "code",
   "execution_count": 240,
   "id": "6f6969c8-34ed-47f7-966e-98badc1a1ed7",
   "metadata": {},
   "outputs": [
    {
     "data": {
      "text/plain": [
       "0.9999996829318346"
      ]
     },
     "execution_count": 240,
     "metadata": {},
     "output_type": "execute_result"
    }
   ],
   "source": [
    "np.sin(3.14/2)"
   ]
  },
  {
   "cell_type": "code",
   "execution_count": 59,
   "id": "5b952546-ea17-48c7-83a7-ae040c2e3e30",
   "metadata": {},
   "outputs": [
    {
     "data": {
      "text/plain": [
       "0.9999998001333682"
      ]
     },
     "execution_count": 59,
     "metadata": {},
     "output_type": "execute_result"
    }
   ],
   "source": [
    "np.sin(22/7/2) # 22/7 is nothing but pi"
   ]
  },
  {
   "cell_type": "code",
   "execution_count": 58,
   "id": "159cda54-8fef-4f19-8787-25b3bf37db84",
   "metadata": {},
   "outputs": [
    {
     "data": {
      "text/plain": [
       "1.0"
      ]
     },
     "execution_count": 58,
     "metadata": {},
     "output_type": "execute_result"
    }
   ],
   "source": [
    "np.cos(0)"
   ]
  },
  {
   "cell_type": "code",
   "execution_count": 57,
   "id": "2a4fa227-3a1f-40e2-9e1a-b2f5bef5f41f",
   "metadata": {},
   "outputs": [
    {
     "data": {
      "text/plain": [
       "array([4, 6, 7])"
      ]
     },
     "execution_count": 57,
     "metadata": {},
     "output_type": "execute_result"
    }
   ],
   "source": [
    "a"
   ]
  },
  {
   "cell_type": "code",
   "execution_count": 246,
   "id": "df43763c-373e-4d86-822b-7a4aacb00835",
   "metadata": {},
   "outputs": [
    {
     "name": "stderr",
     "output_type": "stream",
     "text": [
      "C:\\Users\\Abhishek\\AppData\\Local\\Temp\\ipykernel_2808\\2486571914.py:1: RuntimeWarning: divide by zero encountered in log\n",
      "  np.log(a) # recall, log1 = 0\n"
     ]
    },
    {
     "data": {
      "text/plain": [
       "array([      -inf, 0.        , 0.69314718, 1.09861229, 1.38629436,\n",
       "       1.60943791, 1.79175947, 1.94591015, 2.07944154, 2.19722458])"
      ]
     },
     "execution_count": 246,
     "metadata": {},
     "output_type": "execute_result"
    }
   ],
   "source": [
    "np.log(a) # recall, log1 = 0"
   ]
  },
  {
   "cell_type": "markdown",
   "id": "323c48ed-afcb-4645-9fdd-fcbb639077fd",
   "metadata": {},
   "source": [
    "---\n",
    "### bits no. of system\n",
    "refer to hands_on_ml jupyter notebook for more on this and crc32 hashing. \n",
    "\n",
    "refer to hands_on_ml.md in obsidian for more explanation on bits no. system"
   ]
  },
  {
   "cell_type": "code",
   "execution_count": 375,
   "id": "ba5df372-658a-4ba5-8e99-83206dd42b1c",
   "metadata": {},
   "outputs": [
    {
     "data": {
      "text/plain": [
       "127"
      ]
     },
     "execution_count": 375,
     "metadata": {},
     "output_type": "execute_result"
    }
   ],
   "source": [
    "np.int8(127)"
   ]
  },
  {
   "cell_type": "code",
   "execution_count": 376,
   "id": "2bbacb9f-8dd2-4a11-89d1-367381947af9",
   "metadata": {},
   "outputs": [
    {
     "data": {
      "text/plain": [
       "0"
      ]
     },
     "execution_count": 376,
     "metadata": {},
     "output_type": "execute_result"
    }
   ],
   "source": [
    "np.int8(0)"
   ]
  },
  {
   "cell_type": "code",
   "execution_count": 378,
   "id": "4a4b7a71-162a-4557-8807-838c169cb159",
   "metadata": {},
   "outputs": [
    {
     "data": {
      "text/plain": [
       "-127"
      ]
     },
     "execution_count": 378,
     "metadata": {},
     "output_type": "execute_result"
    }
   ],
   "source": [
    "np.int8(-127)"
   ]
  },
  {
   "cell_type": "code",
   "execution_count": 379,
   "id": "e6d407e4-c8e4-4336-8a77-1bbb529be670",
   "metadata": {},
   "outputs": [
    {
     "name": "stderr",
     "output_type": "stream",
     "text": [
      "C:\\Users\\Abhishek\\AppData\\Local\\Temp\\ipykernel_2808\\4107193256.py:1: DeprecationWarning: NumPy will stop allowing conversion of out-of-bound Python integers to integer arrays.  The conversion of 128 to int8 will fail in the future.\n",
      "For the old behavior, usually:\n",
      "    np.array(value).astype(dtype)\n",
      "will give the desired result (the cast overflows).\n",
      "  np.int8(128)\n"
     ]
    },
    {
     "data": {
      "text/plain": [
       "-128"
      ]
     },
     "execution_count": 379,
     "metadata": {},
     "output_type": "execute_result"
    }
   ],
   "source": [
    "np.int8(128) #since signed 8-bit system covers [-128,+127] interval. so 128 is not possible to fit into 8-bits. therefore it circled back to -128"
   ]
  },
  {
   "cell_type": "code",
   "execution_count": 380,
   "id": "ba045d1b-b203-4c0c-9f1e-5bb4df468aaa",
   "metadata": {},
   "outputs": [
    {
     "name": "stderr",
     "output_type": "stream",
     "text": [
      "C:\\Users\\Abhishek\\AppData\\Local\\Temp\\ipykernel_2808\\24904925.py:1: DeprecationWarning: NumPy will stop allowing conversion of out-of-bound Python integers to integer arrays.  The conversion of 129 to int8 will fail in the future.\n",
      "For the old behavior, usually:\n",
      "    np.array(value).astype(dtype)\n",
      "will give the desired result (the cast overflows).\n",
      "  np.int8(129)\n"
     ]
    },
    {
     "data": {
      "text/plain": [
       "-127"
      ]
     },
     "execution_count": 380,
     "metadata": {},
     "output_type": "execute_result"
    }
   ],
   "source": [
    "np.int8(129)"
   ]
  },
  {
   "cell_type": "code",
   "execution_count": 382,
   "id": "ebc7fda3-dc4a-4106-9227-f4f24f60bca8",
   "metadata": {},
   "outputs": [
    {
     "name": "stderr",
     "output_type": "stream",
     "text": [
      "C:\\Users\\Abhishek\\AppData\\Local\\Temp\\ipykernel_2808\\420985438.py:1: DeprecationWarning: NumPy will stop allowing conversion of out-of-bound Python integers to integer arrays.  The conversion of -129 to int8 will fail in the future.\n",
      "For the old behavior, usually:\n",
      "    np.array(value).astype(dtype)\n",
      "will give the desired result (the cast overflows).\n",
      "  np.int8(-129) # since minimum allowed is -128, -129 circles back to +127\n"
     ]
    },
    {
     "data": {
      "text/plain": [
       "127"
      ]
     },
     "execution_count": 382,
     "metadata": {},
     "output_type": "execute_result"
    }
   ],
   "source": [
    "np.int8(-129) # since minimum allowed is -128, -129 circles back to +127"
   ]
  },
  {
   "cell_type": "markdown",
   "id": "c0fa1b2b-740c-4faf-acf6-439ffb589f17",
   "metadata": {},
   "source": [
    "**NOTE**: in the above warning, it clearly says that these will throw an error in the future as we trying to convert a no. not possible in 8-bit into 8bit"
   ]
  },
  {
   "cell_type": "markdown",
   "id": "071debf2-c5c9-4529-aa71-77d1e385e2f1",
   "metadata": {},
   "source": [
    "---"
   ]
  },
  {
   "cell_type": "markdown",
   "id": "b23155d9-8af6-4549-88c5-ba38e1f1e15b",
   "metadata": {},
   "source": [
    "---\n",
    "#### IMPORTANT\n",
    "**-1 in `.reshape()` lengths**\n",
    "\n",
    "When you add -1 to an axis in numpy it will just put everything else in that axis. This is, for an array a of shape (10, 10), the following operations will apply:\n",
    "```\n",
    ">>> a.reshape(-1, 10, 10) # a is (1, 10, 10)\n",
    ">>> a.reshape( 1, 10, 10) # a is also (1, 10, 10)\n",
    ">>> a.reshape(-1, 5, 5)   # a is (4, 5, 5), since 4 * 5 *  5 = 100\n",
    ">>> a.reshape(-1, 5, 10)  # a is (2, 5, 10) since 2 * 5 * 10 = 100 \n",
    "```\n",
    "This is, when reshaping the total number of elements must be the same, so adding -1 to the shape just lets numpy calculate the remaining value for you, so that the product of the axes still matches the previous number of elements.\n",
    "\n",
    "---"
   ]
  },
  {
   "cell_type": "markdown",
   "id": "1c40e087-03e7-45a9-a326-054165444b2c",
   "metadata": {},
   "source": [
    "**checking dimensions of a numpy array:**\n",
    "\n",
    "using `numpy_array.ndim` attribute"
   ]
  },
  {
   "cell_type": "code",
   "execution_count": 15,
   "id": "43641575-59b1-4826-867f-0ed701b7c890",
   "metadata": {},
   "outputs": [],
   "source": [
    "a = np.arange(10)\n",
    "b = np.array(12)\n",
    "c = np.random.rand(3,2,4)"
   ]
  },
  {
   "cell_type": "code",
   "execution_count": 16,
   "id": "d94cb172-4751-49e7-bdcf-5cdac39aa846",
   "metadata": {},
   "outputs": [
    {
     "data": {
      "text/plain": [
       "array([0, 1, 2, 3, 4, 5, 6, 7, 8, 9])"
      ]
     },
     "execution_count": 16,
     "metadata": {},
     "output_type": "execute_result"
    }
   ],
   "source": [
    "a"
   ]
  },
  {
   "cell_type": "code",
   "execution_count": 17,
   "id": "c87e10c6-d313-4d79-9aec-fa93fe2100d5",
   "metadata": {},
   "outputs": [
    {
     "data": {
      "text/plain": [
       "array(12)"
      ]
     },
     "execution_count": 17,
     "metadata": {},
     "output_type": "execute_result"
    }
   ],
   "source": [
    "b"
   ]
  },
  {
   "cell_type": "code",
   "execution_count": 18,
   "id": "6a351628-edc7-4d42-8998-795dcd81ff78",
   "metadata": {},
   "outputs": [
    {
     "data": {
      "text/plain": [
       "array([[[0.11069453, 0.32582893, 0.88716235, 0.80191637],\n",
       "        [0.92608828, 0.07770926, 0.0392922 , 0.23784321]],\n",
       "\n",
       "       [[0.76316622, 0.96743437, 0.49515168, 0.68184337],\n",
       "        [0.93834182, 0.1208729 , 0.74928874, 0.41632716]],\n",
       "\n",
       "       [[0.47201456, 0.95629781, 0.03217627, 0.81508395],\n",
       "        [0.38372433, 0.3551699 , 0.50407518, 0.8440641 ]]])"
      ]
     },
     "execution_count": 18,
     "metadata": {},
     "output_type": "execute_result"
    }
   ],
   "source": [
    "c"
   ]
  },
  {
   "cell_type": "code",
   "execution_count": 19,
   "id": "450f06b4-0825-4b21-b2c7-b989b58115f8",
   "metadata": {},
   "outputs": [
    {
     "data": {
      "text/plain": [
       "1"
      ]
     },
     "execution_count": 19,
     "metadata": {},
     "output_type": "execute_result"
    }
   ],
   "source": [
    "a.ndim # a vector"
   ]
  },
  {
   "cell_type": "code",
   "execution_count": 20,
   "id": "8941a072-310f-4044-bbab-25b50b971da5",
   "metadata": {},
   "outputs": [
    {
     "data": {
      "text/plain": [
       "0"
      ]
     },
     "execution_count": 20,
     "metadata": {},
     "output_type": "execute_result"
    }
   ],
   "source": [
    "b.ndim # a scalar"
   ]
  },
  {
   "cell_type": "code",
   "execution_count": 23,
   "id": "5dc7d9a5-5e65-4f5b-8b73-27ddf77a5749",
   "metadata": {},
   "outputs": [
    {
     "data": {
      "text/plain": [
       "3"
      ]
     },
     "execution_count": 23,
     "metadata": {},
     "output_type": "execute_result"
    }
   ],
   "source": [
    "c.ndim # a 3 dimensional array/ 3 dimensional tensor / rank-3 tensor / 3D tensor"
   ]
  },
  {
   "cell_type": "code",
   "execution_count": 24,
   "id": "78790d93-421f-4390-ad5d-cad0de66d2bc",
   "metadata": {},
   "outputs": [
    {
     "data": {
      "text/plain": [
       "(10,)"
      ]
     },
     "execution_count": 24,
     "metadata": {},
     "output_type": "execute_result"
    }
   ],
   "source": [
    "a.shape"
   ]
  },
  {
   "cell_type": "code",
   "execution_count": 30,
   "id": "f882abd3-692e-4053-84a8-4ecb50cfa215",
   "metadata": {},
   "outputs": [
    {
     "data": {
      "text/plain": [
       "()"
      ]
     },
     "execution_count": 30,
     "metadata": {},
     "output_type": "execute_result"
    }
   ],
   "source": [
    "b.shape # empty shape"
   ]
  },
  {
   "cell_type": "code",
   "execution_count": 26,
   "id": "feef2fb2-37b2-46de-a10d-6fcda1a2b5c7",
   "metadata": {},
   "outputs": [
    {
     "data": {
      "text/plain": [
       "(3, 2, 4)"
      ]
     },
     "execution_count": 26,
     "metadata": {},
     "output_type": "execute_result"
    }
   ],
   "source": [
    "c.shape"
   ]
  },
  {
   "cell_type": "markdown",
   "id": "4ad3106d-9876-4062-958e-3049fa20461d",
   "metadata": {},
   "source": [
    "**check element wise maximum between 2 arrays**\n",
    "\n",
    "using `np.maximum()`"
   ]
  },
  {
   "cell_type": "code",
   "execution_count": 37,
   "id": "35f4808f-2621-4b4c-b839-297c9fe4b89b",
   "metadata": {},
   "outputs": [],
   "source": [
    "a = np.random.randint(10,size=(3,4))\n",
    "b = np.random.randint(10,size=(3,4))"
   ]
  },
  {
   "cell_type": "code",
   "execution_count": 38,
   "id": "ed0b2d65-332b-433f-a0eb-989db9f1a912",
   "metadata": {},
   "outputs": [
    {
     "data": {
      "text/plain": [
       "array([[7, 7, 3, 0],\n",
       "       [3, 3, 6, 3],\n",
       "       [0, 1, 4, 6]])"
      ]
     },
     "execution_count": 38,
     "metadata": {},
     "output_type": "execute_result"
    }
   ],
   "source": [
    "a"
   ]
  },
  {
   "cell_type": "code",
   "execution_count": 39,
   "id": "94e1a1fb-94cf-46b4-8270-49c3d90cf23c",
   "metadata": {},
   "outputs": [
    {
     "data": {
      "text/plain": [
       "array([[1, 3, 4, 9],\n",
       "       [0, 4, 2, 5],\n",
       "       [3, 1, 5, 5]])"
      ]
     },
     "execution_count": 39,
     "metadata": {},
     "output_type": "execute_result"
    }
   ],
   "source": [
    "b"
   ]
  },
  {
   "cell_type": "code",
   "execution_count": 40,
   "id": "ae82f373-8438-4bcf-9f65-2f18c5ee851c",
   "metadata": {},
   "outputs": [
    {
     "data": {
      "text/plain": [
       "array([[7, 7, 4, 9],\n",
       "       [3, 4, 6, 5],\n",
       "       [3, 1, 5, 6]])"
      ]
     },
     "execution_count": 40,
     "metadata": {},
     "output_type": "execute_result"
    }
   ],
   "source": [
    "np.maximum(a, b)"
   ]
  },
  {
   "cell_type": "code",
   "execution_count": 41,
   "id": "6bb0f22a-bfbc-4e42-915f-a73d8a18ac1b",
   "metadata": {},
   "outputs": [],
   "source": [
    "c = np.random.randint(10,size=(3))\n",
    "d = np.random.randint(10,size=(4))"
   ]
  },
  {
   "cell_type": "code",
   "execution_count": 42,
   "id": "b7c1f418-a15e-4621-8f78-e289a5e5b16b",
   "metadata": {},
   "outputs": [
    {
     "data": {
      "text/plain": [
       "array([7, 1, 2])"
      ]
     },
     "execution_count": 42,
     "metadata": {},
     "output_type": "execute_result"
    }
   ],
   "source": [
    "c"
   ]
  },
  {
   "cell_type": "code",
   "execution_count": 43,
   "id": "4d35c2f5-b899-4c82-94cd-8dae92e4443d",
   "metadata": {},
   "outputs": [
    {
     "data": {
      "text/plain": [
       "array([7, 8, 2, 2])"
      ]
     },
     "execution_count": 43,
     "metadata": {},
     "output_type": "execute_result"
    }
   ],
   "source": [
    "d"
   ]
  },
  {
   "cell_type": "code",
   "execution_count": 44,
   "id": "fe9135c3-daef-42dc-8c07-b9ee83e0b682",
   "metadata": {},
   "outputs": [
    {
     "ename": "ValueError",
     "evalue": "operands could not be broadcast together with shapes (3,4) (3,) ",
     "output_type": "error",
     "traceback": [
      "\u001b[1;31m---------------------------------------------------------------------------\u001b[0m",
      "\u001b[1;31mValueError\u001b[0m                                Traceback (most recent call last)",
      "Cell \u001b[1;32mIn[44], line 1\u001b[0m\n\u001b[1;32m----> 1\u001b[0m \u001b[43mnp\u001b[49m\u001b[38;5;241;43m.\u001b[39;49m\u001b[43mmaximum\u001b[49m\u001b[43m(\u001b[49m\u001b[43ma\u001b[49m\u001b[43m,\u001b[49m\u001b[43m \u001b[49m\u001b[43mc\u001b[49m\u001b[43m)\u001b[49m\n",
      "\u001b[1;31mValueError\u001b[0m: operands could not be broadcast together with shapes (3,4) (3,) "
     ]
    }
   ],
   "source": [
    "np.maximum(a, c) #shapes are not compatible for broadcasting"
   ]
  },
  {
   "cell_type": "code",
   "execution_count": 45,
   "id": "89a782e1-7612-44d0-8d7d-2a425a7f3e99",
   "metadata": {},
   "outputs": [
    {
     "data": {
      "text/plain": [
       "array([[7, 8, 3, 2],\n",
       "       [7, 8, 6, 3],\n",
       "       [7, 8, 4, 6]])"
      ]
     },
     "execution_count": 45,
     "metadata": {},
     "output_type": "execute_result"
    }
   ],
   "source": [
    "np.maximum(a, d)"
   ]
  },
  {
   "cell_type": "code",
   "execution_count": 48,
   "id": "4f2e6c70-649d-4f93-a223-51cfe5b60794",
   "metadata": {},
   "outputs": [
    {
     "data": {
      "text/plain": [
       "array([[7., 7., 3., 0.],\n",
       "       [3., 3., 6., 3.],\n",
       "       [0., 1., 4., 6.]])"
      ]
     },
     "execution_count": 48,
     "metadata": {},
     "output_type": "execute_result"
    }
   ],
   "source": [
    "np.maximum(a, 0.) # broadcasts zero throughout and then compares each element of a with 0\n",
    "# if its greater than zero, then return that element else return 0"
   ]
  },
  {
   "cell_type": "markdown",
   "id": "3666f12d-bfe6-44cd-9e79-dcc5a9655896",
   "metadata": {},
   "source": [
    "**Splitting arrays**\n",
    "\n",
    "using `np.array_split()`"
   ]
  },
  {
   "cell_type": "code",
   "execution_count": 11,
   "id": "be3663c6-7080-480b-b653-6d4f47697600",
   "metadata": {},
   "outputs": [],
   "source": [
    "np.random.seed(42)\n",
    "a = np.random.randint(100, size=(3,4))"
   ]
  },
  {
   "cell_type": "code",
   "execution_count": 12,
   "id": "2ff434cb-4f63-4cdc-b111-4af2f16bad70",
   "metadata": {},
   "outputs": [
    {
     "data": {
      "text/plain": [
       "array([[51, 92, 14, 71],\n",
       "       [60, 20, 82, 86],\n",
       "       [74, 74, 87, 99]])"
      ]
     },
     "execution_count": 12,
     "metadata": {},
     "output_type": "execute_result"
    }
   ],
   "source": [
    "a"
   ]
  },
  {
   "cell_type": "code",
   "execution_count": 14,
   "id": "20bd1a63-9931-41d1-aa77-1b56a766233b",
   "metadata": {},
   "outputs": [
    {
     "data": {
      "text/plain": [
       "[array([[51, 92, 14, 71]]),\n",
       " array([[60, 20, 82, 86]]),\n",
       " array([[74, 74, 87, 99]])]"
      ]
     },
     "execution_count": 14,
     "metadata": {},
     "output_type": "execute_result"
    }
   ],
   "source": [
    "np.array_split(a, 3)"
   ]
  },
  {
   "cell_type": "code",
   "execution_count": 15,
   "id": "27d5e494-b79f-4950-ab95-373f9b284a60",
   "metadata": {},
   "outputs": [
    {
     "data": {
      "text/plain": [
       "[array([[51, 92, 14, 71]]),\n",
       " array([[60, 20, 82, 86]]),\n",
       " array([[74, 74, 87, 99]]),\n",
       " array([], shape=(0, 4), dtype=int32)]"
      ]
     },
     "execution_count": 15,
     "metadata": {},
     "output_type": "execute_result"
    }
   ],
   "source": [
    "np.array_split(a, 4)"
   ]
  },
  {
   "cell_type": "code",
   "execution_count": 16,
   "id": "8c512878-44af-4ada-85db-73044faeea03",
   "metadata": {},
   "outputs": [
    {
     "data": {
      "text/plain": [
       "[array([[51, 92, 14, 71]]),\n",
       " array([[60, 20, 82, 86]]),\n",
       " array([[74, 74, 87, 99]]),\n",
       " array([], shape=(0, 4), dtype=int32),\n",
       " array([], shape=(0, 4), dtype=int32)]"
      ]
     },
     "execution_count": 16,
     "metadata": {},
     "output_type": "execute_result"
    }
   ],
   "source": [
    "np.array_split(a, 5)"
   ]
  },
  {
   "cell_type": "code",
   "execution_count": 17,
   "id": "4749cc30-ab2c-4f9a-aa39-8a798a409e96",
   "metadata": {},
   "outputs": [
    {
     "data": {
      "text/plain": [
       "[array([[51, 92, 14, 71],\n",
       "        [60, 20, 82, 86]]),\n",
       " array([[74, 74, 87, 99]])]"
      ]
     },
     "execution_count": 17,
     "metadata": {},
     "output_type": "execute_result"
    }
   ],
   "source": [
    "np.array_split(a, 2)"
   ]
  },
  {
   "cell_type": "code",
   "execution_count": 18,
   "id": "6f56e209-2f67-403c-9e4b-f9f51b2ea618",
   "metadata": {},
   "outputs": [
    {
     "name": "stdout",
     "output_type": "stream",
     "text": [
      "(2, 4)\n",
      "(1, 4)\n"
     ]
    }
   ],
   "source": [
    "for i in np.array_split(a, 2):\n",
    "    print(i.shape)"
   ]
  },
  {
   "cell_type": "markdown",
   "id": "6ca74398-0928-41be-b259-ea62a8470dc3",
   "metadata": {},
   "source": [
    "**Numpy array transpose**\n",
    "\n",
    "ith row of x becomes ith column in the transposed array."
   ]
  },
  {
   "cell_type": "code",
   "execution_count": 8,
   "id": "afa48a89-cf4f-46a4-8394-c890b4b45006",
   "metadata": {},
   "outputs": [],
   "source": [
    "x = np.random.randint(100, size=(3, 4))"
   ]
  },
  {
   "cell_type": "code",
   "execution_count": 9,
   "id": "16f0a171-4194-4978-a7a5-80e037e4e6d7",
   "metadata": {},
   "outputs": [
    {
     "data": {
      "text/plain": [
       "array([[96, 47, 48, 63],\n",
       "       [19, 22, 48,  8],\n",
       "       [30,  9, 13, 33]])"
      ]
     },
     "execution_count": 9,
     "metadata": {},
     "output_type": "execute_result"
    }
   ],
   "source": [
    "x"
   ]
  },
  {
   "cell_type": "code",
   "execution_count": 10,
   "id": "de694dc8-7ef8-4d86-aa02-dc6518e4ac50",
   "metadata": {},
   "outputs": [
    {
     "data": {
      "text/plain": [
       "array([[96, 19, 30],\n",
       "       [47, 22,  9],\n",
       "       [48, 48, 13],\n",
       "       [63,  8, 33]])"
      ]
     },
     "execution_count": 10,
     "metadata": {},
     "output_type": "execute_result"
    }
   ],
   "source": [
    "np.transpose(x)"
   ]
  },
  {
   "cell_type": "markdown",
   "id": "fb79410b-32b9-41ec-a791-4390196b3ffc",
   "metadata": {},
   "source": [
    "---\n",
    "`np.squeeze()`\n",
    "\n",
    "```\n",
    "Remove axes of length one from `a`.\n",
    "```"
   ]
  },
  {
   "cell_type": "code",
   "execution_count": 17,
   "id": "d38ad634-d459-431c-a948-41404b60c849",
   "metadata": {},
   "outputs": [],
   "source": [
    "a = np.random.randint(100, size=(3, 4))"
   ]
  },
  {
   "cell_type": "code",
   "execution_count": 18,
   "id": "19160908-7966-4332-8b75-035adb360d38",
   "metadata": {},
   "outputs": [
    {
     "data": {
      "text/plain": [
       "array([[41, 43, 10,  6],\n",
       "       [31, 88,  2, 89],\n",
       "       [32, 19, 95, 55]])"
      ]
     },
     "execution_count": 18,
     "metadata": {},
     "output_type": "execute_result"
    }
   ],
   "source": [
    "a"
   ]
  },
  {
   "cell_type": "code",
   "execution_count": 20,
   "id": "9772678e-159b-44ae-b5f5-b0a315f15867",
   "metadata": {},
   "outputs": [
    {
     "data": {
      "text/plain": [
       "array([[41, 43, 10,  6],\n",
       "       [31, 88,  2, 89],\n",
       "       [32, 19, 95, 55]])"
      ]
     },
     "execution_count": 20,
     "metadata": {},
     "output_type": "execute_result"
    }
   ],
   "source": [
    "np.squeeze(a) # nothing changed"
   ]
  },
  {
   "cell_type": "code",
   "execution_count": 22,
   "id": "ee26b0e3-eb81-46e9-96ba-7da8a1762a1c",
   "metadata": {},
   "outputs": [
    {
     "name": "stdout",
     "output_type": "stream",
     "text": [
      "[[41 14 87 87]]\n",
      "\n",
      "[[17]\n",
      " [44]\n",
      " [92]\n",
      " [82]]\n"
     ]
    }
   ],
   "source": [
    "b = np.random.randint(100, size=(1, 4))\n",
    "c = np.random.randint(100, size=(4, 1))\n",
    "print(b)\n",
    "print()\n",
    "print(c)"
   ]
  },
  {
   "cell_type": "code",
   "execution_count": 25,
   "id": "a236b032-95fe-41aa-82f5-28b2d030082e",
   "metadata": {},
   "outputs": [
    {
     "data": {
      "text/plain": [
       "array([41, 14, 87, 87])"
      ]
     },
     "execution_count": 25,
     "metadata": {},
     "output_type": "execute_result"
    }
   ],
   "source": [
    "np.squeeze(b) # since only 1 row, ignored the row and made it a 1d array of column values"
   ]
  },
  {
   "cell_type": "code",
   "execution_count": 26,
   "id": "d1eacc0c-689f-4497-8571-b5691a3f9390",
   "metadata": {},
   "outputs": [
    {
     "data": {
      "text/plain": [
       "array([17, 44, 92, 82])"
      ]
     },
     "execution_count": 26,
     "metadata": {},
     "output_type": "execute_result"
    }
   ],
   "source": [
    "np.squeeze(c) # since only 1 col, ignored the col and made it a 1d array of values."
   ]
  },
  {
   "cell_type": "markdown",
   "id": "02da26eb-ee8e-4c07-9bb5-fdd439c54e71",
   "metadata": {},
   "source": [
    "removed the innermost blackets that make the 1-dimensional vectors"
   ]
  },
  {
   "cell_type": "code",
   "execution_count": 27,
   "id": "dc9cd661-bccb-4648-91dd-6f3c323ec8dc",
   "metadata": {},
   "outputs": [],
   "source": [
    "d = np.random.randint(100, size=(2, 3, 1))"
   ]
  },
  {
   "cell_type": "code",
   "execution_count": 28,
   "id": "51738593-4a2f-4089-a3a2-9658a5794899",
   "metadata": {},
   "outputs": [
    {
     "data": {
      "text/plain": [
       "array([[[80],\n",
       "        [42],\n",
       "        [70]],\n",
       "\n",
       "       [[ 6],\n",
       "        [80],\n",
       "        [37]]])"
      ]
     },
     "execution_count": 28,
     "metadata": {},
     "output_type": "execute_result"
    }
   ],
   "source": [
    "d"
   ]
  },
  {
   "cell_type": "code",
   "execution_count": 30,
   "id": "71bd469a-0e7d-488c-b4ce-6ebfe36ff15e",
   "metadata": {},
   "outputs": [
    {
     "data": {
      "text/plain": [
       "array([[80, 42, 70],\n",
       "       [ 6, 80, 37]])"
      ]
     },
     "execution_count": 30,
     "metadata": {},
     "output_type": "execute_result"
    }
   ],
   "source": [
    "np.squeeze(d) # 3d brought down to 2d\n",
    "# removed the innermost blackets that make the 1-dimensional vectors"
   ]
  },
  {
   "cell_type": "code",
   "execution_count": 32,
   "id": "177838de-d767-4b55-a9e1-16381af12153",
   "metadata": {},
   "outputs": [],
   "source": [
    "a = np.array([5])"
   ]
  },
  {
   "cell_type": "code",
   "execution_count": 33,
   "id": "7548fff3-41d1-4485-8e63-1070b78d35e1",
   "metadata": {},
   "outputs": [
    {
     "data": {
      "text/plain": [
       "array([5])"
      ]
     },
     "execution_count": 33,
     "metadata": {},
     "output_type": "execute_result"
    }
   ],
   "source": [
    "a"
   ]
  },
  {
   "cell_type": "code",
   "execution_count": 35,
   "id": "bb9cb2ec-6702-44f2-a97c-965e9c0b5d4e",
   "metadata": {},
   "outputs": [
    {
     "data": {
      "text/plain": [
       "array(5)"
      ]
     },
     "execution_count": 35,
     "metadata": {},
     "output_type": "execute_result"
    }
   ],
   "source": [
    "np.squeeze(a) # notice the result is rank 0, no brackets., i.e. scalar"
   ]
  },
  {
   "cell_type": "markdown",
   "id": "e3df1873-9018-46f5-baba-26be17e475c9",
   "metadata": {},
   "source": [
    "## Q.\n",
    "Convert this so that each image is a column vector and no. of images = the no. of columns"
   ]
  },
  {
   "cell_type": "code",
   "execution_count": 38,
   "id": "bbad904e-b017-4a15-835e-89cd5ba1cc0f",
   "metadata": {},
   "outputs": [],
   "source": [
    "X = np.random.randint(100, size=(2,3,4,3))\n",
    "# no_of_samples, height, width, RGB values"
   ]
  },
  {
   "cell_type": "code",
   "execution_count": 39,
   "id": "d71a8498-318a-43d9-91a2-6122ce25dda7",
   "metadata": {},
   "outputs": [
    {
     "data": {
      "text/plain": [
       "array([[[[43, 90, 35],\n",
       "         [50, 31,  8],\n",
       "         [96,  6, 13],\n",
       "         [56, 81, 67]],\n",
       "\n",
       "        [[26, 16, 44],\n",
       "         [81, 86, 60],\n",
       "         [79,  3, 49],\n",
       "         [78, 57, 68]],\n",
       "\n",
       "        [[ 9, 38, 85],\n",
       "         [34, 98,  1],\n",
       "         [61, 63, 40],\n",
       "         [94, 20, 21]]],\n",
       "\n",
       "\n",
       "       [[[92, 50, 48],\n",
       "         [18, 68, 31],\n",
       "         [42, 69,  0],\n",
       "         [55, 63, 26]],\n",
       "\n",
       "        [[ 8, 22, 53],\n",
       "         [80, 47, 18],\n",
       "         [74,  6, 76],\n",
       "         [20, 64, 71]],\n",
       "\n",
       "        [[58, 73, 78],\n",
       "         [66, 13, 24],\n",
       "         [36, 40, 16],\n",
       "         [ 4, 61, 41]]]])"
      ]
     },
     "execution_count": 39,
     "metadata": {},
     "output_type": "execute_result"
    }
   ],
   "source": [
    "X"
   ]
  },
  {
   "cell_type": "code",
   "execution_count": 40,
   "id": "5b835372-91fe-41e9-902d-a4cb8c7564de",
   "metadata": {},
   "outputs": [
    {
     "data": {
      "text/plain": [
       "(2, 3, 4, 3)"
      ]
     },
     "execution_count": 40,
     "metadata": {},
     "output_type": "execute_result"
    }
   ],
   "source": [
    "X.shape"
   ]
  },
  {
   "cell_type": "code",
   "execution_count": 42,
   "id": "eb60900c-4ab8-4772-aed2-798a2007ab59",
   "metadata": {},
   "outputs": [
    {
     "data": {
      "text/plain": [
       "array([[43, 90],\n",
       "       [35, 50],\n",
       "       [31,  8],\n",
       "       [96,  6],\n",
       "       [13, 56],\n",
       "       [81, 67],\n",
       "       [26, 16],\n",
       "       [44, 81],\n",
       "       [86, 60],\n",
       "       [79,  3],\n",
       "       [49, 78],\n",
       "       [57, 68],\n",
       "       [ 9, 38],\n",
       "       [85, 34],\n",
       "       [98,  1],\n",
       "       [61, 63],\n",
       "       [40, 94],\n",
       "       [20, 21],\n",
       "       [92, 50],\n",
       "       [48, 18],\n",
       "       [68, 31],\n",
       "       [42, 69],\n",
       "       [ 0, 55],\n",
       "       [63, 26],\n",
       "       [ 8, 22],\n",
       "       [53, 80],\n",
       "       [47, 18],\n",
       "       [74,  6],\n",
       "       [76, 20],\n",
       "       [64, 71],\n",
       "       [58, 73],\n",
       "       [78, 66],\n",
       "       [13, 24],\n",
       "       [36, 40],\n",
       "       [16,  4],\n",
       "       [61, 41]])"
      ]
     },
     "execution_count": 42,
     "metadata": {},
     "output_type": "execute_result"
    }
   ],
   "source": [
    "X.reshape(X.shape[1] * X.shape[2] * X.shape[3], X.shape[0])\n",
    "# WRONG WRONG WRONG WRONG, see the output. 2nd element 90 was part of the 1st image but has gone into the 2nd column."
   ]
  },
  {
   "cell_type": "code",
   "execution_count": 46,
   "id": "7f1f92b0-a72a-4837-8f34-f78876971a17",
   "metadata": {},
   "outputs": [
    {
     "data": {
      "text/plain": [
       "array([43, 90, 35, 50, 31,  8, 96,  6, 13, 56, 81, 67, 26, 16, 44, 81, 86,\n",
       "       60, 79,  3, 49, 78, 57, 68,  9, 38, 85, 34, 98,  1, 61, 63, 40, 94,\n",
       "       20, 21, 92, 50, 48, 18, 68, 31, 42, 69,  0, 55, 63, 26,  8, 22, 53,\n",
       "       80, 47, 18, 74,  6, 76, 20, 64, 71, 58, 73, 78, 66, 13, 24, 36, 40,\n",
       "       16,  4, 61, 41])"
      ]
     },
     "execution_count": 46,
     "metadata": {},
     "output_type": "execute_result"
    }
   ],
   "source": [
    "# solution\n",
    "X.flatten()"
   ]
  },
  {
   "cell_type": "code",
   "execution_count": 61,
   "id": "9ca43d1f-a38c-4742-b51c-972159a7293d",
   "metadata": {},
   "outputs": [
    {
     "data": {
      "text/plain": [
       "array([[43, 92],\n",
       "       [90, 50],\n",
       "       [35, 48],\n",
       "       [50, 18],\n",
       "       [31, 68],\n",
       "       [ 8, 31],\n",
       "       [96, 42],\n",
       "       [ 6, 69],\n",
       "       [13,  0],\n",
       "       [56, 55],\n",
       "       [81, 63],\n",
       "       [67, 26],\n",
       "       [26,  8],\n",
       "       [16, 22],\n",
       "       [44, 53],\n",
       "       [81, 80],\n",
       "       [86, 47],\n",
       "       [60, 18],\n",
       "       [79, 74],\n",
       "       [ 3,  6],\n",
       "       [49, 76],\n",
       "       [78, 20],\n",
       "       [57, 64],\n",
       "       [68, 71],\n",
       "       [ 9, 58],\n",
       "       [38, 73],\n",
       "       [85, 78],\n",
       "       [34, 66],\n",
       "       [98, 13],\n",
       "       [ 1, 24],\n",
       "       [61, 36],\n",
       "       [63, 40],\n",
       "       [40, 16],\n",
       "       [94,  4],\n",
       "       [20, 61],\n",
       "       [21, 41]])"
      ]
     },
     "execution_count": 61,
     "metadata": {},
     "output_type": "execute_result"
    }
   ],
   "source": [
    "X.flatten().reshape(X.shape[1] * X.shape[2] * X.shape[3], X.shape[0], order='F')"
   ]
  },
  {
   "cell_type": "code",
   "execution_count": 62,
   "id": "fae24bfd-f08e-41b8-af14-1688c4afab6f",
   "metadata": {},
   "outputs": [
    {
     "data": {
      "text/plain": [
       "array([43, 90, 35, 50, 31,  8, 96,  6, 13, 56, 81, 67, 26, 16, 44, 81, 86,\n",
       "       60, 79,  3, 49, 78, 57, 68,  9, 38, 85, 34, 98,  1, 61, 63, 40, 94,\n",
       "       20, 21, 92, 50, 48, 18, 68, 31, 42, 69,  0, 55, 63, 26,  8, 22, 53,\n",
       "       80, 47, 18, 74,  6, 76, 20, 64, 71, 58, 73, 78, 66, 13, 24, 36, 40,\n",
       "       16,  4, 61, 41])"
      ]
     },
     "execution_count": 62,
     "metadata": {},
     "output_type": "execute_result"
    }
   ],
   "source": [
    "X.flatten()"
   ]
  },
  {
   "cell_type": "code",
   "execution_count": 73,
   "id": "4ea61e5c-4039-49b0-a3b6-516b608bbc58",
   "metadata": {},
   "outputs": [],
   "source": [
    "# alternative solution\n",
    "s = np.array(np.split(X.flatten(), X.shape[0])).T"
   ]
  },
  {
   "cell_type": "code",
   "execution_count": 74,
   "id": "8dd7a036-af25-4735-82f4-d8ff13ae0ab9",
   "metadata": {},
   "outputs": [
    {
     "data": {
      "text/plain": [
       "array([[43, 92],\n",
       "       [90, 50],\n",
       "       [35, 48],\n",
       "       [50, 18],\n",
       "       [31, 68],\n",
       "       [ 8, 31],\n",
       "       [96, 42],\n",
       "       [ 6, 69],\n",
       "       [13,  0],\n",
       "       [56, 55],\n",
       "       [81, 63],\n",
       "       [67, 26],\n",
       "       [26,  8],\n",
       "       [16, 22],\n",
       "       [44, 53],\n",
       "       [81, 80],\n",
       "       [86, 47],\n",
       "       [60, 18],\n",
       "       [79, 74],\n",
       "       [ 3,  6],\n",
       "       [49, 76],\n",
       "       [78, 20],\n",
       "       [57, 64],\n",
       "       [68, 71],\n",
       "       [ 9, 58],\n",
       "       [38, 73],\n",
       "       [85, 78],\n",
       "       [34, 66],\n",
       "       [98, 13],\n",
       "       [ 1, 24],\n",
       "       [61, 36],\n",
       "       [63, 40],\n",
       "       [40, 16],\n",
       "       [94,  4],\n",
       "       [20, 61],\n",
       "       [21, 41]])"
      ]
     },
     "execution_count": 74,
     "metadata": {},
     "output_type": "execute_result"
    }
   ],
   "source": [
    "s"
   ]
  },
  {
   "cell_type": "code",
   "execution_count": 79,
   "id": "bc3b8575-d515-4114-a424-5f844bb5fc88",
   "metadata": {},
   "outputs": [
    {
     "data": {
      "text/plain": [
       "array([[43, 92],\n",
       "       [90, 50],\n",
       "       [35, 48],\n",
       "       [50, 18],\n",
       "       [31, 68],\n",
       "       [ 8, 31],\n",
       "       [96, 42],\n",
       "       [ 6, 69],\n",
       "       [13,  0],\n",
       "       [56, 55],\n",
       "       [81, 63],\n",
       "       [67, 26],\n",
       "       [26,  8],\n",
       "       [16, 22],\n",
       "       [44, 53],\n",
       "       [81, 80],\n",
       "       [86, 47],\n",
       "       [60, 18],\n",
       "       [79, 74],\n",
       "       [ 3,  6],\n",
       "       [49, 76],\n",
       "       [78, 20],\n",
       "       [57, 64],\n",
       "       [68, 71],\n",
       "       [ 9, 58],\n",
       "       [38, 73],\n",
       "       [85, 78],\n",
       "       [34, 66],\n",
       "       [98, 13],\n",
       "       [ 1, 24],\n",
       "       [61, 36],\n",
       "       [63, 40],\n",
       "       [40, 16],\n",
       "       [94,  4],\n",
       "       [20, 61],\n",
       "       [21, 41]])"
      ]
     },
     "execution_count": 79,
     "metadata": {},
     "output_type": "execute_result"
    }
   ],
   "source": [
    "# best solution\n",
    "X.reshape(X.shape[0], -1).T"
   ]
  },
  {
   "cell_type": "code",
   "execution_count": 86,
   "id": "9bf5530d-77ed-455f-ba0f-373e251aff0e",
   "metadata": {},
   "outputs": [
    {
     "data": {
      "text/plain": [
       "array([[43, 92],\n",
       "       [90, 50],\n",
       "       [35, 48],\n",
       "       [50, 18],\n",
       "       [31, 68],\n",
       "       [ 8, 31],\n",
       "       [96, 42],\n",
       "       [ 6, 69],\n",
       "       [13,  0],\n",
       "       [56, 55],\n",
       "       [81, 63],\n",
       "       [67, 26],\n",
       "       [26,  8],\n",
       "       [16, 22],\n",
       "       [44, 53],\n",
       "       [81, 80],\n",
       "       [86, 47],\n",
       "       [60, 18],\n",
       "       [79, 74],\n",
       "       [ 3,  6],\n",
       "       [49, 76],\n",
       "       [78, 20],\n",
       "       [57, 64],\n",
       "       [68, 71],\n",
       "       [ 9, 58],\n",
       "       [38, 73],\n",
       "       [85, 78],\n",
       "       [34, 66],\n",
       "       [98, 13],\n",
       "       [ 1, 24],\n",
       "       [61, 36],\n",
       "       [63, 40],\n",
       "       [40, 16],\n",
       "       [94,  4],\n",
       "       [20, 61],\n",
       "       [21, 41]])"
      ]
     },
     "execution_count": 86,
     "metadata": {},
     "output_type": "execute_result"
    }
   ],
   "source": [
    "s"
   ]
  },
  {
   "cell_type": "code",
   "execution_count": 88,
   "id": "dcf2a7db-0ce1-4f8b-8fc7-9fbafd3e8f4d",
   "metadata": {},
   "outputs": [
    {
     "data": {
      "text/plain": [
       "(36, 2)"
      ]
     },
     "execution_count": 88,
     "metadata": {},
     "output_type": "execute_result"
    }
   ],
   "source": [
    "s.shape"
   ]
  },
  {
   "cell_type": "markdown",
   "id": "a2239fbe-afe3-45da-ba1c-9e77ccb140b4",
   "metadata": {},
   "source": [
    "### Q.\n",
    "From `s` obtained above, reshape it in a 3D image form for the 1st example(sample)."
   ]
  },
  {
   "cell_type": "code",
   "execution_count": 92,
   "id": "68223bf0-5b7d-423e-9a5b-e9fce5b2740b",
   "metadata": {},
   "outputs": [
    {
     "data": {
      "text/plain": [
       "array([43, 90, 35, 50, 31,  8, 96,  6, 13, 56, 81, 67, 26, 16, 44, 81, 86,\n",
       "       60, 79,  3, 49, 78, 57, 68,  9, 38, 85, 34, 98,  1, 61, 63, 40, 94,\n",
       "       20, 21])"
      ]
     },
     "execution_count": 92,
     "metadata": {},
     "output_type": "execute_result"
    }
   ],
   "source": [
    "s[:, 0]"
   ]
  },
  {
   "cell_type": "code",
   "execution_count": 93,
   "id": "2c0bd1b4-3226-4ae1-ab9d-6e73b584b38b",
   "metadata": {},
   "outputs": [
    {
     "data": {
      "text/plain": [
       "array([[[43, 90, 35],\n",
       "        [50, 31,  8],\n",
       "        [96,  6, 13],\n",
       "        [56, 81, 67]],\n",
       "\n",
       "       [[26, 16, 44],\n",
       "        [81, 86, 60],\n",
       "        [79,  3, 49],\n",
       "        [78, 57, 68]],\n",
       "\n",
       "       [[ 9, 38, 85],\n",
       "        [34, 98,  1],\n",
       "        [61, 63, 40],\n",
       "        [94, 20, 21]]])"
      ]
     },
     "execution_count": 93,
     "metadata": {},
     "output_type": "execute_result"
    }
   ],
   "source": [
    "s[:, 0].reshape(X.shape[1], X.shape[2], X.shape[3])"
   ]
  },
  {
   "cell_type": "code",
   "execution_count": 96,
   "id": "13f87621-0c4a-43b3-8d88-c5ffb6ea2419",
   "metadata": {},
   "outputs": [
    {
     "data": {
      "text/plain": [
       "True"
      ]
     },
     "execution_count": 96,
     "metadata": {},
     "output_type": "execute_result"
    }
   ],
   "source": [
    "np.alltrue(X[0] == s[:, 0].reshape(X.shape[1], X.shape[2], X.shape[3]))"
   ]
  },
  {
   "cell_type": "markdown",
   "id": "a822eb0d-6d29-4bcf-85e6-b94a4ba352d4",
   "metadata": {},
   "source": [
    "### Q.\n",
    "Using 's' obtained above, reshape it to get back to original X"
   ]
  },
  {
   "cell_type": "code",
   "execution_count": 98,
   "id": "8e0efa5f-7af0-4ba4-a173-68328c0445bf",
   "metadata": {},
   "outputs": [
    {
     "data": {
      "text/plain": [
       "(36, 2)"
      ]
     },
     "execution_count": 98,
     "metadata": {},
     "output_type": "execute_result"
    }
   ],
   "source": [
    "s.shape"
   ]
  },
  {
   "cell_type": "code",
   "execution_count": 99,
   "id": "3ad2b936-5599-4414-b044-b5955f93cba3",
   "metadata": {},
   "outputs": [
    {
     "data": {
      "text/plain": [
       "(2, 3, 4, 3)"
      ]
     },
     "execution_count": 99,
     "metadata": {},
     "output_type": "execute_result"
    }
   ],
   "source": [
    "X.shape"
   ]
  },
  {
   "cell_type": "code",
   "execution_count": 103,
   "id": "180dae18-2b42-4382-b5ce-4d0f006bbf1c",
   "metadata": {},
   "outputs": [
    {
     "data": {
      "text/plain": [
       "array([[[[43, 90, 35],\n",
       "         [50, 31,  8],\n",
       "         [96,  6, 13],\n",
       "         [56, 81, 67]],\n",
       "\n",
       "        [[26, 16, 44],\n",
       "         [81, 86, 60],\n",
       "         [79,  3, 49],\n",
       "         [78, 57, 68]],\n",
       "\n",
       "        [[ 9, 38, 85],\n",
       "         [34, 98,  1],\n",
       "         [61, 63, 40],\n",
       "         [94, 20, 21]]],\n",
       "\n",
       "\n",
       "       [[[92, 50, 48],\n",
       "         [18, 68, 31],\n",
       "         [42, 69,  0],\n",
       "         [55, 63, 26]],\n",
       "\n",
       "        [[ 8, 22, 53],\n",
       "         [80, 47, 18],\n",
       "         [74,  6, 76],\n",
       "         [20, 64, 71]],\n",
       "\n",
       "        [[58, 73, 78],\n",
       "         [66, 13, 24],\n",
       "         [36, 40, 16],\n",
       "         [ 4, 61, 41]]]])"
      ]
     },
     "execution_count": 103,
     "metadata": {},
     "output_type": "execute_result"
    }
   ],
   "source": [
    "# solution\n",
    "s.T.reshape(2, 3, 4, 3)"
   ]
  },
  {
   "cell_type": "code",
   "execution_count": 104,
   "id": "5855d17d-e782-4869-958b-31fe5cd41a48",
   "metadata": {},
   "outputs": [
    {
     "data": {
      "text/plain": [
       "array([[[[43, 90, 35],\n",
       "         [50, 31,  8],\n",
       "         [96,  6, 13],\n",
       "         [56, 81, 67]],\n",
       "\n",
       "        [[26, 16, 44],\n",
       "         [81, 86, 60],\n",
       "         [79,  3, 49],\n",
       "         [78, 57, 68]],\n",
       "\n",
       "        [[ 9, 38, 85],\n",
       "         [34, 98,  1],\n",
       "         [61, 63, 40],\n",
       "         [94, 20, 21]]],\n",
       "\n",
       "\n",
       "       [[[92, 50, 48],\n",
       "         [18, 68, 31],\n",
       "         [42, 69,  0],\n",
       "         [55, 63, 26]],\n",
       "\n",
       "        [[ 8, 22, 53],\n",
       "         [80, 47, 18],\n",
       "         [74,  6, 76],\n",
       "         [20, 64, 71]],\n",
       "\n",
       "        [[58, 73, 78],\n",
       "         [66, 13, 24],\n",
       "         [36, 40, 16],\n",
       "         [ 4, 61, 41]]]])"
      ]
     },
     "execution_count": 104,
     "metadata": {},
     "output_type": "execute_result"
    }
   ],
   "source": [
    "X"
   ]
  },
  {
   "cell_type": "code",
   "execution_count": 105,
   "id": "dd0bbc7a-70d1-4bf5-b418-8aebe2879974",
   "metadata": {},
   "outputs": [
    {
     "data": {
      "text/plain": [
       "True"
      ]
     },
     "execution_count": 105,
     "metadata": {},
     "output_type": "execute_result"
    }
   ],
   "source": [
    "np.alltrue(X == s.T.reshape(2, 3, 4, 3))"
   ]
  },
  {
   "cell_type": "markdown",
   "id": "a8118f77-6c00-4843-98ea-df48125d0327",
   "metadata": {},
   "source": [
    "---"
   ]
  },
  {
   "cell_type": "code",
   "execution_count": 5,
   "id": "3077e09d-6015-48a5-b7ff-413dd30e1a53",
   "metadata": {},
   "outputs": [],
   "source": [
    "y = np.random.random((5,))"
   ]
  },
  {
   "cell_type": "code",
   "execution_count": 6,
   "id": "a2f16444-6196-4406-b93b-29458b3c59be",
   "metadata": {},
   "outputs": [
    {
     "data": {
      "text/plain": [
       "array([0.3754561 , 0.68159992, 0.95729866, 0.26552628, 0.31033035])"
      ]
     },
     "execution_count": 6,
     "metadata": {},
     "output_type": "execute_result"
    }
   ],
   "source": [
    "y"
   ]
  },
  {
   "cell_type": "code",
   "execution_count": 10,
   "id": "689198de-dfe2-4dbb-9d0b-1ec5794cd979",
   "metadata": {},
   "outputs": [
    {
     "data": {
      "text/plain": [
       "array([[0.3754561 , 0.68159992, 0.95729866, 0.26552628, 0.31033035]])"
      ]
     },
     "execution_count": 10,
     "metadata": {},
     "output_type": "execute_result"
    }
   ],
   "source": [
    "np.expand_dims(y, axis=0)\n",
    "# dimensionality is 1 along the new axis"
   ]
  },
  {
   "cell_type": "code",
   "execution_count": 12,
   "id": "26668b15-22e6-49cb-a8f3-3f09677cf24b",
   "metadata": {},
   "outputs": [
    {
     "data": {
      "text/plain": [
       "array([[0.3754561 ],\n",
       "       [0.68159992],\n",
       "       [0.95729866],\n",
       "       [0.26552628],\n",
       "       [0.31033035]])"
      ]
     },
     "execution_count": 12,
     "metadata": {},
     "output_type": "execute_result"
    }
   ],
   "source": [
    "np.expand_dims(y, axis=1)\n",
    "# dimensionality is 1 along the new axis"
   ]
  },
  {
   "cell_type": "code",
   "execution_count": 14,
   "id": "4229c437-a27f-4e4a-a3f9-5a04d892f193",
   "metadata": {},
   "outputs": [
    {
     "data": {
      "text/plain": [
       "array([0.3754561 , 0.68159992, 0.95729866, 0.26552628, 0.31033035])"
      ]
     },
     "execution_count": 14,
     "metadata": {},
     "output_type": "execute_result"
    }
   ],
   "source": [
    "y"
   ]
  },
  {
   "cell_type": "code",
   "execution_count": 15,
   "id": "d56b2226-526b-49f1-8304-67695f72eabf",
   "metadata": {},
   "outputs": [
    {
     "ename": "AxisError",
     "evalue": "axis 2 is out of bounds for array of dimension 2",
     "output_type": "error",
     "traceback": [
      "\u001b[1;31m---------------------------------------------------------------------------\u001b[0m",
      "\u001b[1;31mAxisError\u001b[0m                                 Traceback (most recent call last)",
      "Cell \u001b[1;32mIn[15], line 1\u001b[0m\n\u001b[1;32m----> 1\u001b[0m \u001b[43mnp\u001b[49m\u001b[38;5;241;43m.\u001b[39;49m\u001b[43mexpand_dims\u001b[49m\u001b[43m(\u001b[49m\u001b[43my\u001b[49m\u001b[43m,\u001b[49m\u001b[43m \u001b[49m\u001b[43maxis\u001b[49m\u001b[38;5;241;43m=\u001b[39;49m\u001b[38;5;241;43m2\u001b[39;49m\u001b[43m)\u001b[49m\n\u001b[0;32m      2\u001b[0m \u001b[38;5;66;03m# this is an ERROR, because it becomes ambigious what the dimensionality will be along axis=0 and axis=1\u001b[39;00m\n",
      "File \u001b[1;32mR:\\Ubuntu_linux\\mar_22\\lib\\site-packages\\numpy\\lib\\shape_base.py:597\u001b[0m, in \u001b[0;36mexpand_dims\u001b[1;34m(a, axis)\u001b[0m\n\u001b[0;32m    594\u001b[0m     axis \u001b[38;5;241m=\u001b[39m (axis,)\n\u001b[0;32m    596\u001b[0m out_ndim \u001b[38;5;241m=\u001b[39m \u001b[38;5;28mlen\u001b[39m(axis) \u001b[38;5;241m+\u001b[39m a\u001b[38;5;241m.\u001b[39mndim\n\u001b[1;32m--> 597\u001b[0m axis \u001b[38;5;241m=\u001b[39m \u001b[43mnormalize_axis_tuple\u001b[49m\u001b[43m(\u001b[49m\u001b[43maxis\u001b[49m\u001b[43m,\u001b[49m\u001b[43m \u001b[49m\u001b[43mout_ndim\u001b[49m\u001b[43m)\u001b[49m\n\u001b[0;32m    599\u001b[0m shape_it \u001b[38;5;241m=\u001b[39m \u001b[38;5;28miter\u001b[39m(a\u001b[38;5;241m.\u001b[39mshape)\n\u001b[0;32m    600\u001b[0m shape \u001b[38;5;241m=\u001b[39m [\u001b[38;5;241m1\u001b[39m \u001b[38;5;28;01mif\u001b[39;00m ax \u001b[38;5;129;01min\u001b[39;00m axis \u001b[38;5;28;01melse\u001b[39;00m \u001b[38;5;28mnext\u001b[39m(shape_it) \u001b[38;5;28;01mfor\u001b[39;00m ax \u001b[38;5;129;01min\u001b[39;00m \u001b[38;5;28mrange\u001b[39m(out_ndim)]\n",
      "File \u001b[1;32mR:\\Ubuntu_linux\\mar_22\\lib\\site-packages\\numpy\\core\\numeric.py:1380\u001b[0m, in \u001b[0;36mnormalize_axis_tuple\u001b[1;34m(axis, ndim, argname, allow_duplicate)\u001b[0m\n\u001b[0;32m   1378\u001b[0m         \u001b[38;5;28;01mpass\u001b[39;00m\n\u001b[0;32m   1379\u001b[0m \u001b[38;5;66;03m# Going via an iterator directly is slower than via list comprehension.\u001b[39;00m\n\u001b[1;32m-> 1380\u001b[0m axis \u001b[38;5;241m=\u001b[39m \u001b[38;5;28mtuple\u001b[39m([normalize_axis_index(ax, ndim, argname) \u001b[38;5;28;01mfor\u001b[39;00m ax \u001b[38;5;129;01min\u001b[39;00m axis])\n\u001b[0;32m   1381\u001b[0m \u001b[38;5;28;01mif\u001b[39;00m \u001b[38;5;129;01mnot\u001b[39;00m allow_duplicate \u001b[38;5;129;01mand\u001b[39;00m \u001b[38;5;28mlen\u001b[39m(\u001b[38;5;28mset\u001b[39m(axis)) \u001b[38;5;241m!=\u001b[39m \u001b[38;5;28mlen\u001b[39m(axis):\n\u001b[0;32m   1382\u001b[0m     \u001b[38;5;28;01mif\u001b[39;00m argname:\n",
      "File \u001b[1;32mR:\\Ubuntu_linux\\mar_22\\lib\\site-packages\\numpy\\core\\numeric.py:1380\u001b[0m, in \u001b[0;36m<listcomp>\u001b[1;34m(.0)\u001b[0m\n\u001b[0;32m   1378\u001b[0m         \u001b[38;5;28;01mpass\u001b[39;00m\n\u001b[0;32m   1379\u001b[0m \u001b[38;5;66;03m# Going via an iterator directly is slower than via list comprehension.\u001b[39;00m\n\u001b[1;32m-> 1380\u001b[0m axis \u001b[38;5;241m=\u001b[39m \u001b[38;5;28mtuple\u001b[39m([\u001b[43mnormalize_axis_index\u001b[49m\u001b[43m(\u001b[49m\u001b[43max\u001b[49m\u001b[43m,\u001b[49m\u001b[43m \u001b[49m\u001b[43mndim\u001b[49m\u001b[43m,\u001b[49m\u001b[43m \u001b[49m\u001b[43margname\u001b[49m\u001b[43m)\u001b[49m \u001b[38;5;28;01mfor\u001b[39;00m ax \u001b[38;5;129;01min\u001b[39;00m axis])\n\u001b[0;32m   1381\u001b[0m \u001b[38;5;28;01mif\u001b[39;00m \u001b[38;5;129;01mnot\u001b[39;00m allow_duplicate \u001b[38;5;129;01mand\u001b[39;00m \u001b[38;5;28mlen\u001b[39m(\u001b[38;5;28mset\u001b[39m(axis)) \u001b[38;5;241m!=\u001b[39m \u001b[38;5;28mlen\u001b[39m(axis):\n\u001b[0;32m   1382\u001b[0m     \u001b[38;5;28;01mif\u001b[39;00m argname:\n",
      "\u001b[1;31mAxisError\u001b[0m: axis 2 is out of bounds for array of dimension 2"
     ]
    }
   ],
   "source": [
    "np.expand_dims(y, axis=2)\n",
    "# this is an ERROR, because it becomes ambigious what the dimensionality will be along axis=0 and axis=1"
   ]
  },
  {
   "cell_type": "code",
   "execution_count": 34,
   "id": "46ecfcae-6ad8-4ce1-a313-0405817cfc03",
   "metadata": {},
   "outputs": [],
   "source": [
    "a = np.random.random((3, 4))"
   ]
  },
  {
   "cell_type": "code",
   "execution_count": 35,
   "id": "f8ddf800-81ee-47cf-9fd1-7db1969c446f",
   "metadata": {},
   "outputs": [
    {
     "data": {
      "text/plain": [
       "array([[0.80747259, 0.28456294, 0.27222097, 0.91819907],\n",
       "       [0.86502172, 0.24719252, 0.38874383, 0.2305813 ],\n",
       "       [0.93866069, 0.47727175, 0.21430412, 0.23680429]])"
      ]
     },
     "execution_count": 35,
     "metadata": {},
     "output_type": "execute_result"
    }
   ],
   "source": [
    "a"
   ]
  },
  {
   "cell_type": "code",
   "execution_count": 36,
   "id": "3ac94831-1e6c-4871-9dae-9e18605f1f0f",
   "metadata": {},
   "outputs": [
    {
     "data": {
      "text/plain": [
       "array([[[0.80747259],\n",
       "        [0.28456294],\n",
       "        [0.27222097],\n",
       "        [0.91819907]],\n",
       "\n",
       "       [[0.86502172],\n",
       "        [0.24719252],\n",
       "        [0.38874383],\n",
       "        [0.2305813 ]],\n",
       "\n",
       "       [[0.93866069],\n",
       "        [0.47727175],\n",
       "        [0.21430412],\n",
       "        [0.23680429]]])"
      ]
     },
     "execution_count": 36,
     "metadata": {},
     "output_type": "execute_result"
    }
   ],
   "source": [
    "np.expand_dims(a, axis=2)"
   ]
  },
  {
   "cell_type": "code",
   "execution_count": 37,
   "id": "a4cc4eda-bee0-42d3-9849-7d0824e7df7a",
   "metadata": {},
   "outputs": [
    {
     "data": {
      "text/plain": [
       "array([[[0.80747259, 0.28456294, 0.27222097, 0.91819907],\n",
       "        [0.86502172, 0.24719252, 0.38874383, 0.2305813 ],\n",
       "        [0.93866069, 0.47727175, 0.21430412, 0.23680429]]])"
      ]
     },
     "execution_count": 37,
     "metadata": {},
     "output_type": "execute_result"
    }
   ],
   "source": [
    "np.expand_dims(a, axis=0)"
   ]
  },
  {
   "cell_type": "code",
   "execution_count": 39,
   "id": "763a69bd-e963-4957-9cfd-4da4ca2ec627",
   "metadata": {},
   "outputs": [],
   "source": [
    "r = np.expand_dims(a, axis=1)"
   ]
  },
  {
   "cell_type": "code",
   "execution_count": 40,
   "id": "2714c156-553a-4ad9-88ea-e4f555f215e6",
   "metadata": {},
   "outputs": [
    {
     "data": {
      "text/plain": [
       "array([[[0.80747259, 0.28456294, 0.27222097, 0.91819907]],\n",
       "\n",
       "       [[0.86502172, 0.24719252, 0.38874383, 0.2305813 ]],\n",
       "\n",
       "       [[0.93866069, 0.47727175, 0.21430412, 0.23680429]]])"
      ]
     },
     "execution_count": 40,
     "metadata": {},
     "output_type": "execute_result"
    }
   ],
   "source": [
    "r"
   ]
  },
  {
   "cell_type": "code",
   "execution_count": 41,
   "id": "0a03468e-6977-4084-b0b0-6dfe4b8aa20e",
   "metadata": {},
   "outputs": [
    {
     "data": {
      "text/plain": [
       "(3, 1, 4)"
      ]
     },
     "execution_count": 41,
     "metadata": {},
     "output_type": "execute_result"
    }
   ],
   "source": [
    "r.shape"
   ]
  },
  {
   "cell_type": "markdown",
   "id": "0d75d36c-913e-4a1d-9e07-041fb8944b4f",
   "metadata": {},
   "source": [
    "**2D rotation:**"
   ]
  },
  {
   "cell_type": "code",
   "execution_count": 83,
   "id": "faec13ed-f55c-4bb7-b24c-6f61601c2f5e",
   "metadata": {},
   "outputs": [],
   "source": [
    "x = np.linspace(0, 5, 100)"
   ]
  },
  {
   "cell_type": "code",
   "execution_count": 84,
   "id": "5e5dee9a-3320-4dd8-98c9-5271d3777768",
   "metadata": {},
   "outputs": [
    {
     "data": {
      "text/plain": [
       "array([0.        , 0.05050505, 0.1010101 , 0.15151515, 0.2020202 ,\n",
       "       0.25252525, 0.3030303 , 0.35353535, 0.4040404 , 0.45454545,\n",
       "       0.50505051, 0.55555556, 0.60606061, 0.65656566, 0.70707071,\n",
       "       0.75757576, 0.80808081, 0.85858586, 0.90909091, 0.95959596,\n",
       "       1.01010101, 1.06060606, 1.11111111, 1.16161616, 1.21212121,\n",
       "       1.26262626, 1.31313131, 1.36363636, 1.41414141, 1.46464646,\n",
       "       1.51515152, 1.56565657, 1.61616162, 1.66666667, 1.71717172,\n",
       "       1.76767677, 1.81818182, 1.86868687, 1.91919192, 1.96969697,\n",
       "       2.02020202, 2.07070707, 2.12121212, 2.17171717, 2.22222222,\n",
       "       2.27272727, 2.32323232, 2.37373737, 2.42424242, 2.47474747,\n",
       "       2.52525253, 2.57575758, 2.62626263, 2.67676768, 2.72727273,\n",
       "       2.77777778, 2.82828283, 2.87878788, 2.92929293, 2.97979798,\n",
       "       3.03030303, 3.08080808, 3.13131313, 3.18181818, 3.23232323,\n",
       "       3.28282828, 3.33333333, 3.38383838, 3.43434343, 3.48484848,\n",
       "       3.53535354, 3.58585859, 3.63636364, 3.68686869, 3.73737374,\n",
       "       3.78787879, 3.83838384, 3.88888889, 3.93939394, 3.98989899,\n",
       "       4.04040404, 4.09090909, 4.14141414, 4.19191919, 4.24242424,\n",
       "       4.29292929, 4.34343434, 4.39393939, 4.44444444, 4.49494949,\n",
       "       4.54545455, 4.5959596 , 4.64646465, 4.6969697 , 4.74747475,\n",
       "       4.7979798 , 4.84848485, 4.8989899 , 4.94949495, 5.        ])"
      ]
     },
     "execution_count": 84,
     "metadata": {},
     "output_type": "execute_result"
    }
   ],
   "source": [
    "x"
   ]
  },
  {
   "cell_type": "code",
   "execution_count": 97,
   "id": "18532338-05e1-47f5-9277-98e00be98162",
   "metadata": {},
   "outputs": [],
   "source": [
    "e = []\n",
    "for i in range(25):\n",
    "    e.append([np.random.choice(x), np.random.choice(x)])"
   ]
  },
  {
   "cell_type": "code",
   "execution_count": 98,
   "id": "7b5ecd43-a2cc-4622-949c-da36771cf862",
   "metadata": {},
   "outputs": [],
   "source": [
    "e = np.array(e)"
   ]
  },
  {
   "cell_type": "code",
   "execution_count": 99,
   "id": "04bb9679-0a60-4b25-b217-695fadf6aa9e",
   "metadata": {},
   "outputs": [
    {
     "data": {
      "text/plain": [
       "array([[4.64646465, 2.77777778],\n",
       "       [4.49494949, 4.8989899 ],\n",
       "       [3.13131313, 3.98989899],\n",
       "       [4.39393939, 0.50505051],\n",
       "       [0.95959596, 0.25252525],\n",
       "       [0.75757576, 4.54545455],\n",
       "       [2.02020202, 2.97979798],\n",
       "       [2.22222222, 3.13131313],\n",
       "       [1.26262626, 4.09090909],\n",
       "       [3.88888889, 2.77777778],\n",
       "       [2.52525253, 0.80808081],\n",
       "       [2.32323232, 5.        ],\n",
       "       [4.64646465, 1.91919192],\n",
       "       [1.91919192, 2.47474747],\n",
       "       [2.52525253, 0.90909091],\n",
       "       [1.01010101, 1.16161616],\n",
       "       [1.01010101, 1.71717172],\n",
       "       [2.27272727, 4.09090909],\n",
       "       [2.97979798, 2.82828283],\n",
       "       [4.19191919, 4.6969697 ],\n",
       "       [0.45454545, 1.61616162],\n",
       "       [3.13131313, 0.80808081],\n",
       "       [4.54545455, 4.29292929],\n",
       "       [4.24242424, 1.71717172],\n",
       "       [4.44444444, 1.41414141]])"
      ]
     },
     "execution_count": 99,
     "metadata": {},
     "output_type": "execute_result"
    }
   ],
   "source": [
    "e"
   ]
  },
  {
   "cell_type": "code",
   "execution_count": 100,
   "id": "be27fe5c-6a97-4cdf-a34d-aa0217c34aa5",
   "metadata": {},
   "outputs": [],
   "source": [
    "import matplotlib.pyplot as plt"
   ]
  },
  {
   "cell_type": "code",
   "execution_count": 127,
   "id": "fd6daf5a-ae5f-47e4-816f-25463a34cdfe",
   "metadata": {},
   "outputs": [
    {
     "data": {
      "text/plain": [
       "(-10.0, 15.0)"
      ]
     },
     "execution_count": 127,
     "metadata": {},
     "output_type": "execute_result"
    },
    {
     "data": {
      "image/png": "[encoded data removed]",
      "text/plain": [
       "<Figure size 640x480 with 1 Axes>"
      ]
     },
     "metadata": {},
     "output_type": "display_data"
    }
   ],
   "source": [
    "plt.plot(e[:,0], e[:, 1], \".b\")\n",
    "plt.xlim(-10, 15)\n",
    "plt.ylim(-10, 15)"
   ]
  },
  {
   "cell_type": "code",
   "execution_count": 132,
   "id": "9fd0021c-3231-433f-b381-2d5fab0c1b35",
   "metadata": {},
   "outputs": [
    {
     "data": {
      "text/plain": [
       "(-10.0, 15.0)"
      ]
     },
     "execution_count": 132,
     "metadata": {},
     "output_type": "execute_result"
    },
    {
     "data": {
      "image/png": "[encoded data removed]",
      "text/plain": [
       "<Figure size 640x480 with 1 Axes>"
      ]
     },
     "metadata": {},
     "output_type": "display_data"
    }
   ],
   "source": [
    "plt.plot(t.T[:,0], t.T[:, 1], \".b\")\n",
    "plt.xlim(-10, 15)\n",
    "plt.ylim(-10, 15)"
   ]
  },
  {
   "cell_type": "code",
   "execution_count": 128,
   "id": "af44361d-48c0-42f9-a990-ef4e67ac9b2d",
   "metadata": {},
   "outputs": [],
   "source": [
    "theta = np.pi / 2\n",
    "m = np.array([[np.cos(theta), -np.sin(theta)], [np.sin(theta), np.cos(theta)]])"
   ]
  },
  {
   "cell_type": "code",
   "execution_count": 129,
   "id": "25c86602-0f35-404f-bc4a-c5646809d2ca",
   "metadata": {},
   "outputs": [
    {
     "data": {
      "text/plain": [
       "array([[ 6.123234e-17, -1.000000e+00],\n",
       "       [ 1.000000e+00,  6.123234e-17]])"
      ]
     },
     "execution_count": 129,
     "metadata": {},
     "output_type": "execute_result"
    }
   ],
   "source": [
    "m"
   ]
  },
  {
   "cell_type": "code",
   "execution_count": 130,
   "id": "44e4290b-daee-49c1-bd75-d60f2b08dc0a",
   "metadata": {},
   "outputs": [],
   "source": [
    "t = np.dot(m, e.T)"
   ]
  },
  {
   "cell_type": "code",
   "execution_count": 131,
   "id": "c989204a-aeea-4bff-b44b-3a522afea13b",
   "metadata": {},
   "outputs": [
    {
     "data": {
      "text/plain": [
       "array([[-2.77777778,  4.64646465],\n",
       "       [-4.8989899 ,  4.49494949],\n",
       "       [-3.98989899,  3.13131313],\n",
       "       [-0.50505051,  4.39393939],\n",
       "       [-0.25252525,  0.95959596],\n",
       "       [-4.54545455,  0.75757576],\n",
       "       [-2.97979798,  2.02020202],\n",
       "       [-3.13131313,  2.22222222],\n",
       "       [-4.09090909,  1.26262626],\n",
       "       [-2.77777778,  3.88888889],\n",
       "       [-0.80808081,  2.52525253],\n",
       "       [-5.        ,  2.32323232],\n",
       "       [-1.91919192,  4.64646465],\n",
       "       [-2.47474747,  1.91919192],\n",
       "       [-0.90909091,  2.52525253],\n",
       "       [-1.16161616,  1.01010101],\n",
       "       [-1.71717172,  1.01010101],\n",
       "       [-4.09090909,  2.27272727],\n",
       "       [-2.82828283,  2.97979798],\n",
       "       [-4.6969697 ,  4.19191919],\n",
       "       [-1.61616162,  0.45454545],\n",
       "       [-0.80808081,  3.13131313],\n",
       "       [-4.29292929,  4.54545455],\n",
       "       [-1.71717172,  4.24242424],\n",
       "       [-1.41414141,  4.44444444]])"
      ]
     },
     "execution_count": 131,
     "metadata": {},
     "output_type": "execute_result"
    }
   ],
   "source": [
    "t.T"
   ]
  },
  {
   "cell_type": "markdown",
   "id": "23b2b2df-d74a-4f4e-b647-15faa2637e50",
   "metadata": {},
   "source": [
    "**Understanding division of column vector by row vector and vice versa:**"
   ]
  },
  {
   "cell_type": "code",
   "execution_count": 5,
   "id": "9a9b71f0-60f0-4f0c-a0bf-fce789dfe66d",
   "metadata": {},
   "outputs": [],
   "source": [
    "a = np.arange(1,5).reshape(1, -1)"
   ]
  },
  {
   "cell_type": "code",
   "execution_count": 6,
   "id": "70ea1430-1b80-4c80-8393-22c769c8957c",
   "metadata": {},
   "outputs": [
    {
     "data": {
      "text/plain": [
       "array([[1, 2, 3, 4]])"
      ]
     },
     "execution_count": 6,
     "metadata": {},
     "output_type": "execute_result"
    }
   ],
   "source": [
    "a"
   ]
  },
  {
   "cell_type": "code",
   "execution_count": 7,
   "id": "0c7eb946-4ace-4018-83df-ff4ebf115cf3",
   "metadata": {},
   "outputs": [],
   "source": [
    "b = np.arange(5,10).reshape(-1, 1)"
   ]
  },
  {
   "cell_type": "code",
   "execution_count": 8,
   "id": "301a31b5-1158-4c05-b5f3-e2fb61ecd3fd",
   "metadata": {},
   "outputs": [
    {
     "data": {
      "text/plain": [
       "array([[5],\n",
       "       [6],\n",
       "       [7],\n",
       "       [8],\n",
       "       [9]])"
      ]
     },
     "execution_count": 8,
     "metadata": {},
     "output_type": "execute_result"
    }
   ],
   "source": [
    "b"
   ]
  },
  {
   "cell_type": "code",
   "execution_count": 9,
   "id": "59887f75-cc0a-47e5-b120-5dfc8a841c2e",
   "metadata": {},
   "outputs": [
    {
     "data": {
      "text/plain": [
       "array([[5.        , 2.5       , 1.66666667, 1.25      ],\n",
       "       [6.        , 3.        , 2.        , 1.5       ],\n",
       "       [7.        , 3.5       , 2.33333333, 1.75      ],\n",
       "       [8.        , 4.        , 2.66666667, 2.        ],\n",
       "       [9.        , 4.5       , 3.        , 2.25      ]])"
      ]
     },
     "execution_count": 9,
     "metadata": {},
     "output_type": "execute_result"
    }
   ],
   "source": [
    "b / a"
   ]
  },
  {
   "cell_type": "code",
   "execution_count": 10,
   "id": "3e3c44b3-d16e-4de9-81c8-436247ec11e8",
   "metadata": {},
   "outputs": [
    {
     "data": {
      "text/plain": [
       "array([[0.2       , 0.4       , 0.6       , 0.8       ],\n",
       "       [0.16666667, 0.33333333, 0.5       , 0.66666667],\n",
       "       [0.14285714, 0.28571429, 0.42857143, 0.57142857],\n",
       "       [0.125     , 0.25      , 0.375     , 0.5       ],\n",
       "       [0.11111111, 0.22222222, 0.33333333, 0.44444444]])"
      ]
     },
     "execution_count": 10,
     "metadata": {},
     "output_type": "execute_result"
    }
   ],
   "source": [
    "a / b"
   ]
  },
  {
   "cell_type": "markdown",
   "id": "4f223a37-2384-43bc-9fe7-0d201c3dc92f",
   "metadata": {},
   "source": [
    "**Add a new axis/dimension to a numpy array:** \n",
    "\n",
    "using `np.newaxis`"
   ]
  },
  {
   "cell_type": "code",
   "execution_count": 11,
   "id": "62f7d80a-c1cd-4730-827b-70d5b4914d72",
   "metadata": {},
   "outputs": [],
   "source": [
    "x = np.arange(5)"
   ]
  },
  {
   "cell_type": "code",
   "execution_count": 12,
   "id": "7452fb08-041f-46cc-abf7-4a0772f0cec6",
   "metadata": {},
   "outputs": [
    {
     "data": {
      "text/plain": [
       "array([0, 1, 2, 3, 4])"
      ]
     },
     "execution_count": 12,
     "metadata": {},
     "output_type": "execute_result"
    }
   ],
   "source": [
    "x"
   ]
  },
  {
   "cell_type": "code",
   "execution_count": 13,
   "id": "d93cfec4-362f-4354-8a5d-985690833405",
   "metadata": {},
   "outputs": [
    {
     "data": {
      "text/plain": [
       "array([[0],\n",
       "       [1],\n",
       "       [2],\n",
       "       [3],\n",
       "       [4]])"
      ]
     },
     "execution_count": 13,
     "metadata": {},
     "output_type": "execute_result"
    }
   ],
   "source": [
    "x[:, np.newaxis]"
   ]
  },
  {
   "cell_type": "code",
   "execution_count": 16,
   "id": "28b775f5-3405-40e6-9d26-cd91f61d2d42",
   "metadata": {},
   "outputs": [
    {
     "data": {
      "text/plain": [
       "array([[0, 1, 2, 3, 4]])"
      ]
     },
     "execution_count": 16,
     "metadata": {},
     "output_type": "execute_result"
    }
   ],
   "source": [
    "x[np.newaxis, :]"
   ]
  },
  {
   "cell_type": "code",
   "execution_count": null,
   "id": "a0a746d6-4f0d-4835-b050-5d1949a4d71e",
   "metadata": {},
   "outputs": [],
   "source": []
  },
  {
   "cell_type": "code",
   "execution_count": 66,
   "id": "ac2f9954-fdde-45ed-892b-2daeb689e7ad",
   "metadata": {},
   "outputs": [],
   "source": [
    "z = np.zeros((x.shape[0] * y.shape[0], 2))"
   ]
  },
  {
   "cell_type": "code",
   "execution_count": 68,
   "id": "7112777e-ab8b-4890-a117-719d6e21ed7a",
   "metadata": {},
   "outputs": [
    {
     "data": {
      "text/plain": [
       "(100, 100)"
      ]
     },
     "execution_count": 68,
     "metadata": {},
     "output_type": "execute_result"
    }
   ],
   "source": [
    "for idx, val in enumerate(x):\n",
    "    z[idx, :]"
   ]
  },
  {
   "cell_type": "markdown",
   "id": "05bf5d97-8e3a-41a1-a88f-403ab2393c0e",
   "metadata": {},
   "source": [
    "# to do/explain here\n",
    "- np.corrcoef() - islp ch2 lab\n",
    "- rng = np.random.default_rng()- islp ch2 lab\n",
    "- np.isnan()\n",
    "- np.ix_() to create mesh that then can be used to select out submatrices from a numpy array\n",
    "- np.all(), np.any()"
   ]
  },
  {
   "cell_type": "code",
   "execution_count": null,
   "id": "d4339d60-075a-488a-aab5-f5cd4ff9c542",
   "metadata": {},
   "outputs": [],
   "source": []
  }
 ],
 "metadata": {
  "kernelspec": {
   "display_name": "Python 3 (ipykernel)",
   "language": "python",
   "name": "python3"
  },
  "language_info": {
   "codemirror_mode": {
    "name": "ipython",
    "version": 3
   },
   "file_extension": ".py",
   "mimetype": "text/x-python",
   "name": "python",
   "nbconvert_exporter": "python",
   "pygments_lexer": "ipython3",
   "version": "3.9.6"
  }
 },
 "nbformat": 4,
 "nbformat_minor": 5
}
